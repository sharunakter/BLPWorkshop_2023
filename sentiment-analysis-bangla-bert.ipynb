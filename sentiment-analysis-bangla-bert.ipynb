{
 "cells": [
  {
   "cell_type": "code",
   "execution_count": 1,
   "id": "a9f45b8e",
   "metadata": {
    "execution": {
     "iopub.execute_input": "2023-09-03T08:26:48.707309Z",
     "iopub.status.busy": "2023-09-03T08:26:48.706838Z",
     "iopub.status.idle": "2023-09-03T08:26:49.463337Z",
     "shell.execute_reply": "2023-09-03T08:26:49.462406Z"
    },
    "papermill": {
     "duration": 0.805255,
     "end_time": "2023-09-03T08:26:49.465878",
     "exception": false,
     "start_time": "2023-09-03T08:26:48.660623",
     "status": "completed"
    },
    "tags": []
   },
   "outputs": [],
   "source": [
    "# This Python 3 environment comes with many helpful analytics libraries installed\n",
    "# It is defined by the kaggle/python Docker image: https://github.com/kaggle/docker-python\n",
    "# For example, here's several helpful packages to load\n",
    "\n",
    "import numpy as np # linear algebra\n",
    "import pandas as pd # data processing, CSV file I/O (e.g. pd.read_csv)\n",
    "\n",
    "# Input data files are available in the read-only \"../input/\" directory\n",
    "# For example, running this (by clicking run or pressing Shift+Enter) will list all files under the input directory\n",
    "\n",
    "import os\n",
    "# for dirname, _, filenames in os.walk('/kaggle/input'):\n",
    "#     for filename in filenames:\n",
    "#         print(os.path.join(dirname, filename))\n",
    "\n",
    "# You can write up to 20GB to the current directory (/kaggle/working/) that gets preserved as output when you create a version using \"Save & Run All\" \n",
    "# You can also write temporary files to /kaggle/temp/, but they won't be saved outside of the current "
   ]
  },
  {
   "cell_type": "code",
   "execution_count": 2,
   "id": "f7dbb827",
   "metadata": {
    "execution": {
     "iopub.execute_input": "2023-09-03T08:26:49.556657Z",
     "iopub.status.busy": "2023-09-03T08:26:49.555572Z",
     "iopub.status.idle": "2023-09-03T08:26:51.065425Z",
     "shell.execute_reply": "2023-09-03T08:26:51.064231Z"
    },
    "papermill": {
     "duration": 1.558964,
     "end_time": "2023-09-03T08:26:51.069024",
     "exception": false,
     "start_time": "2023-09-03T08:26:49.510060",
     "status": "completed"
    },
    "tags": []
   },
   "outputs": [
    {
     "name": "stdout",
     "output_type": "stream",
     "text": [
      "--2023-09-03 08:26:50--  https://raw.githubusercontent.com/DeepProgram/random/main/blp23_sentiment_test_with_label.tsv\r\n",
      "Resolving raw.githubusercontent.com (raw.githubusercontent.com)... 185.199.108.133, 185.199.109.133, 185.199.110.133, ...\r\n",
      "Connecting to raw.githubusercontent.com (raw.githubusercontent.com)|185.199.108.133|:443... connected.\r\n",
      "HTTP request sent, awaiting response... 200 OK\r\n",
      "Length: 1626269 (1.6M) [text/plain]\r\n",
      "Saving to: ‘blp23_sentiment_test_with_label.tsv’\r\n",
      "\r\n",
      "blp23_sentiment_tes 100%[===================>]   1.55M  --.-KB/s    in 0.02s   \r\n",
      "\r\n",
      "2023-09-03 08:26:50 (66.8 MB/s) - ‘blp23_sentiment_test_with_label.tsv’ saved [1626269/1626269]\r\n",
      "\r\n"
     ]
    }
   ],
   "source": [
    "!wget \"https://raw.githubusercontent.com/DeepProgram/random/main/blp23_sentiment_test_with_label.tsv\""
   ]
  },
  {
   "cell_type": "code",
   "execution_count": 3,
   "id": "891a9e7a",
   "metadata": {
    "execution": {
     "iopub.execute_input": "2023-09-03T08:26:51.203832Z",
     "iopub.status.busy": "2023-09-03T08:26:51.203358Z",
     "iopub.status.idle": "2023-09-03T08:27:40.908923Z",
     "shell.execute_reply": "2023-09-03T08:27:40.907633Z"
    },
    "id": "yceWRGZWLfm-",
    "outputId": "22571e2a-131f-4322-91d4-ff16e60d31bf",
    "papermill": {
     "duration": 49.776895,
     "end_time": "2023-09-03T08:27:40.911640",
     "exception": false,
     "start_time": "2023-09-03T08:26:51.134745",
     "status": "completed"
    },
    "tags": []
   },
   "outputs": [
    {
     "name": "stdout",
     "output_type": "stream",
     "text": [
      "Requirement already satisfied: transformers in /opt/conda/lib/python3.10/site-packages (4.32.1)\r\n",
      "Requirement already satisfied: filelock in /opt/conda/lib/python3.10/site-packages (from transformers) (3.12.2)\r\n",
      "Requirement already satisfied: huggingface-hub<1.0,>=0.15.1 in /opt/conda/lib/python3.10/site-packages (from transformers) (0.16.4)\r\n",
      "Requirement already satisfied: numpy>=1.17 in /opt/conda/lib/python3.10/site-packages (from transformers) (1.23.5)\r\n",
      "Requirement already satisfied: packaging>=20.0 in /opt/conda/lib/python3.10/site-packages (from transformers) (21.3)\r\n",
      "Requirement already satisfied: pyyaml>=5.1 in /opt/conda/lib/python3.10/site-packages (from transformers) (6.0)\r\n",
      "Requirement already satisfied: regex!=2019.12.17 in /opt/conda/lib/python3.10/site-packages (from transformers) (2023.6.3)\r\n",
      "Requirement already satisfied: requests in /opt/conda/lib/python3.10/site-packages (from transformers) (2.31.0)\r\n",
      "Requirement already satisfied: tokenizers!=0.11.3,<0.14,>=0.11.1 in /opt/conda/lib/python3.10/site-packages (from transformers) (0.13.3)\r\n",
      "Requirement already satisfied: safetensors>=0.3.1 in /opt/conda/lib/python3.10/site-packages (from transformers) (0.3.3)\r\n",
      "Requirement already satisfied: tqdm>=4.27 in /opt/conda/lib/python3.10/site-packages (from transformers) (4.66.1)\r\n",
      "Requirement already satisfied: fsspec in /opt/conda/lib/python3.10/site-packages (from huggingface-hub<1.0,>=0.15.1->transformers) (2023.6.0)\r\n",
      "Requirement already satisfied: typing-extensions>=3.7.4.3 in /opt/conda/lib/python3.10/site-packages (from huggingface-hub<1.0,>=0.15.1->transformers) (4.6.3)\r\n",
      "Requirement already satisfied: pyparsing!=3.0.5,>=2.0.2 in /opt/conda/lib/python3.10/site-packages (from packaging>=20.0->transformers) (3.0.9)\r\n",
      "Requirement already satisfied: charset-normalizer<4,>=2 in /opt/conda/lib/python3.10/site-packages (from requests->transformers) (3.1.0)\r\n",
      "Requirement already satisfied: idna<4,>=2.5 in /opt/conda/lib/python3.10/site-packages (from requests->transformers) (3.4)\r\n",
      "Requirement already satisfied: urllib3<3,>=1.21.1 in /opt/conda/lib/python3.10/site-packages (from requests->transformers) (1.26.15)\r\n",
      "Requirement already satisfied: certifi>=2017.4.17 in /opt/conda/lib/python3.10/site-packages (from requests->transformers) (2023.7.22)\r\n",
      "Requirement already satisfied: datasets in /opt/conda/lib/python3.10/site-packages (2.1.0)\r\n",
      "Requirement already satisfied: numpy>=1.17 in /opt/conda/lib/python3.10/site-packages (from datasets) (1.23.5)\r\n",
      "Requirement already satisfied: pyarrow>=5.0.0 in /opt/conda/lib/python3.10/site-packages (from datasets) (11.0.0)\r\n",
      "Requirement already satisfied: dill in /opt/conda/lib/python3.10/site-packages (from datasets) (0.3.7)\r\n",
      "Requirement already satisfied: pandas in /opt/conda/lib/python3.10/site-packages (from datasets) (2.0.2)\r\n",
      "Requirement already satisfied: requests>=2.19.0 in /opt/conda/lib/python3.10/site-packages (from datasets) (2.31.0)\r\n",
      "Requirement already satisfied: tqdm>=4.62.1 in /opt/conda/lib/python3.10/site-packages (from datasets) (4.66.1)\r\n",
      "Requirement already satisfied: xxhash in /opt/conda/lib/python3.10/site-packages (from datasets) (3.3.0)\r\n",
      "Requirement already satisfied: multiprocess in /opt/conda/lib/python3.10/site-packages (from datasets) (0.70.15)\r\n",
      "Requirement already satisfied: fsspec[http]>=2021.05.0 in /opt/conda/lib/python3.10/site-packages (from datasets) (2023.6.0)\r\n",
      "Requirement already satisfied: aiohttp in /opt/conda/lib/python3.10/site-packages (from datasets) (3.8.4)\r\n",
      "Requirement already satisfied: huggingface-hub<1.0.0,>=0.1.0 in /opt/conda/lib/python3.10/site-packages (from datasets) (0.16.4)\r\n",
      "Requirement already satisfied: packaging in /opt/conda/lib/python3.10/site-packages (from datasets) (21.3)\r\n",
      "Requirement already satisfied: responses<0.19 in /opt/conda/lib/python3.10/site-packages (from datasets) (0.18.0)\r\n",
      "Requirement already satisfied: attrs>=17.3.0 in /opt/conda/lib/python3.10/site-packages (from aiohttp->datasets) (23.1.0)\r\n",
      "Requirement already satisfied: charset-normalizer<4.0,>=2.0 in /opt/conda/lib/python3.10/site-packages (from aiohttp->datasets) (3.1.0)\r\n",
      "Requirement already satisfied: multidict<7.0,>=4.5 in /opt/conda/lib/python3.10/site-packages (from aiohttp->datasets) (6.0.4)\r\n",
      "Requirement already satisfied: async-timeout<5.0,>=4.0.0a3 in /opt/conda/lib/python3.10/site-packages (from aiohttp->datasets) (4.0.2)\r\n",
      "Requirement already satisfied: yarl<2.0,>=1.0 in /opt/conda/lib/python3.10/site-packages (from aiohttp->datasets) (1.9.2)\r\n",
      "Requirement already satisfied: frozenlist>=1.1.1 in /opt/conda/lib/python3.10/site-packages (from aiohttp->datasets) (1.3.3)\r\n",
      "Requirement already satisfied: aiosignal>=1.1.2 in /opt/conda/lib/python3.10/site-packages (from aiohttp->datasets) (1.3.1)\r\n",
      "Requirement already satisfied: filelock in /opt/conda/lib/python3.10/site-packages (from huggingface-hub<1.0.0,>=0.1.0->datasets) (3.12.2)\r\n",
      "Requirement already satisfied: pyyaml>=5.1 in /opt/conda/lib/python3.10/site-packages (from huggingface-hub<1.0.0,>=0.1.0->datasets) (6.0)\r\n",
      "Requirement already satisfied: typing-extensions>=3.7.4.3 in /opt/conda/lib/python3.10/site-packages (from huggingface-hub<1.0.0,>=0.1.0->datasets) (4.6.3)\r\n",
      "Requirement already satisfied: pyparsing!=3.0.5,>=2.0.2 in /opt/conda/lib/python3.10/site-packages (from packaging->datasets) (3.0.9)\r\n",
      "Requirement already satisfied: idna<4,>=2.5 in /opt/conda/lib/python3.10/site-packages (from requests>=2.19.0->datasets) (3.4)\r\n",
      "Requirement already satisfied: urllib3<3,>=1.21.1 in /opt/conda/lib/python3.10/site-packages (from requests>=2.19.0->datasets) (1.26.15)\r\n",
      "Requirement already satisfied: certifi>=2017.4.17 in /opt/conda/lib/python3.10/site-packages (from requests>=2.19.0->datasets) (2023.7.22)\r\n",
      "Requirement already satisfied: python-dateutil>=2.8.2 in /opt/conda/lib/python3.10/site-packages (from pandas->datasets) (2.8.2)\r\n",
      "Requirement already satisfied: pytz>=2020.1 in /opt/conda/lib/python3.10/site-packages (from pandas->datasets) (2023.3)\r\n",
      "Requirement already satisfied: tzdata>=2022.1 in /opt/conda/lib/python3.10/site-packages (from pandas->datasets) (2023.3)\r\n",
      "Requirement already satisfied: six>=1.5 in /opt/conda/lib/python3.10/site-packages (from python-dateutil>=2.8.2->pandas->datasets) (1.16.0)\r\n",
      "Collecting evaluate\r\n",
      "  Downloading evaluate-0.4.0-py3-none-any.whl (81 kB)\r\n",
      "\u001b[2K     \u001b[90m━━━━━━━━━━━━━━━━━━━━━━━━━━━━━━━━━━━━━━━━\u001b[0m \u001b[32m81.4/81.4 kB\u001b[0m \u001b[31m4.8 MB/s\u001b[0m eta \u001b[36m0:00:00\u001b[0m\r\n",
      "\u001b[?25hRequirement already satisfied: datasets>=2.0.0 in /opt/conda/lib/python3.10/site-packages (from evaluate) (2.1.0)\r\n",
      "Requirement already satisfied: numpy>=1.17 in /opt/conda/lib/python3.10/site-packages (from evaluate) (1.23.5)\r\n",
      "Requirement already satisfied: dill in /opt/conda/lib/python3.10/site-packages (from evaluate) (0.3.7)\r\n",
      "Requirement already satisfied: pandas in /opt/conda/lib/python3.10/site-packages (from evaluate) (2.0.2)\r\n",
      "Requirement already satisfied: requests>=2.19.0 in /opt/conda/lib/python3.10/site-packages (from evaluate) (2.31.0)\r\n",
      "Requirement already satisfied: tqdm>=4.62.1 in /opt/conda/lib/python3.10/site-packages (from evaluate) (4.66.1)\r\n",
      "Requirement already satisfied: xxhash in /opt/conda/lib/python3.10/site-packages (from evaluate) (3.3.0)\r\n",
      "Requirement already satisfied: multiprocess in /opt/conda/lib/python3.10/site-packages (from evaluate) (0.70.15)\r\n",
      "Requirement already satisfied: fsspec[http]>=2021.05.0 in /opt/conda/lib/python3.10/site-packages (from evaluate) (2023.6.0)\r\n",
      "Requirement already satisfied: huggingface-hub>=0.7.0 in /opt/conda/lib/python3.10/site-packages (from evaluate) (0.16.4)\r\n",
      "Requirement already satisfied: packaging in /opt/conda/lib/python3.10/site-packages (from evaluate) (21.3)\r\n",
      "Requirement already satisfied: responses<0.19 in /opt/conda/lib/python3.10/site-packages (from evaluate) (0.18.0)\r\n",
      "Requirement already satisfied: pyarrow>=5.0.0 in /opt/conda/lib/python3.10/site-packages (from datasets>=2.0.0->evaluate) (11.0.0)\r\n",
      "Requirement already satisfied: aiohttp in /opt/conda/lib/python3.10/site-packages (from datasets>=2.0.0->evaluate) (3.8.4)\r\n",
      "Requirement already satisfied: filelock in /opt/conda/lib/python3.10/site-packages (from huggingface-hub>=0.7.0->evaluate) (3.12.2)\r\n",
      "Requirement already satisfied: pyyaml>=5.1 in /opt/conda/lib/python3.10/site-packages (from huggingface-hub>=0.7.0->evaluate) (6.0)\r\n",
      "Requirement already satisfied: typing-extensions>=3.7.4.3 in /opt/conda/lib/python3.10/site-packages (from huggingface-hub>=0.7.0->evaluate) (4.6.3)\r\n",
      "Requirement already satisfied: pyparsing!=3.0.5,>=2.0.2 in /opt/conda/lib/python3.10/site-packages (from packaging->evaluate) (3.0.9)\r\n",
      "Requirement already satisfied: charset-normalizer<4,>=2 in /opt/conda/lib/python3.10/site-packages (from requests>=2.19.0->evaluate) (3.1.0)\r\n",
      "Requirement already satisfied: idna<4,>=2.5 in /opt/conda/lib/python3.10/site-packages (from requests>=2.19.0->evaluate) (3.4)\r\n",
      "Requirement already satisfied: urllib3<3,>=1.21.1 in /opt/conda/lib/python3.10/site-packages (from requests>=2.19.0->evaluate) (1.26.15)\r\n",
      "Requirement already satisfied: certifi>=2017.4.17 in /opt/conda/lib/python3.10/site-packages (from requests>=2.19.0->evaluate) (2023.7.22)\r\n",
      "Requirement already satisfied: python-dateutil>=2.8.2 in /opt/conda/lib/python3.10/site-packages (from pandas->evaluate) (2.8.2)\r\n",
      "Requirement already satisfied: pytz>=2020.1 in /opt/conda/lib/python3.10/site-packages (from pandas->evaluate) (2023.3)\r\n",
      "Requirement already satisfied: tzdata>=2022.1 in /opt/conda/lib/python3.10/site-packages (from pandas->evaluate) (2023.3)\r\n",
      "Requirement already satisfied: attrs>=17.3.0 in /opt/conda/lib/python3.10/site-packages (from aiohttp->datasets>=2.0.0->evaluate) (23.1.0)\r\n",
      "Requirement already satisfied: multidict<7.0,>=4.5 in /opt/conda/lib/python3.10/site-packages (from aiohttp->datasets>=2.0.0->evaluate) (6.0.4)\r\n",
      "Requirement already satisfied: async-timeout<5.0,>=4.0.0a3 in /opt/conda/lib/python3.10/site-packages (from aiohttp->datasets>=2.0.0->evaluate) (4.0.2)\r\n",
      "Requirement already satisfied: yarl<2.0,>=1.0 in /opt/conda/lib/python3.10/site-packages (from aiohttp->datasets>=2.0.0->evaluate) (1.9.2)\r\n",
      "Requirement already satisfied: frozenlist>=1.1.1 in /opt/conda/lib/python3.10/site-packages (from aiohttp->datasets>=2.0.0->evaluate) (1.3.3)\r\n",
      "Requirement already satisfied: aiosignal>=1.1.2 in /opt/conda/lib/python3.10/site-packages (from aiohttp->datasets>=2.0.0->evaluate) (1.3.1)\r\n",
      "Requirement already satisfied: six>=1.5 in /opt/conda/lib/python3.10/site-packages (from python-dateutil>=2.8.2->pandas->evaluate) (1.16.0)\r\n",
      "Installing collected packages: evaluate\r\n",
      "Successfully installed evaluate-0.4.0\r\n",
      "Requirement already satisfied: accelerate in /opt/conda/lib/python3.10/site-packages (0.22.0)\r\n",
      "Requirement already satisfied: numpy>=1.17 in /opt/conda/lib/python3.10/site-packages (from accelerate) (1.23.5)\r\n",
      "Requirement already satisfied: packaging>=20.0 in /opt/conda/lib/python3.10/site-packages (from accelerate) (21.3)\r\n",
      "Requirement already satisfied: psutil in /opt/conda/lib/python3.10/site-packages (from accelerate) (5.9.3)\r\n",
      "Requirement already satisfied: pyyaml in /opt/conda/lib/python3.10/site-packages (from accelerate) (6.0)\r\n",
      "Requirement already satisfied: torch>=1.10.0 in /opt/conda/lib/python3.10/site-packages (from accelerate) (2.0.0)\r\n",
      "Requirement already satisfied: pyparsing!=3.0.5,>=2.0.2 in /opt/conda/lib/python3.10/site-packages (from packaging>=20.0->accelerate) (3.0.9)\r\n",
      "Requirement already satisfied: filelock in /opt/conda/lib/python3.10/site-packages (from torch>=1.10.0->accelerate) (3.12.2)\r\n",
      "Requirement already satisfied: typing-extensions in /opt/conda/lib/python3.10/site-packages (from torch>=1.10.0->accelerate) (4.6.3)\r\n",
      "Requirement already satisfied: sympy in /opt/conda/lib/python3.10/site-packages (from torch>=1.10.0->accelerate) (1.12)\r\n",
      "Requirement already satisfied: networkx in /opt/conda/lib/python3.10/site-packages (from torch>=1.10.0->accelerate) (3.1)\r\n",
      "Requirement already satisfied: jinja2 in /opt/conda/lib/python3.10/site-packages (from torch>=1.10.0->accelerate) (3.1.2)\r\n",
      "Requirement already satisfied: MarkupSafe>=2.0 in /opt/conda/lib/python3.10/site-packages (from jinja2->torch>=1.10.0->accelerate) (2.1.3)\r\n",
      "Requirement already satisfied: mpmath>=0.19 in /opt/conda/lib/python3.10/site-packages (from sympy->torch>=1.10.0->accelerate) (1.3.0)\r\n"
     ]
    }
   ],
   "source": [
    "!pip install transformers\n",
    "!pip install datasets\n",
    "!pip install evaluate\n",
    "!pip install --upgrade accelerate"
   ]
  },
  {
   "cell_type": "code",
   "execution_count": 4,
   "id": "a9d61744",
   "metadata": {
    "execution": {
     "iopub.execute_input": "2023-09-03T08:27:41.009712Z",
     "iopub.status.busy": "2023-09-03T08:27:41.008751Z",
     "iopub.status.idle": "2023-09-03T08:27:57.058065Z",
     "shell.execute_reply": "2023-09-03T08:27:57.057087Z"
    },
    "id": "UT6mWr4PLj34",
    "papermill": {
     "duration": 16.10001,
     "end_time": "2023-09-03T08:27:57.060827",
     "exception": false,
     "start_time": "2023-09-03T08:27:40.960817",
     "status": "completed"
    },
    "tags": []
   },
   "outputs": [
    {
     "name": "stderr",
     "output_type": "stream",
     "text": [
      "/opt/conda/lib/python3.10/site-packages/scipy/__init__.py:146: UserWarning: A NumPy version >=1.16.5 and <1.23.0 is required for this version of SciPy (detected version 1.23.5\n",
      "  warnings.warn(f\"A NumPy version >={np_minversion} and <{np_maxversion}\"\n"
     ]
    }
   ],
   "source": [
    "import logging\n",
    "import os\n",
    "import random\n",
    "import sys\n",
    "from dataclasses import dataclass, field\n",
    "from typing import Optional\n",
    "import pandas as pd\n",
    "import datasets\n",
    "import evaluate\n",
    "import numpy as np\n",
    "from datasets import load_dataset, Dataset, DatasetDict\n",
    "import torch\n",
    "\n",
    "import transformers\n",
    "from transformers import (\n",
    "    AutoConfig,\n",
    "    AutoModelForSequenceClassification,\n",
    "    AutoTokenizer,\n",
    "    DataCollatorWithPadding,\n",
    "    EvalPrediction,\n",
    "    HfArgumentParser,\n",
    "    PretrainedConfig,\n",
    "    Trainer,\n",
    "    TrainingArguments,\n",
    "    default_data_collator,\n",
    "    set_seed,\n",
    ")\n",
    "from transformers.trainer_utils import get_last_checkpoint\n",
    "from transformers.utils import check_min_version, send_example_telemetry\n",
    "from transformers.utils.versions import require_version\n",
    "\n",
    "\n",
    "logger = logging.getLogger(__name__)\n",
    "\n",
    "logging.basicConfig(\n",
    "    format=\"%(asctime)s - %(levelname)s - %(name)s - %(message)s\",\n",
    "    datefmt=\"%m/%d/%Y %H:%M:%S\",\n",
    "    handlers=[logging.StreamHandler(sys.stdout)],\n",
    ")"
   ]
  },
  {
   "cell_type": "code",
   "execution_count": 5,
   "id": "8e7a6506",
   "metadata": {
    "execution": {
     "iopub.execute_input": "2023-09-03T08:27:57.208696Z",
     "iopub.status.busy": "2023-09-03T08:27:57.208253Z",
     "iopub.status.idle": "2023-09-03T08:27:58.511137Z",
     "shell.execute_reply": "2023-09-03T08:27:58.509895Z"
    },
    "id": "bHYDkjTRf-50",
    "outputId": "bca0b73d-b857-474d-9e77-cb66cda42e88",
    "papermill": {
     "duration": 1.40572,
     "end_time": "2023-09-03T08:27:58.514172",
     "exception": false,
     "start_time": "2023-09-03T08:27:57.108452",
     "status": "completed"
    },
    "tags": []
   },
   "outputs": [
    {
     "name": "stdout",
     "output_type": "stream",
     "text": [
      "--2023-09-03 08:27:58--  https://raw.githubusercontent.com/DeepProgram/random/main/sentiment_analysis_data.zip\r\n",
      "Resolving raw.githubusercontent.com (raw.githubusercontent.com)... 185.199.108.133, 185.199.109.133, 185.199.110.133, ...\r\n",
      "Connecting to raw.githubusercontent.com (raw.githubusercontent.com)|185.199.108.133|:443... connected.\r\n",
      "HTTP request sent, awaiting response... 200 OK\r\n",
      "Length: 2645403 (2.5M) [application/zip]\r\n",
      "Saving to: ‘sentiment_analysis_data.zip’\r\n",
      "\r\n",
      "sentiment_analysis_ 100%[===================>]   2.52M  --.-KB/s    in 0.03s   \r\n",
      "\r\n",
      "2023-09-03 08:27:58 (87.8 MB/s) - ‘sentiment_analysis_data.zip’ saved [2645403/2645403]\r\n",
      "\r\n"
     ]
    }
   ],
   "source": [
    "!wget \"https://raw.githubusercontent.com/DeepProgram/random/main/sentiment_analysis_data.zip\""
   ]
  },
  {
   "cell_type": "code",
   "execution_count": 6,
   "id": "0cf08c64",
   "metadata": {
    "execution": {
     "iopub.execute_input": "2023-09-03T08:27:58.611909Z",
     "iopub.status.busy": "2023-09-03T08:27:58.611488Z",
     "iopub.status.idle": "2023-09-03T08:27:59.646298Z",
     "shell.execute_reply": "2023-09-03T08:27:59.645048Z"
    },
    "id": "zNtctw0agA7i",
    "outputId": "ea2e0b90-8146-4eef-fdd5-807d73a58b62",
    "papermill": {
     "duration": 1.087056,
     "end_time": "2023-09-03T08:27:59.649022",
     "exception": false,
     "start_time": "2023-09-03T08:27:58.561966",
     "status": "completed"
    },
    "tags": []
   },
   "outputs": [
    {
     "name": "stdout",
     "output_type": "stream",
     "text": [
      "Archive:  /kaggle/working/sentiment_analysis_data.zip\r\n",
      "  inflating: blp23_sentiment_dev_test.tsv  \r\n",
      "  inflating: blp23_sentiment_dev.tsv  \r\n",
      "  inflating: blp23_sentiment_train.tsv  \r\n"
     ]
    }
   ],
   "source": [
    "!unzip -o /kaggle/working/sentiment_analysis_data.zip"
   ]
  },
  {
   "cell_type": "code",
   "execution_count": 7,
   "id": "20286660",
   "metadata": {
    "execution": {
     "iopub.execute_input": "2023-09-03T08:27:59.745220Z",
     "iopub.status.busy": "2023-09-03T08:27:59.744807Z",
     "iopub.status.idle": "2023-09-03T08:27:59.750278Z",
     "shell.execute_reply": "2023-09-03T08:27:59.749297Z"
    },
    "id": "vGxOQF1MLmh4",
    "papermill": {
     "duration": 0.056505,
     "end_time": "2023-09-03T08:27:59.752418",
     "exception": false,
     "start_time": "2023-09-03T08:27:59.695913",
     "status": "completed"
    },
    "tags": []
   },
   "outputs": [],
   "source": [
    "train_file = '/kaggle/working/blp23_sentiment_train.tsv'\n",
    "validation_file = '/kaggle/working/blp23_sentiment_dev.tsv'\n",
    "test_file = '/kaggle/working/blp23_sentiment_dev_test.tsv'"
   ]
  },
  {
   "cell_type": "code",
   "execution_count": 8,
   "id": "720cc115",
   "metadata": {
    "execution": {
     "iopub.execute_input": "2023-09-03T08:27:59.849559Z",
     "iopub.status.busy": "2023-09-03T08:27:59.849154Z",
     "iopub.status.idle": "2023-09-03T08:27:59.924789Z",
     "shell.execute_reply": "2023-09-03T08:27:59.923784Z"
    },
    "id": "6eHMertLgD7r",
    "papermill": {
     "duration": 0.126837,
     "end_time": "2023-09-03T08:27:59.927923",
     "exception": false,
     "start_time": "2023-09-03T08:27:59.801086",
     "status": "completed"
    },
    "tags": []
   },
   "outputs": [],
   "source": [
    "training_args = TrainingArguments(\n",
    "    learning_rate=2e-5,\n",
    "    num_train_epochs=1,\n",
    "    per_device_train_batch_size=16,\n",
    "    per_device_eval_batch_size=16,\n",
    "    output_dir=\"./bertBaseMultilingualNew/\",\n",
    "    overwrite_output_dir=True,\n",
    "    remove_unused_columns=False,\n",
    "    local_rank= 1,\n",
    "    load_best_model_at_end=True,\n",
    "    save_total_limit=2,\n",
    "    save_strategy=\"no\"\n",
    ")\n",
    "\n",
    "max_train_samples = None\n",
    "max_eval_samples=None\n",
    "max_predict_samples=None\n",
    "max_seq_length = 512\n",
    "batch_size = 16"
   ]
  },
  {
   "cell_type": "code",
   "execution_count": 9,
   "id": "3ce5bb42",
   "metadata": {
    "execution": {
     "iopub.execute_input": "2023-09-03T08:28:00.025200Z",
     "iopub.status.busy": "2023-09-03T08:28:00.023992Z",
     "iopub.status.idle": "2023-09-03T08:28:00.033946Z",
     "shell.execute_reply": "2023-09-03T08:28:00.033046Z"
    },
    "id": "QaFJVqoZgGte",
    "outputId": "c9a069f0-aace-4af2-d47b-57b77ac701b8",
    "papermill": {
     "duration": 0.060718,
     "end_time": "2023-09-03T08:28:00.036001",
     "exception": false,
     "start_time": "2023-09-03T08:27:59.975283",
     "status": "completed"
    },
    "tags": []
   },
   "outputs": [],
   "source": [
    "transformers.utils.logging.set_verbosity_info()\n",
    "\n",
    "log_level = training_args.get_process_log_level()\n",
    "logger.setLevel(log_level)\n",
    "datasets.utils.logging.set_verbosity(log_level)\n",
    "transformers.utils.logging.set_verbosity(log_level)\n",
    "transformers.utils.logging.enable_default_handler()\n",
    "transformers.utils.logging.enable_explicit_format()\n",
    "logger.warning(\n",
    "    f\"Process rank: {training_args.local_rank}, device: {training_args.device}, n_gpu: {training_args.n_gpu}\"\n",
    "    + f\" distributed training: {bool(training_args.local_rank != -1)}, 16-bits training: {training_args.fp16}\"\n",
    ")\n",
    "logger.info(f\"Training/evaluation parameters {training_args}\")"
   ]
  },
  {
   "cell_type": "code",
   "execution_count": 10,
   "id": "92d6e2cf",
   "metadata": {
    "execution": {
     "iopub.execute_input": "2023-09-03T08:28:00.133888Z",
     "iopub.status.busy": "2023-09-03T08:28:00.132833Z",
     "iopub.status.idle": "2023-09-03T08:28:00.137889Z",
     "shell.execute_reply": "2023-09-03T08:28:00.136964Z"
    },
    "id": "2SruyWmegJA0",
    "papermill": {
     "duration": 0.057349,
     "end_time": "2023-09-03T08:28:00.140025",
     "exception": false,
     "start_time": "2023-09-03T08:28:00.082676",
     "status": "completed"
    },
    "tags": []
   },
   "outputs": [],
   "source": [
    "model_name = 'sagorsarker/bangla-bert-base'"
   ]
  },
  {
   "cell_type": "code",
   "execution_count": 11,
   "id": "e4641820",
   "metadata": {
    "execution": {
     "iopub.execute_input": "2023-09-03T08:28:00.239321Z",
     "iopub.status.busy": "2023-09-03T08:28:00.238959Z",
     "iopub.status.idle": "2023-09-03T08:28:00.245801Z",
     "shell.execute_reply": "2023-09-03T08:28:00.244881Z"
    },
    "id": "NlS65HrDgRAH",
    "papermill": {
     "duration": 0.059296,
     "end_time": "2023-09-03T08:28:00.247898",
     "exception": false,
     "start_time": "2023-09-03T08:28:00.188602",
     "status": "completed"
    },
    "tags": []
   },
   "outputs": [],
   "source": [
    "set_seed(training_args.seed)"
   ]
  },
  {
   "cell_type": "code",
   "execution_count": 12,
   "id": "c2a17ebc",
   "metadata": {
    "execution": {
     "iopub.execute_input": "2023-09-03T08:28:00.342643Z",
     "iopub.status.busy": "2023-09-03T08:28:00.342086Z",
     "iopub.status.idle": "2023-09-03T08:28:00.353856Z",
     "shell.execute_reply": "2023-09-03T08:28:00.352902Z"
    },
    "id": "esnosLwmgSi6",
    "papermill": {
     "duration": 0.061502,
     "end_time": "2023-09-03T08:28:00.355922",
     "exception": false,
     "start_time": "2023-09-03T08:28:00.294420",
     "status": "completed"
    },
    "tags": []
   },
   "outputs": [],
   "source": [
    "punctuations = [\"|\",\"‘\",\">\",\"<\",\"*\",   \"।\", \",\", \";\", \":\", \"?\", \"!\", \"'\", \".\", \"\\\"\", \"-\",\n",
    "                \"[\", \"]\", \"{\", \"}\", \"(\", \")\", '–', \"—\", \"―\", \"~\"]\n",
    "\n",
    "def remove_url(word):\n",
    "    return word.split(\"http\")[0].strip()\n",
    "\n",
    "def extreme_process(word):\n",
    "    word_list = [word]\n",
    "    splitter_list = [\"**\",\"*\", \"…\", \"-\"]\n",
    "\n",
    "    for i in splitter_list:\n",
    "        if i in word:\n",
    "            temp_list = word.split(i)\n",
    "            word_list = list(filter(lambda x:x.strip() != \"\", temp_list))\n",
    "            return word_list\n",
    "    return word_list\n",
    "\n",
    "\n",
    "def process_word(word):\n",
    "    word = word.strip()\n",
    "    if len(word) == 0:\n",
    "        return []\n",
    "    elif len(word) == 1:\n",
    "        if word not in punctuations:\n",
    "            return [word]\n",
    "        else:\n",
    "            return []\n",
    "    else:\n",
    "        word = remove_url(word)\n",
    "\n",
    "        if len(word) == 0:\n",
    "            return []\n",
    "        elif len(word) == 1:\n",
    "            if word in punctuations:\n",
    "                return []\n",
    "            else:\n",
    "                return [word]\n",
    "        else:\n",
    "            if word[0] in punctuations:\n",
    "                word = word[1:]\n",
    "            if word[-1] in punctuations:\n",
    "                word = word[:-1]\n",
    "\n",
    "            word = extreme_process(word)\n",
    "\n",
    "            return word"
   ]
  },
  {
   "cell_type": "code",
   "execution_count": 13,
   "id": "2ba9bcd7",
   "metadata": {
    "execution": {
     "iopub.execute_input": "2023-09-03T08:28:00.453325Z",
     "iopub.status.busy": "2023-09-03T08:28:00.452922Z",
     "iopub.status.idle": "2023-09-03T08:28:00.660592Z",
     "shell.execute_reply": "2023-09-03T08:28:00.659358Z"
    },
    "id": "P9_aNPtIgUV8",
    "outputId": "cdaf4a41-9e15-4a7b-d8a0-6b5904d359f7",
    "papermill": {
     "duration": 0.26149,
     "end_time": "2023-09-03T08:28:00.663944",
     "exception": false,
     "start_time": "2023-09-03T08:28:00.402454",
     "status": "completed"
    },
    "tags": []
   },
   "outputs": [
    {
     "name": "stdout",
     "output_type": "stream",
     "text": [
      "               id                                               text     label\n",
      "0           10856  এখানে আরো ভালো ভাবে দলীয় ও র এর অবস্থান পাকা হ...   Neutral\n",
      "1   sentinob_1072                   চুয়াডাঙ্গা বাড়ি কে বলেছে আপনার   Neutral\n",
      "2  sentinob_10530      ভাই সোনাই ঘোষ এর দই খেয়ে যাইতেন , খুব ই মজার   Positive\n",
      "3            8001  সমার তালুকদার আপনার ছবিতে ফেসটা কেন জানি বন্য ...  Negative\n",
      "4  sentinob_10144  ভাইয়া এই নুডলস টা কোথায় কিনতে পাওয়া যাবে প্লিজ...  Positive\n"
     ]
    }
   ],
   "source": [
    "l2id = {'Positive': 2, 'Neutral': 1, 'Negative': 0}\n",
    "train_df = pd.read_csv(train_file, sep='\\t')\n",
    "print(train_df.head())"
   ]
  },
  {
   "cell_type": "code",
   "execution_count": 14,
   "id": "4367c11b",
   "metadata": {
    "execution": {
     "iopub.execute_input": "2023-09-03T08:28:00.760407Z",
     "iopub.status.busy": "2023-09-03T08:28:00.759964Z",
     "iopub.status.idle": "2023-09-03T08:28:05.552166Z",
     "shell.execute_reply": "2023-09-03T08:28:05.551162Z"
    },
    "id": "-_Rr3bgWgWnY",
    "papermill": {
     "duration": 4.842507,
     "end_time": "2023-09-03T08:28:05.554678",
     "exception": false,
     "start_time": "2023-09-03T08:28:00.712171",
     "status": "completed"
    },
    "tags": []
   },
   "outputs": [],
   "source": [
    "for index, row in train_df.iterrows():\n",
    "    unprocessed_spliited_word = row[\"text\"].split(\" \")\n",
    "    processed_word_list = []\n",
    "    for i in unprocessed_spliited_word:\n",
    "        processed_word_list += process_word(i)\n",
    "    train_df.at[index, \"text\"] = \" \".join(processed_word_list)"
   ]
  },
  {
   "cell_type": "code",
   "execution_count": 15,
   "id": "8efd4635",
   "metadata": {
    "execution": {
     "iopub.execute_input": "2023-09-03T08:28:05.650301Z",
     "iopub.status.busy": "2023-09-03T08:28:05.649935Z",
     "iopub.status.idle": "2023-09-03T08:28:05.669090Z",
     "shell.execute_reply": "2023-09-03T08:28:05.667589Z"
    },
    "id": "lujgD5bRgYn0",
    "outputId": "6af9ca62-376f-4646-896b-0f53babe7307",
    "papermill": {
     "duration": 0.069452,
     "end_time": "2023-09-03T08:28:05.671683",
     "exception": false,
     "start_time": "2023-09-03T08:28:05.602231",
     "status": "completed"
    },
    "tags": []
   },
   "outputs": [
    {
     "name": "stdout",
     "output_type": "stream",
     "text": [
      "               id                                               text  label\n",
      "0           10856  এখানে আরো ভালো ভাবে দলীয় ও র এর অবস্থান পাকা হ...      1\n",
      "1   sentinob_1072                   চুয়াডাঙ্গা বাড়ি কে বলেছে আপনার      1\n",
      "2  sentinob_10530         ভাই সোনাই ঘোষ এর দই খেয়ে যাইতেন খুব ই মজার      2\n",
      "3            8001  সমার তালুকদার আপনার ছবিতে ফেসটা কেন জানি বন্য ...      0\n",
      "4  sentinob_10144  ভাইয়া এই নুডলস টা কোথায় কিনতে পাওয়া যাবে প্লিজ...      2\n"
     ]
    }
   ],
   "source": [
    "train_df['label'] = train_df['label'].map(l2id)\n",
    "print(train_df.head())"
   ]
  },
  {
   "cell_type": "code",
   "execution_count": 16,
   "id": "3d6d9952",
   "metadata": {
    "execution": {
     "iopub.execute_input": "2023-09-03T08:28:05.766895Z",
     "iopub.status.busy": "2023-09-03T08:28:05.766487Z",
     "iopub.status.idle": "2023-09-03T08:28:05.824860Z",
     "shell.execute_reply": "2023-09-03T08:28:05.823274Z"
    },
    "id": "GKBGYsMwgbPr",
    "outputId": "b74d2c28-b107-4762-eb88-fcf6bf83d128",
    "papermill": {
     "duration": 0.108523,
     "end_time": "2023-09-03T08:28:05.827129",
     "exception": false,
     "start_time": "2023-09-03T08:28:05.718606",
     "status": "completed"
    },
    "tags": []
   },
   "outputs": [
    {
     "name": "stdout",
     "output_type": "stream",
     "text": [
      "Dataset({\n",
      "    features: ['id', 'text', 'label'],\n",
      "    num_rows: 35266\n",
      "})\n"
     ]
    }
   ],
   "source": [
    "train_df = Dataset.from_pandas(train_df)\n",
    "print(train_df)"
   ]
  },
  {
   "cell_type": "code",
   "execution_count": 17,
   "id": "f78c8098",
   "metadata": {
    "execution": {
     "iopub.execute_input": "2023-09-03T08:28:05.922311Z",
     "iopub.status.busy": "2023-09-03T08:28:05.921941Z",
     "iopub.status.idle": "2023-09-03T08:28:06.488204Z",
     "shell.execute_reply": "2023-09-03T08:28:06.487245Z"
    },
    "id": "hmI01fUfgc1P",
    "papermill": {
     "duration": 0.617027,
     "end_time": "2023-09-03T08:28:06.490769",
     "exception": false,
     "start_time": "2023-09-03T08:28:05.873742",
     "status": "completed"
    },
    "tags": []
   },
   "outputs": [],
   "source": [
    "validation_df = pd.read_csv(validation_file, sep='\\t')\n",
    "for index, row in validation_df.iterrows():\n",
    "    unprocessed_spliited_word = row[\"text\"].split(\" \")\n",
    "    processed_word_list = []\n",
    "    for i in unprocessed_spliited_word:\n",
    "        processed_word_list += process_word(i)\n",
    "    validation_df.at[index, \"text\"] = \" \".join(processed_word_list)"
   ]
  },
  {
   "cell_type": "code",
   "execution_count": 18,
   "id": "f00940b2",
   "metadata": {
    "execution": {
     "iopub.execute_input": "2023-09-03T08:28:06.587395Z",
     "iopub.status.busy": "2023-09-03T08:28:06.586719Z",
     "iopub.status.idle": "2023-09-03T08:28:06.600598Z",
     "shell.execute_reply": "2023-09-03T08:28:06.599705Z"
    },
    "id": "qu3OF8udgnLZ",
    "outputId": "b8ad8e80-8009-44ad-d30e-37557ed11d47",
    "papermill": {
     "duration": 0.064454,
     "end_time": "2023-09-03T08:28:06.602605",
     "exception": false,
     "start_time": "2023-09-03T08:28:06.538151",
     "status": "completed"
    },
    "tags": []
   },
   "outputs": [
    {
     "data": {
      "text/html": [
       "<div>\n",
       "<style scoped>\n",
       "    .dataframe tbody tr th:only-of-type {\n",
       "        vertical-align: middle;\n",
       "    }\n",
       "\n",
       "    .dataframe tbody tr th {\n",
       "        vertical-align: top;\n",
       "    }\n",
       "\n",
       "    .dataframe thead th {\n",
       "        text-align: right;\n",
       "    }\n",
       "</style>\n",
       "<table border=\"1\" class=\"dataframe\">\n",
       "  <thead>\n",
       "    <tr style=\"text-align: right;\">\n",
       "      <th></th>\n",
       "      <th>id</th>\n",
       "      <th>text</th>\n",
       "      <th>label</th>\n",
       "    </tr>\n",
       "  </thead>\n",
       "  <tbody>\n",
       "    <tr>\n",
       "      <th>0</th>\n",
       "      <td>5300</td>\n",
       "      <td>নতুন মতলব আটছে মানে সৌদি আরব ধ্বংস করার পায়তার...</td>\n",
       "      <td>Negative</td>\n",
       "    </tr>\n",
       "    <tr>\n",
       "      <th>1</th>\n",
       "      <td>15392</td>\n",
       "      <td>বিদেশে পড়ালেখা করছে বাংলাদেশের প্রচুর ছেলেময়ের...</td>\n",
       "      <td>Positive</td>\n",
       "    </tr>\n",
       "    <tr>\n",
       "      <th>2</th>\n",
       "      <td>6904</td>\n",
       "      <td>মাননীয় আপনি নিজে না বলে সস্তায় কোনো মন্ত্রী কে...</td>\n",
       "      <td>Negative</td>\n",
       "    </tr>\n",
       "    <tr>\n",
       "      <th>3</th>\n",
       "      <td>30790</td>\n",
       "      <td>করোনার টিকা নিলেন বিএনপি চেয়ারপারসন বেগম খালে...</td>\n",
       "      <td>Positive</td>\n",
       "    </tr>\n",
       "    <tr>\n",
       "      <th>4</th>\n",
       "      <td>2770</td>\n",
       "      <td>একজন প্রধানমন্ত্রীর এমন বক্তব্য জাতির জন্য লজ্...</td>\n",
       "      <td>Negative</td>\n",
       "    </tr>\n",
       "  </tbody>\n",
       "</table>\n",
       "</div>"
      ],
      "text/plain": [
       "      id                                               text     label\n",
       "0   5300  নতুন মতলব আটছে মানে সৌদি আরব ধ্বংস করার পায়তার...  Negative\n",
       "1  15392  বিদেশে পড়ালেখা করছে বাংলাদেশের প্রচুর ছেলেময়ের...  Positive\n",
       "2   6904  মাননীয় আপনি নিজে না বলে সস্তায় কোনো মন্ত্রী কে...  Negative\n",
       "3  30790  করোনার টিকা নিলেন বিএনপি চেয়ারপারসন বেগম খালে...  Positive\n",
       "4   2770  একজন প্রধানমন্ত্রীর এমন বক্তব্য জাতির জন্য লজ্...  Negative"
      ]
     },
     "execution_count": 18,
     "metadata": {},
     "output_type": "execute_result"
    }
   ],
   "source": [
    "validation_df.head()"
   ]
  },
  {
   "cell_type": "code",
   "execution_count": 19,
   "id": "dcc6106b",
   "metadata": {
    "execution": {
     "iopub.execute_input": "2023-09-03T08:28:06.698676Z",
     "iopub.status.busy": "2023-09-03T08:28:06.697708Z",
     "iopub.status.idle": "2023-09-03T08:28:06.711824Z",
     "shell.execute_reply": "2023-09-03T08:28:06.710441Z"
    },
    "id": "boP3urjTge_t",
    "outputId": "896debc1-c0ea-4f81-bf62-873cb843773b",
    "papermill": {
     "duration": 0.064364,
     "end_time": "2023-09-03T08:28:06.714035",
     "exception": false,
     "start_time": "2023-09-03T08:28:06.649671",
     "status": "completed"
    },
    "tags": []
   },
   "outputs": [
    {
     "name": "stdout",
     "output_type": "stream",
     "text": [
      "Dataset({\n",
      "    features: ['id', 'text', 'label'],\n",
      "    num_rows: 3934\n",
      "})\n"
     ]
    }
   ],
   "source": [
    "validation_df['label'] = validation_df['label'].map(l2id)\n",
    "validation_df = Dataset.from_pandas(validation_df)\n",
    "print(validation_df)"
   ]
  },
  {
   "cell_type": "code",
   "execution_count": 20,
   "id": "2f7cb5bb",
   "metadata": {
    "execution": {
     "iopub.execute_input": "2023-09-03T08:28:06.810570Z",
     "iopub.status.busy": "2023-09-03T08:28:06.810200Z",
     "iopub.status.idle": "2023-09-03T08:28:06.841720Z",
     "shell.execute_reply": "2023-09-03T08:28:06.840589Z"
    },
    "id": "ijFGiqw0guBI",
    "outputId": "9877d540-54d0-41f1-cef9-a93f3100b058",
    "papermill": {
     "duration": 0.082997,
     "end_time": "2023-09-03T08:28:06.844141",
     "exception": false,
     "start_time": "2023-09-03T08:28:06.761144",
     "status": "completed"
    },
    "tags": []
   },
   "outputs": [
    {
     "name": "stdout",
     "output_type": "stream",
     "text": [
      "      id                                               text\n",
      "0  30670   * করোনায় আরো ১৮৭ জনের মৃত্যু; মোট প্রাণহানি ...\n",
      "1   4125          চাপাবাজীর চাপে এবার ধামাচাপা পড়বে আসল ইসু\n",
      "2  27077   কুয়েতে বাংলাদেশী ফল খেতে হামলে পড়ছেন প্রবাসীরা\n",
      "3  17552  তিনি ছিলেন টেস্ট খেলা সবচেয়ে বেশি বয়সী জীবিত...\n",
      "4   4137  চাল আর পাট গুলো উৎপাদন করতে যে কৃষকের বাঁশ ঢুক...\n",
      "3426\n"
     ]
    }
   ],
   "source": [
    "old_test_df = pd.read_csv(test_file, sep='\\t')\n",
    "print(old_test_df.head())\n",
    "print(len(old_test_df))"
   ]
  },
  {
   "cell_type": "code",
   "execution_count": 21,
   "id": "1dc1f3de",
   "metadata": {
    "execution": {
     "iopub.execute_input": "2023-09-03T08:28:06.942567Z",
     "iopub.status.busy": "2023-09-03T08:28:06.941643Z",
     "iopub.status.idle": "2023-09-03T08:28:06.987882Z",
     "shell.execute_reply": "2023-09-03T08:28:06.986816Z"
    },
    "id": "h35jsVnBg9s1",
    "outputId": "c73cb99f-96f6-422b-8c83-9f0b47b2c110",
    "papermill": {
     "duration": 0.097998,
     "end_time": "2023-09-03T08:28:06.990255",
     "exception": false,
     "start_time": "2023-09-03T08:28:06.892257",
     "status": "completed"
    },
    "tags": []
   },
   "outputs": [
    {
     "name": "stdout",
     "output_type": "stream",
     "text": [
      "      id                                               text     label\n",
      "0   7135  মুখস্ত শিক্ষা দিয়ে কি করবে এই জাতি ? বাংলাদেশ...  Negative\n",
      "1  28949  জর্ডানের সাবেক যুবরাজ প্রিন্স হামজার ভিডিও বার...  Negative\n",
      "2  10210  আমার ছেলের দুর্ভাগ্য না সৌভাগ্য জানিনা জ্বর এর...   Neutral\n",
      "3   9526  Pranoy Sen তখন পাকিস্তান ও আফগানিস্তান ভারতের ...   Neutral\n",
      "4   2142                              আরো কত মিথ্যাচার করবে  Negative\n",
      "6707\n"
     ]
    }
   ],
   "source": [
    "test_df = pd.read_csv(\"/kaggle/working/blp23_sentiment_test_with_label.tsv\", sep=\"\\t\")\n",
    "print(test_df.head())\n",
    "print(len(test_df))"
   ]
  },
  {
   "cell_type": "code",
   "execution_count": 22,
   "id": "f0e32ed9",
   "metadata": {
    "execution": {
     "iopub.execute_input": "2023-09-03T08:28:07.089014Z",
     "iopub.status.busy": "2023-09-03T08:28:07.088325Z",
     "iopub.status.idle": "2023-09-03T08:28:07.100674Z",
     "shell.execute_reply": "2023-09-03T08:28:07.099201Z"
    },
    "id": "f6jfqBGPhwde",
    "outputId": "9d14a9ab-582f-41bc-be67-c6cbcf2b48ed",
    "papermill": {
     "duration": 0.062768,
     "end_time": "2023-09-03T08:28:07.102857",
     "exception": false,
     "start_time": "2023-09-03T08:28:07.040089",
     "status": "completed"
    },
    "tags": []
   },
   "outputs": [
    {
     "name": "stdout",
     "output_type": "stream",
     "text": [
      "         id                                               text  label\n",
      "0      7135  মুখস্ত শিক্ষা দিয়ে কি করবে এই জাতি ? বাংলাদেশ...      0\n",
      "1     28949  জর্ডানের সাবেক যুবরাজ প্রিন্স হামজার ভিডিও বার...      0\n",
      "2     10210  আমার ছেলের দুর্ভাগ্য না সৌভাগ্য জানিনা জ্বর এর...      1\n",
      "3      9526  Pranoy Sen তখন পাকিস্তান ও আফগানিস্তান ভারতের ...      1\n",
      "4      2142                              আরো কত মিথ্যাচার করবে      0\n",
      "...     ...                                                ...    ...\n",
      "6702  20643        গাছ কেটে শতাধিক পাখি হত্যায় আদালতে অভিযোগ       0\n",
      "6703  15823  স্কুলে যাবি না মানে তুই তো যাবি তোর বড়টা ও যাই...      2\n",
      "6704  29080  সুনামগঞ্জে হিন্দু গ্রামে হামলা: রাতভর পুলিশের ...      0\n",
      "6705   3582  কারণ বাঙালি পিন মারতে ভালোবাসে শুধু টাকায় না ...      0\n",
      "6706  19544           আর্জেন্টিনাকে বড় ব্যবধানে হারাল ব্রাজিল      2\n",
      "\n",
      "[6707 rows x 3 columns]\n"
     ]
    }
   ],
   "source": [
    "test_df['label'] = test_df['label'].map(l2id)\n",
    "print(test_df)"
   ]
  },
  {
   "cell_type": "code",
   "execution_count": 23,
   "id": "4b2ae91b",
   "metadata": {
    "execution": {
     "iopub.execute_input": "2023-09-03T08:28:07.200966Z",
     "iopub.status.busy": "2023-09-03T08:28:07.200400Z",
     "iopub.status.idle": "2023-09-03T08:28:08.106513Z",
     "shell.execute_reply": "2023-09-03T08:28:08.105592Z"
    },
    "id": "u410qDTmpftJ",
    "papermill": {
     "duration": 0.957477,
     "end_time": "2023-09-03T08:28:08.109065",
     "exception": false,
     "start_time": "2023-09-03T08:28:07.151588",
     "status": "completed"
    },
    "tags": []
   },
   "outputs": [],
   "source": [
    "for index, row in test_df.iterrows():\n",
    "    unprocessed_spliited_word = row[\"text\"].split(\" \")\n",
    "    processed_word_list = []\n",
    "    for i in unprocessed_spliited_word:\n",
    "        processed_word_list += process_word(i)\n",
    "    test_df.at[index, \"text\"] = \" \".join(processed_word_list)"
   ]
  },
  {
   "cell_type": "code",
   "execution_count": 24,
   "id": "17cf696c",
   "metadata": {
    "execution": {
     "iopub.execute_input": "2023-09-03T08:28:08.206709Z",
     "iopub.status.busy": "2023-09-03T08:28:08.204993Z",
     "iopub.status.idle": "2023-09-03T08:28:08.221464Z",
     "shell.execute_reply": "2023-09-03T08:28:08.220406Z"
    },
    "id": "TntStnSJph6F",
    "papermill": {
     "duration": 0.066469,
     "end_time": "2023-09-03T08:28:08.223432",
     "exception": false,
     "start_time": "2023-09-03T08:28:08.156963",
     "status": "completed"
    },
    "tags": []
   },
   "outputs": [
    {
     "name": "stdout",
     "output_type": "stream",
     "text": [
      "Dataset({\n",
      "    features: ['id', 'text', 'label'],\n",
      "    num_rows: 6707\n",
      "})\n"
     ]
    }
   ],
   "source": [
    "test_df = Dataset.from_pandas(test_df)\n",
    "print(test_df)"
   ]
  },
  {
   "cell_type": "code",
   "execution_count": 25,
   "id": "7e016405",
   "metadata": {
    "execution": {
     "iopub.execute_input": "2023-09-03T08:28:08.318990Z",
     "iopub.status.busy": "2023-09-03T08:28:08.318660Z",
     "iopub.status.idle": "2023-09-03T08:28:08.323499Z",
     "shell.execute_reply": "2023-09-03T08:28:08.322565Z"
    },
    "id": "eaK0-cgJh2LW",
    "outputId": "d87dca93-3d47-46fa-c7fd-8b9323a9f938",
    "papermill": {
     "duration": 0.054992,
     "end_time": "2023-09-03T08:28:08.325513",
     "exception": false,
     "start_time": "2023-09-03T08:28:08.270521",
     "status": "completed"
    },
    "tags": []
   },
   "outputs": [],
   "source": [
    "data_files = {\"train\": train_df, \"validation\": validation_df, \"test\": test_df}\n",
    "for key in data_files.keys():\n",
    "    logger.info(f\"loading a local file for {key}\")"
   ]
  },
  {
   "cell_type": "code",
   "execution_count": 26,
   "id": "4680ca36",
   "metadata": {
    "execution": {
     "iopub.execute_input": "2023-09-03T08:28:08.422456Z",
     "iopub.status.busy": "2023-09-03T08:28:08.422100Z",
     "iopub.status.idle": "2023-09-03T08:28:08.426572Z",
     "shell.execute_reply": "2023-09-03T08:28:08.425612Z"
    },
    "id": "uO72ptluh6GP",
    "papermill": {
     "duration": 0.055825,
     "end_time": "2023-09-03T08:28:08.428609",
     "exception": false,
     "start_time": "2023-09-03T08:28:08.372784",
     "status": "completed"
    },
    "tags": []
   },
   "outputs": [],
   "source": [
    "raw_datasets = DatasetDict(\n",
    "    {\"train\": train_df, \"validation\": validation_df, \"test\": test_df}\n",
    ")"
   ]
  },
  {
   "cell_type": "code",
   "execution_count": 27,
   "id": "ae814995",
   "metadata": {
    "execution": {
     "iopub.execute_input": "2023-09-03T08:28:08.528322Z",
     "iopub.status.busy": "2023-09-03T08:28:08.527292Z",
     "iopub.status.idle": "2023-09-03T08:28:08.533906Z",
     "shell.execute_reply": "2023-09-03T08:28:08.532325Z"
    },
    "id": "CC2eDDQkh7h8",
    "outputId": "75ad8d68-5e7a-40e4-c78f-7dd347b49847",
    "papermill": {
     "duration": 0.057049,
     "end_time": "2023-09-03T08:28:08.536022",
     "exception": false,
     "start_time": "2023-09-03T08:28:08.478973",
     "status": "completed"
    },
    "tags": []
   },
   "outputs": [
    {
     "name": "stdout",
     "output_type": "stream",
     "text": [
      "DatasetDict({\n",
      "    train: Dataset({\n",
      "        features: ['id', 'text', 'label'],\n",
      "        num_rows: 35266\n",
      "    })\n",
      "    validation: Dataset({\n",
      "        features: ['id', 'text', 'label'],\n",
      "        num_rows: 3934\n",
      "    })\n",
      "    test: Dataset({\n",
      "        features: ['id', 'text', 'label'],\n",
      "        num_rows: 6707\n",
      "    })\n",
      "})\n"
     ]
    }
   ],
   "source": [
    "print(raw_datasets)"
   ]
  },
  {
   "cell_type": "code",
   "execution_count": 28,
   "id": "4380af34",
   "metadata": {
    "execution": {
     "iopub.execute_input": "2023-09-03T08:28:08.633944Z",
     "iopub.status.busy": "2023-09-03T08:28:08.632949Z",
     "iopub.status.idle": "2023-09-03T08:28:08.670616Z",
     "shell.execute_reply": "2023-09-03T08:28:08.669292Z"
    },
    "id": "AgDWuA7ih9b6",
    "outputId": "d35a746f-5ecb-4e3b-8895-f55955b62340",
    "papermill": {
     "duration": 0.089359,
     "end_time": "2023-09-03T08:28:08.672785",
     "exception": false,
     "start_time": "2023-09-03T08:28:08.583426",
     "status": "completed"
    },
    "tags": []
   },
   "outputs": [
    {
     "name": "stdout",
     "output_type": "stream",
     "text": [
      "[1, 2, 0]\n"
     ]
    }
   ],
   "source": [
    "label_list = raw_datasets[\"train\"].unique(\"label\")\n",
    "print(label_list)"
   ]
  },
  {
   "cell_type": "code",
   "execution_count": 29,
   "id": "a34fb714",
   "metadata": {
    "execution": {
     "iopub.execute_input": "2023-09-03T08:28:08.770178Z",
     "iopub.status.busy": "2023-09-03T08:28:08.769792Z",
     "iopub.status.idle": "2023-09-03T08:28:08.775007Z",
     "shell.execute_reply": "2023-09-03T08:28:08.774030Z"
    },
    "id": "b2rt3bgRh_JZ",
    "outputId": "c676f781-695b-46d7-daac-1a5295e4f014",
    "papermill": {
     "duration": 0.05719,
     "end_time": "2023-09-03T08:28:08.777596",
     "exception": false,
     "start_time": "2023-09-03T08:28:08.720406",
     "status": "completed"
    },
    "tags": []
   },
   "outputs": [
    {
     "name": "stdout",
     "output_type": "stream",
     "text": [
      "[0, 1, 2]\n"
     ]
    }
   ],
   "source": [
    "label_list.sort()  # sort the labels for determine\n",
    "print(label_list)"
   ]
  },
  {
   "cell_type": "code",
   "execution_count": 30,
   "id": "f8cd2254",
   "metadata": {
    "execution": {
     "iopub.execute_input": "2023-09-03T08:28:08.877390Z",
     "iopub.status.busy": "2023-09-03T08:28:08.877043Z",
     "iopub.status.idle": "2023-09-03T08:28:08.881992Z",
     "shell.execute_reply": "2023-09-03T08:28:08.881091Z"
    },
    "id": "bBmoSt6uiAje",
    "outputId": "8167fa5d-f57f-467f-e7ac-67a4c2b5b149",
    "papermill": {
     "duration": 0.056829,
     "end_time": "2023-09-03T08:28:08.884260",
     "exception": false,
     "start_time": "2023-09-03T08:28:08.827431",
     "status": "completed"
    },
    "tags": []
   },
   "outputs": [
    {
     "name": "stdout",
     "output_type": "stream",
     "text": [
      "3\n"
     ]
    }
   ],
   "source": [
    "num_labels = len(label_list)\n",
    "print(num_labels)"
   ]
  },
  {
   "cell_type": "code",
   "execution_count": 31,
   "id": "b5f9cfb3",
   "metadata": {
    "execution": {
     "iopub.execute_input": "2023-09-03T08:28:08.981362Z",
     "iopub.status.busy": "2023-09-03T08:28:08.980459Z",
     "iopub.status.idle": "2023-09-03T08:28:09.269487Z",
     "shell.execute_reply": "2023-09-03T08:28:09.268607Z"
    },
    "id": "ovc60ITOiB69",
    "outputId": "45d0a018-b8fa-4c69-da05-b3bf62ed4a03",
    "papermill": {
     "duration": 0.339672,
     "end_time": "2023-09-03T08:28:09.271517",
     "exception": false,
     "start_time": "2023-09-03T08:28:08.931845",
     "status": "completed"
    },
    "tags": []
   },
   "outputs": [
    {
     "data": {
      "application/vnd.jupyter.widget-view+json": {
       "model_id": "308a8e1046cc4c54aae0e51aae6ead7a",
       "version_major": 2,
       "version_minor": 0
      },
      "text/plain": [
       "Downloading (…)lve/main/config.json:   0%|          | 0.00/491 [00:00<?, ?B/s]"
      ]
     },
     "metadata": {},
     "output_type": "display_data"
    },
    {
     "name": "stderr",
     "output_type": "stream",
     "text": [
      "[INFO|configuration_utils.py:715] 2023-09-03 08:28:09,253 >> loading configuration file config.json from cache at /root/.cache/huggingface/hub/models--sagorsarker--bangla-bert-base/snapshots/875aa80a42ec196c16bd931ae5d85ad949f58b16/config.json\n",
      "[INFO|configuration_utils.py:775] 2023-09-03 08:28:09,265 >> Model config BertConfig {\n",
      "  \"_name_or_path\": \"sagorsarker/bangla-bert-base\",\n",
      "  \"architectures\": [\n",
      "    \"BertForMaskedLM\"\n",
      "  ],\n",
      "  \"attention_probs_dropout_prob\": 0.1,\n",
      "  \"classifier_dropout\": null,\n",
      "  \"hidden_act\": \"gelu\",\n",
      "  \"hidden_dropout_prob\": 0.1,\n",
      "  \"hidden_size\": 768,\n",
      "  \"id2label\": {\n",
      "    \"0\": \"LABEL_0\",\n",
      "    \"1\": \"LABEL_1\",\n",
      "    \"2\": \"LABEL_2\"\n",
      "  },\n",
      "  \"initializer_range\": 0.02,\n",
      "  \"intermediate_size\": 3072,\n",
      "  \"label2id\": {\n",
      "    \"LABEL_0\": 0,\n",
      "    \"LABEL_1\": 1,\n",
      "    \"LABEL_2\": 2\n",
      "  },\n",
      "  \"layer_norm_eps\": 1e-12,\n",
      "  \"max_position_embeddings\": 512,\n",
      "  \"model_type\": \"bert\",\n",
      "  \"num_attention_heads\": 12,\n",
      "  \"num_hidden_layers\": 12,\n",
      "  \"pad_token_id\": 0,\n",
      "  \"position_embedding_type\": \"absolute\",\n",
      "  \"transformers_version\": \"4.32.1\",\n",
      "  \"type_vocab_size\": 2,\n",
      "  \"use_cache\": true,\n",
      "  \"vocab_size\": 102025\n",
      "}\n",
      "\n"
     ]
    }
   ],
   "source": [
    "config = AutoConfig.from_pretrained(\n",
    "    model_name,\n",
    "    num_labels=num_labels,\n",
    "    finetuning_task=None,\n",
    "    cache_dir=None,\n",
    "    revision=\"main\",\n",
    "    use_auth_token=None,\n",
    ")"
   ]
  },
  {
   "cell_type": "code",
   "execution_count": 32,
   "id": "dca293c9",
   "metadata": {
    "execution": {
     "iopub.execute_input": "2023-09-03T08:28:09.370064Z",
     "iopub.status.busy": "2023-09-03T08:28:09.369180Z",
     "iopub.status.idle": "2023-09-03T08:28:10.840792Z",
     "shell.execute_reply": "2023-09-03T08:28:10.839744Z"
    },
    "id": "koGbm1P-iEQN",
    "outputId": "804decc1-6702-4143-fb54-e4b1e42f50db",
    "papermill": {
     "duration": 1.523443,
     "end_time": "2023-09-03T08:28:10.843381",
     "exception": false,
     "start_time": "2023-09-03T08:28:09.319938",
     "status": "completed"
    },
    "tags": []
   },
   "outputs": [
    {
     "name": "stderr",
     "output_type": "stream",
     "text": [
      "[INFO|tokenization_auto.py:526] 2023-09-03 08:28:09,634 >> Could not locate the tokenizer configuration file, will try to use the model config instead.\n",
      "[INFO|configuration_utils.py:715] 2023-09-03 08:28:09,734 >> loading configuration file config.json from cache at /root/.cache/huggingface/hub/models--sagorsarker--bangla-bert-base/snapshots/875aa80a42ec196c16bd931ae5d85ad949f58b16/config.json\n",
      "[INFO|configuration_utils.py:775] 2023-09-03 08:28:09,737 >> Model config BertConfig {\n",
      "  \"_name_or_path\": \"sagorsarker/bangla-bert-base\",\n",
      "  \"architectures\": [\n",
      "    \"BertForMaskedLM\"\n",
      "  ],\n",
      "  \"attention_probs_dropout_prob\": 0.1,\n",
      "  \"classifier_dropout\": null,\n",
      "  \"hidden_act\": \"gelu\",\n",
      "  \"hidden_dropout_prob\": 0.1,\n",
      "  \"hidden_size\": 768,\n",
      "  \"initializer_range\": 0.02,\n",
      "  \"intermediate_size\": 3072,\n",
      "  \"layer_norm_eps\": 1e-12,\n",
      "  \"max_position_embeddings\": 512,\n",
      "  \"model_type\": \"bert\",\n",
      "  \"num_attention_heads\": 12,\n",
      "  \"num_hidden_layers\": 12,\n",
      "  \"pad_token_id\": 0,\n",
      "  \"position_embedding_type\": \"absolute\",\n",
      "  \"transformers_version\": \"4.32.1\",\n",
      "  \"type_vocab_size\": 2,\n",
      "  \"use_cache\": true,\n",
      "  \"vocab_size\": 102025\n",
      "}\n",
      "\n"
     ]
    },
    {
     "data": {
      "application/vnd.jupyter.widget-view+json": {
       "model_id": "5aa34c921b7c4c00ae439c0259d0fc29",
       "version_major": 2,
       "version_minor": 0
      },
      "text/plain": [
       "Downloading (…)solve/main/vocab.txt:   0%|          | 0.00/2.24M [00:00<?, ?B/s]"
      ]
     },
     "metadata": {},
     "output_type": "display_data"
    },
    {
     "name": "stderr",
     "output_type": "stream",
     "text": [
      "[INFO|tokenization_utils_base.py:1852] 2023-09-03 08:28:10,600 >> loading file vocab.txt from cache at /root/.cache/huggingface/hub/models--sagorsarker--bangla-bert-base/snapshots/875aa80a42ec196c16bd931ae5d85ad949f58b16/vocab.txt\n",
      "[INFO|tokenization_utils_base.py:1852] 2023-09-03 08:28:10,601 >> loading file tokenizer.json from cache at None\n",
      "[INFO|tokenization_utils_base.py:1852] 2023-09-03 08:28:10,602 >> loading file added_tokens.json from cache at None\n",
      "[INFO|tokenization_utils_base.py:1852] 2023-09-03 08:28:10,603 >> loading file special_tokens_map.json from cache at None\n",
      "[INFO|tokenization_utils_base.py:1852] 2023-09-03 08:28:10,604 >> loading file tokenizer_config.json from cache at None\n",
      "[INFO|configuration_utils.py:715] 2023-09-03 08:28:10,606 >> loading configuration file config.json from cache at /root/.cache/huggingface/hub/models--sagorsarker--bangla-bert-base/snapshots/875aa80a42ec196c16bd931ae5d85ad949f58b16/config.json\n",
      "[INFO|configuration_utils.py:775] 2023-09-03 08:28:10,609 >> Model config BertConfig {\n",
      "  \"_name_or_path\": \"sagorsarker/bangla-bert-base\",\n",
      "  \"architectures\": [\n",
      "    \"BertForMaskedLM\"\n",
      "  ],\n",
      "  \"attention_probs_dropout_prob\": 0.1,\n",
      "  \"classifier_dropout\": null,\n",
      "  \"hidden_act\": \"gelu\",\n",
      "  \"hidden_dropout_prob\": 0.1,\n",
      "  \"hidden_size\": 768,\n",
      "  \"initializer_range\": 0.02,\n",
      "  \"intermediate_size\": 3072,\n",
      "  \"layer_norm_eps\": 1e-12,\n",
      "  \"max_position_embeddings\": 512,\n",
      "  \"model_type\": \"bert\",\n",
      "  \"num_attention_heads\": 12,\n",
      "  \"num_hidden_layers\": 12,\n",
      "  \"pad_token_id\": 0,\n",
      "  \"position_embedding_type\": \"absolute\",\n",
      "  \"transformers_version\": \"4.32.1\",\n",
      "  \"type_vocab_size\": 2,\n",
      "  \"use_cache\": true,\n",
      "  \"vocab_size\": 102025\n",
      "}\n",
      "\n",
      "[INFO|configuration_utils.py:715] 2023-09-03 08:28:10,752 >> loading configuration file config.json from cache at /root/.cache/huggingface/hub/models--sagorsarker--bangla-bert-base/snapshots/875aa80a42ec196c16bd931ae5d85ad949f58b16/config.json\n",
      "[INFO|configuration_utils.py:775] 2023-09-03 08:28:10,754 >> Model config BertConfig {\n",
      "  \"_name_or_path\": \"sagorsarker/bangla-bert-base\",\n",
      "  \"architectures\": [\n",
      "    \"BertForMaskedLM\"\n",
      "  ],\n",
      "  \"attention_probs_dropout_prob\": 0.1,\n",
      "  \"classifier_dropout\": null,\n",
      "  \"hidden_act\": \"gelu\",\n",
      "  \"hidden_dropout_prob\": 0.1,\n",
      "  \"hidden_size\": 768,\n",
      "  \"initializer_range\": 0.02,\n",
      "  \"intermediate_size\": 3072,\n",
      "  \"layer_norm_eps\": 1e-12,\n",
      "  \"max_position_embeddings\": 512,\n",
      "  \"model_type\": \"bert\",\n",
      "  \"num_attention_heads\": 12,\n",
      "  \"num_hidden_layers\": 12,\n",
      "  \"pad_token_id\": 0,\n",
      "  \"position_embedding_type\": \"absolute\",\n",
      "  \"transformers_version\": \"4.32.1\",\n",
      "  \"type_vocab_size\": 2,\n",
      "  \"use_cache\": true,\n",
      "  \"vocab_size\": 102025\n",
      "}\n",
      "\n"
     ]
    }
   ],
   "source": [
    "tokenizer = AutoTokenizer.from_pretrained(\n",
    "    model_name,\n",
    "    cache_dir=None,\n",
    "    use_fast=True,\n",
    "    revision=\"main\",\n",
    "    use_auth_token=None,\n",
    ")"
   ]
  },
  {
   "cell_type": "code",
   "execution_count": 33,
   "id": "a27c2c95",
   "metadata": {
    "execution": {
     "iopub.execute_input": "2023-09-03T08:28:10.946394Z",
     "iopub.status.busy": "2023-09-03T08:28:10.946030Z",
     "iopub.status.idle": "2023-09-03T08:28:14.871354Z",
     "shell.execute_reply": "2023-09-03T08:28:14.870480Z"
    },
    "id": "w-oSVRgciHyo",
    "outputId": "9c3eda93-f09d-4126-d26b-edb31daf76c3",
    "papermill": {
     "duration": 3.979308,
     "end_time": "2023-09-03T08:28:14.873672",
     "exception": false,
     "start_time": "2023-09-03T08:28:10.894364",
     "status": "completed"
    },
    "tags": []
   },
   "outputs": [
    {
     "data": {
      "application/vnd.jupyter.widget-view+json": {
       "model_id": "7c62a89c1afa44098a7ed2e3e84c60e7",
       "version_major": 2,
       "version_minor": 0
      },
      "text/plain": [
       "Downloading model.safetensors:   0%|          | 0.00/660M [00:00<?, ?B/s]"
      ]
     },
     "metadata": {},
     "output_type": "display_data"
    },
    {
     "name": "stderr",
     "output_type": "stream",
     "text": [
      "[INFO|modeling_utils.py:2779] 2023-09-03 08:28:13,102 >> loading weights file model.safetensors from cache at /root/.cache/huggingface/hub/models--sagorsarker--bangla-bert-base/snapshots/875aa80a42ec196c16bd931ae5d85ad949f58b16/model.safetensors\n",
      "[INFO|modeling_utils.py:3541] 2023-09-03 08:28:14,846 >> Some weights of the model checkpoint at sagorsarker/bangla-bert-base were not used when initializing BertForSequenceClassification: ['cls.seq_relationship.weight', 'cls.predictions.transform.dense.bias', 'cls.predictions.transform.LayerNorm.weight', 'cls.seq_relationship.bias', 'cls.predictions.transform.LayerNorm.bias', 'cls.predictions.transform.dense.weight', 'cls.predictions.bias']\n",
      "- This IS expected if you are initializing BertForSequenceClassification from the checkpoint of a model trained on another task or with another architecture (e.g. initializing a BertForSequenceClassification model from a BertForPreTraining model).\n",
      "- This IS NOT expected if you are initializing BertForSequenceClassification from the checkpoint of a model that you expect to be exactly identical (initializing a BertForSequenceClassification model from a BertForSequenceClassification model).\n",
      "[WARNING|modeling_utils.py:3553] 2023-09-03 08:28:14,847 >> Some weights of BertForSequenceClassification were not initialized from the model checkpoint at sagorsarker/bangla-bert-base and are newly initialized: ['classifier.weight', 'classifier.bias']\n",
      "You should probably TRAIN this model on a down-stream task to be able to use it for predictions and inference.\n"
     ]
    }
   ],
   "source": [
    "model = AutoModelForSequenceClassification.from_pretrained(\n",
    "    model_name,\n",
    "    from_tf=bool(\".ckpt\" in model_name),\n",
    "    config=config,\n",
    "    cache_dir=None,\n",
    "    revision=\"main\",\n",
    "    use_auth_token=None,\n",
    "    ignore_mismatched_sizes=False,\n",
    ")"
   ]
  },
  {
   "cell_type": "code",
   "execution_count": 34,
   "id": "1c573a30",
   "metadata": {
    "execution": {
     "iopub.execute_input": "2023-09-03T08:28:14.976590Z",
     "iopub.status.busy": "2023-09-03T08:28:14.975610Z",
     "iopub.status.idle": "2023-09-03T08:28:14.981795Z",
     "shell.execute_reply": "2023-09-03T08:28:14.980740Z"
    },
    "id": "3Vee1mSFiJpy",
    "outputId": "b0471a01-4d7f-4d67-cff8-90e0755cedfe",
    "papermill": {
     "duration": 0.061324,
     "end_time": "2023-09-03T08:28:14.984973",
     "exception": false,
     "start_time": "2023-09-03T08:28:14.923649",
     "status": "completed"
    },
    "tags": []
   },
   "outputs": [
    {
     "name": "stdout",
     "output_type": "stream",
     "text": [
      "['id', 'text']\n"
     ]
    }
   ],
   "source": [
    "non_label_column_names = [name for name in raw_datasets[\"train\"].column_names if name != \"label\"]\n",
    "print(non_label_column_names)"
   ]
  },
  {
   "cell_type": "code",
   "execution_count": 35,
   "id": "0909e3de",
   "metadata": {
    "execution": {
     "iopub.execute_input": "2023-09-03T08:28:15.088022Z",
     "iopub.status.busy": "2023-09-03T08:28:15.087611Z",
     "iopub.status.idle": "2023-09-03T08:28:15.093003Z",
     "shell.execute_reply": "2023-09-03T08:28:15.091967Z"
    },
    "id": "u1eZvI-1iLrh",
    "outputId": "3108aa8d-0cde-4324-99ff-8c47ebd5df62",
    "papermill": {
     "duration": 0.062141,
     "end_time": "2023-09-03T08:28:15.097310",
     "exception": false,
     "start_time": "2023-09-03T08:28:15.035169",
     "status": "completed"
    },
    "tags": []
   },
   "outputs": [
    {
     "name": "stdout",
     "output_type": "stream",
     "text": [
      "text\n"
     ]
    }
   ],
   "source": [
    "sentence_key= non_label_column_names[1]\n",
    "print(sentence_key)"
   ]
  },
  {
   "cell_type": "code",
   "execution_count": 36,
   "id": "72ebad08",
   "metadata": {
    "execution": {
     "iopub.execute_input": "2023-09-03T08:28:15.200088Z",
     "iopub.status.busy": "2023-09-03T08:28:15.199736Z",
     "iopub.status.idle": "2023-09-03T08:28:15.209749Z",
     "shell.execute_reply": "2023-09-03T08:28:15.208405Z"
    },
    "id": "5axNgWLpiNVg",
    "outputId": "53be25ce-bfa7-4e74-ccdf-683d4b17eaca",
    "papermill": {
     "duration": 0.064101,
     "end_time": "2023-09-03T08:28:15.211846",
     "exception": false,
     "start_time": "2023-09-03T08:28:15.147745",
     "status": "completed"
    },
    "tags": []
   },
   "outputs": [
    {
     "name": "stdout",
     "output_type": "stream",
     "text": [
      "128\n"
     ]
    }
   ],
   "source": [
    "padding = \"max_length\"\n",
    "label_to_id = None\n",
    "\n",
    "if (model.config.label2id != PretrainedConfig(num_labels=num_labels).label2id):\n",
    "    # Some have all caps in their config, some don't.\n",
    "    label_name_to_id = {k.lower(): v for k, v in model.config.label2id.items()}\n",
    "    if sorted(label_name_to_id.keys()) == sorted(label_list):\n",
    "        label_to_id = {i: int(label_name_to_id[label_list[i]]) for i in range(num_labels)}\n",
    "    else:\n",
    "        logger.warning(\n",
    "            \"Your model seems to have been trained with labels, but they don't match the dataset: \",\n",
    "            f\"model labels: {sorted(label_name_to_id.keys())}, dataset labels: {sorted(label_list)}.\"\n",
    "            \"\\nIgnoring the model labels as a result.\",)\n",
    "\n",
    "\n",
    "if label_to_id is not None:\n",
    "    model.config.label2id = label_to_id\n",
    "    model.config.id2label = {id: label for label, id in config.label2id.items()}\n",
    "\n",
    "\n",
    "if 128 > tokenizer.model_max_length:\n",
    "    logger.warning(\n",
    "        f\"The max_seq_length passed ({128}) is larger than the maximum length for the\"\n",
    "        f\"model ({tokenizer.model_max_length}). Using max_seq_length={tokenizer.model_max_length}.\")\n",
    "\n",
    "\n",
    "max_seq_length = min(128, tokenizer.model_max_length)\n",
    "print(max_seq_length)"
   ]
  },
  {
   "cell_type": "code",
   "execution_count": 37,
   "id": "65fd9ff5",
   "metadata": {
    "execution": {
     "iopub.execute_input": "2023-09-03T08:28:15.314729Z",
     "iopub.status.busy": "2023-09-03T08:28:15.314283Z",
     "iopub.status.idle": "2023-09-03T08:28:15.320315Z",
     "shell.execute_reply": "2023-09-03T08:28:15.319351Z"
    },
    "id": "HG8Q_DaDiVes",
    "papermill": {
     "duration": 0.059583,
     "end_time": "2023-09-03T08:28:15.322369",
     "exception": false,
     "start_time": "2023-09-03T08:28:15.262786",
     "status": "completed"
    },
    "tags": []
   },
   "outputs": [],
   "source": [
    "def preprocess_function(examples):\n",
    "    # Tokenize the texts\n",
    "    args = (\n",
    "        (examples[sentence_key],))\n",
    "    result = tokenizer(*args, padding=padding, max_length=max_seq_length, truncation=True)\n",
    "\n",
    "    # Map labels to IDs (not necessary for GLUE tasks)\n",
    "    if label_to_id is not None and \"label\" in examples:\n",
    "        result[\"label\"] = [(label_to_id[l] if l != -1 else -1) for l in examples[\"label\"]]\n",
    "    return result"
   ]
  },
  {
   "cell_type": "code",
   "execution_count": 38,
   "id": "2116bf75",
   "metadata": {
    "execution": {
     "iopub.execute_input": "2023-09-03T08:28:15.425061Z",
     "iopub.status.busy": "2023-09-03T08:28:15.424151Z",
     "iopub.status.idle": "2023-09-03T08:28:25.130181Z",
     "shell.execute_reply": "2023-09-03T08:28:25.128229Z"
    },
    "id": "09zWjRp-iXSj",
    "outputId": "65c67681-711a-428c-85be-4c79286cd146",
    "papermill": {
     "duration": 9.759778,
     "end_time": "2023-09-03T08:28:25.132391",
     "exception": false,
     "start_time": "2023-09-03T08:28:15.372613",
     "status": "completed"
    },
    "tags": []
   },
   "outputs": [
    {
     "data": {
      "application/vnd.jupyter.widget-view+json": {
       "model_id": "a8e177e5b1a84c5e827c0f28a9f3a63b",
       "version_major": 2,
       "version_minor": 0
      },
      "text/plain": [
       "Running tokenizer on dataset:   0%|          | 0/36 [00:00<?, ?ba/s]"
      ]
     },
     "metadata": {},
     "output_type": "display_data"
    },
    {
     "data": {
      "application/vnd.jupyter.widget-view+json": {
       "model_id": "2e1f147da2d24388a4e170bbb9de3ea3",
       "version_major": 2,
       "version_minor": 0
      },
      "text/plain": [
       "Running tokenizer on dataset:   0%|          | 0/4 [00:00<?, ?ba/s]"
      ]
     },
     "metadata": {},
     "output_type": "display_data"
    },
    {
     "data": {
      "application/vnd.jupyter.widget-view+json": {
       "model_id": "d59817c295f34c8c966fde5286a1cf3d",
       "version_major": 2,
       "version_minor": 0
      },
      "text/plain": [
       "Running tokenizer on dataset:   0%|          | 0/7 [00:00<?, ?ba/s]"
      ]
     },
     "metadata": {},
     "output_type": "display_data"
    }
   ],
   "source": [
    "raw_datasets = raw_datasets.map(\n",
    "    preprocess_function,\n",
    "    batched=True,\n",
    "    load_from_cache_file=True,\n",
    "    desc=\"Running tokenizer on dataset\",\n",
    ")"
   ]
  },
  {
   "cell_type": "code",
   "execution_count": 39,
   "id": "9bc05826",
   "metadata": {
    "execution": {
     "iopub.execute_input": "2023-09-03T08:28:25.235030Z",
     "iopub.status.busy": "2023-09-03T08:28:25.234339Z",
     "iopub.status.idle": "2023-09-03T08:28:25.240175Z",
     "shell.execute_reply": "2023-09-03T08:28:25.239200Z"
    },
    "id": "RCMi-pdniZFW",
    "papermill": {
     "duration": 0.059039,
     "end_time": "2023-09-03T08:28:25.242291",
     "exception": false,
     "start_time": "2023-09-03T08:28:25.183252",
     "status": "completed"
    },
    "tags": []
   },
   "outputs": [],
   "source": [
    "if \"train\" not in raw_datasets:\n",
    "    raise ValueError(\"requires a train dataset\")"
   ]
  },
  {
   "cell_type": "code",
   "execution_count": 40,
   "id": "9939200a",
   "metadata": {
    "execution": {
     "iopub.execute_input": "2023-09-03T08:28:25.343951Z",
     "iopub.status.busy": "2023-09-03T08:28:25.342850Z",
     "iopub.status.idle": "2023-09-03T08:28:25.348966Z",
     "shell.execute_reply": "2023-09-03T08:28:25.347918Z"
    },
    "id": "94_FJBIDibCK",
    "outputId": "1ab7c9e1-41a9-4131-f112-a15ac0a67a70",
    "papermill": {
     "duration": 0.059297,
     "end_time": "2023-09-03T08:28:25.351025",
     "exception": false,
     "start_time": "2023-09-03T08:28:25.291728",
     "status": "completed"
    },
    "tags": []
   },
   "outputs": [
    {
     "name": "stdout",
     "output_type": "stream",
     "text": [
      "Dataset({\n",
      "    features: ['id', 'text', 'label', 'input_ids', 'token_type_ids', 'attention_mask'],\n",
      "    num_rows: 35266\n",
      "})\n"
     ]
    }
   ],
   "source": [
    "train_dataset = raw_datasets[\"train\"]\n",
    "print(train_dataset)"
   ]
  },
  {
   "cell_type": "code",
   "execution_count": 41,
   "id": "1a304002",
   "metadata": {
    "execution": {
     "iopub.execute_input": "2023-09-03T08:28:25.514245Z",
     "iopub.status.busy": "2023-09-03T08:28:25.513723Z",
     "iopub.status.idle": "2023-09-03T08:28:25.518893Z",
     "shell.execute_reply": "2023-09-03T08:28:25.518031Z"
    },
    "id": "yIwkyGETia59",
    "papermill": {
     "duration": 0.087474,
     "end_time": "2023-09-03T08:28:25.523177",
     "exception": false,
     "start_time": "2023-09-03T08:28:25.435703",
     "status": "completed"
    },
    "tags": []
   },
   "outputs": [],
   "source": [
    "if \"validation\" not in raw_datasets:\n",
    "    raise ValueError(\"requires a validation dataset\")"
   ]
  },
  {
   "cell_type": "code",
   "execution_count": 42,
   "id": "82e2f7aa",
   "metadata": {
    "execution": {
     "iopub.execute_input": "2023-09-03T08:28:25.669769Z",
     "iopub.status.busy": "2023-09-03T08:28:25.669200Z",
     "iopub.status.idle": "2023-09-03T08:28:25.675112Z",
     "shell.execute_reply": "2023-09-03T08:28:25.674230Z"
    },
    "id": "rlwxYem0ieTc",
    "outputId": "480f3699-c283-4464-a986-b1c42cc66f8a",
    "papermill": {
     "duration": 0.08476,
     "end_time": "2023-09-03T08:28:25.680761",
     "exception": false,
     "start_time": "2023-09-03T08:28:25.596001",
     "status": "completed"
    },
    "tags": []
   },
   "outputs": [
    {
     "name": "stdout",
     "output_type": "stream",
     "text": [
      "Dataset({\n",
      "    features: ['id', 'text', 'label', 'input_ids', 'token_type_ids', 'attention_mask'],\n",
      "    num_rows: 3934\n",
      "})\n"
     ]
    }
   ],
   "source": [
    "eval_dataset = raw_datasets[\"validation\"]\n",
    "print(eval_dataset)"
   ]
  },
  {
   "cell_type": "code",
   "execution_count": 43,
   "id": "5a035f50",
   "metadata": {
    "execution": {
     "iopub.execute_input": "2023-09-03T08:28:25.832074Z",
     "iopub.status.busy": "2023-09-03T08:28:25.831644Z",
     "iopub.status.idle": "2023-09-03T08:28:25.837314Z",
     "shell.execute_reply": "2023-09-03T08:28:25.836450Z"
    },
    "id": "7v8UZq3Sif1i",
    "outputId": "24bbe690-a5d3-4c88-ca20-3fb724509acc",
    "papermill": {
     "duration": 0.086326,
     "end_time": "2023-09-03T08:28:25.842996",
     "exception": false,
     "start_time": "2023-09-03T08:28:25.756670",
     "status": "completed"
    },
    "tags": []
   },
   "outputs": [
    {
     "name": "stdout",
     "output_type": "stream",
     "text": [
      "None\n"
     ]
    }
   ],
   "source": [
    "print(max_eval_samples)"
   ]
  },
  {
   "cell_type": "code",
   "execution_count": 44,
   "id": "c7b10bf0",
   "metadata": {
    "execution": {
     "iopub.execute_input": "2023-09-03T08:28:25.987635Z",
     "iopub.status.busy": "2023-09-03T08:28:25.987199Z",
     "iopub.status.idle": "2023-09-03T08:28:25.992751Z",
     "shell.execute_reply": "2023-09-03T08:28:25.991802Z"
    },
    "id": "5tKjxyVAihXb",
    "papermill": {
     "duration": 0.08001,
     "end_time": "2023-09-03T08:28:25.995045",
     "exception": false,
     "start_time": "2023-09-03T08:28:25.915035",
     "status": "completed"
    },
    "tags": []
   },
   "outputs": [],
   "source": [
    "if max_eval_samples is not None:\n",
    "    max_eval_samples_n = min(len(eval_dataset), max_eval_samples)\n",
    "    eval_dataset = eval_dataset.select(range(max_eval_samples_n))"
   ]
  },
  {
   "cell_type": "code",
   "execution_count": 45,
   "id": "d81cbdc6",
   "metadata": {
    "execution": {
     "iopub.execute_input": "2023-09-03T08:28:26.147589Z",
     "iopub.status.busy": "2023-09-03T08:28:26.147044Z",
     "iopub.status.idle": "2023-09-03T08:28:26.152121Z",
     "shell.execute_reply": "2023-09-03T08:28:26.151309Z"
    },
    "id": "4jjQCwGFijBW",
    "papermill": {
     "duration": 0.082904,
     "end_time": "2023-09-03T08:28:26.156309",
     "exception": false,
     "start_time": "2023-09-03T08:28:26.073405",
     "status": "completed"
    },
    "tags": []
   },
   "outputs": [],
   "source": [
    "if \"test\" not in raw_datasets and \"test_matched\" not in raw_datasets:\n",
    "    raise ValueError(\"requires a test dataset\")"
   ]
  },
  {
   "cell_type": "code",
   "execution_count": 46,
   "id": "855f0034",
   "metadata": {
    "execution": {
     "iopub.execute_input": "2023-09-03T08:28:26.303709Z",
     "iopub.status.busy": "2023-09-03T08:28:26.303283Z",
     "iopub.status.idle": "2023-09-03T08:28:26.308335Z",
     "shell.execute_reply": "2023-09-03T08:28:26.307502Z"
    },
    "id": "VW0dNBHdiku5",
    "outputId": "ee27e175-356a-45a8-aa0c-b875eb055de3",
    "papermill": {
     "duration": 0.085246,
     "end_time": "2023-09-03T08:28:26.314080",
     "exception": false,
     "start_time": "2023-09-03T08:28:26.228834",
     "status": "completed"
    },
    "tags": []
   },
   "outputs": [
    {
     "name": "stdout",
     "output_type": "stream",
     "text": [
      "Dataset({\n",
      "    features: ['id', 'text', 'label', 'input_ids', 'token_type_ids', 'attention_mask'],\n",
      "    num_rows: 6707\n",
      "})\n"
     ]
    }
   ],
   "source": [
    "predict_dataset = raw_datasets[\"test\"]\n",
    "print(predict_dataset)"
   ]
  },
  {
   "cell_type": "code",
   "execution_count": 47,
   "id": "1ada686f",
   "metadata": {
    "execution": {
     "iopub.execute_input": "2023-09-03T08:28:26.460160Z",
     "iopub.status.busy": "2023-09-03T08:28:26.459749Z",
     "iopub.status.idle": "2023-09-03T08:28:26.464772Z",
     "shell.execute_reply": "2023-09-03T08:28:26.463916Z"
    },
    "id": "pJ8_wHwXimgq",
    "outputId": "1dbd0e5b-cc4e-4722-f04d-9a9e61a6927c",
    "papermill": {
     "duration": 0.084472,
     "end_time": "2023-09-03T08:28:26.470488",
     "exception": false,
     "start_time": "2023-09-03T08:28:26.386016",
     "status": "completed"
    },
    "tags": []
   },
   "outputs": [
    {
     "name": "stdout",
     "output_type": "stream",
     "text": [
      "None\n"
     ]
    }
   ],
   "source": [
    "print(max_predict_samples)"
   ]
  },
  {
   "cell_type": "code",
   "execution_count": 48,
   "id": "ce70ecce",
   "metadata": {
    "execution": {
     "iopub.execute_input": "2023-09-03T08:28:26.621243Z",
     "iopub.status.busy": "2023-09-03T08:28:26.620835Z",
     "iopub.status.idle": "2023-09-03T08:28:26.625936Z",
     "shell.execute_reply": "2023-09-03T08:28:26.625102Z"
    },
    "id": "DPyp_Wtuinpt",
    "papermill": {
     "duration": 0.083606,
     "end_time": "2023-09-03T08:28:26.630140",
     "exception": false,
     "start_time": "2023-09-03T08:28:26.546534",
     "status": "completed"
    },
    "tags": []
   },
   "outputs": [],
   "source": [
    "if max_predict_samples is not None:\n",
    "    max_predict_samples_n = min(len(predict_dataset), max_predict_samples)\n",
    "    predict_dataset = predict_dataset.select(range(max_predict_samples_n))"
   ]
  },
  {
   "cell_type": "code",
   "execution_count": 49,
   "id": "bd26946d",
   "metadata": {
    "execution": {
     "iopub.execute_input": "2023-09-03T08:28:26.779541Z",
     "iopub.status.busy": "2023-09-03T08:28:26.779128Z",
     "iopub.status.idle": "2023-09-03T08:28:26.789749Z",
     "shell.execute_reply": "2023-09-03T08:28:26.788914Z"
    },
    "id": "_kTaTUe8ipMZ",
    "outputId": "dc90664d-976a-4a50-9d75-7eaa1b4793b5",
    "papermill": {
     "duration": 0.089661,
     "end_time": "2023-09-03T08:28:26.792672",
     "exception": false,
     "start_time": "2023-09-03T08:28:26.703011",
     "status": "completed"
    },
    "tags": []
   },
   "outputs": [],
   "source": [
    "for index in random.sample(range(len(train_dataset)), 3):\n",
    "    logger.info(f\"Sample {index} of the training set: {train_dataset[index]}.\")"
   ]
  },
  {
   "cell_type": "code",
   "execution_count": 50,
   "id": "e3804667",
   "metadata": {
    "execution": {
     "iopub.execute_input": "2023-09-03T08:28:26.943424Z",
     "iopub.status.busy": "2023-09-03T08:28:26.943053Z",
     "iopub.status.idle": "2023-09-03T08:28:27.653424Z",
     "shell.execute_reply": "2023-09-03T08:28:27.652467Z"
    },
    "id": "t452YYtiirG3",
    "outputId": "0d6ccc07-4d04-43e0-86f2-5deb7a929f78",
    "papermill": {
     "duration": 0.789336,
     "end_time": "2023-09-03T08:28:27.655751",
     "exception": false,
     "start_time": "2023-09-03T08:28:26.866415",
     "status": "completed"
    },
    "tags": []
   },
   "outputs": [
    {
     "data": {
      "application/vnd.jupyter.widget-view+json": {
       "model_id": "00efd5d0e3dc4a17ae86c4405a322839",
       "version_major": 2,
       "version_minor": 0
      },
      "text/plain": [
       "Downloading builder script:   0%|          | 0.00/4.20k [00:00<?, ?B/s]"
      ]
     },
     "metadata": {},
     "output_type": "display_data"
    }
   ],
   "source": [
    "metric = evaluate.load(\"accuracy\")"
   ]
  },
  {
   "cell_type": "code",
   "execution_count": 51,
   "id": "643e1cb2",
   "metadata": {
    "execution": {
     "iopub.execute_input": "2023-09-03T08:28:27.763000Z",
     "iopub.status.busy": "2023-09-03T08:28:27.761938Z",
     "iopub.status.idle": "2023-09-03T08:28:27.769619Z",
     "shell.execute_reply": "2023-09-03T08:28:27.768360Z"
    },
    "id": "r0kYkp-gis_E",
    "papermill": {
     "duration": 0.064028,
     "end_time": "2023-09-03T08:28:27.772351",
     "exception": false,
     "start_time": "2023-09-03T08:28:27.708323",
     "status": "completed"
    },
    "tags": []
   },
   "outputs": [],
   "source": [
    "def calculate_micro_f1_score(true_positives, false_positives, false_negatives):\n",
    "    total_tp = sum(true_positives)\n",
    "    total_fp = sum(false_positives)\n",
    "    total_fn = sum(false_negatives)\n",
    "\n",
    "    micro_precision = total_tp / (total_tp + total_fp + 1e-9)\n",
    "    micro_recall = total_tp / (total_tp + total_fn + 1e-9)\n",
    "\n",
    "    micro_f1 = 2 * (micro_precision * micro_recall) / (micro_precision + micro_recall + 1e-9)\n",
    "\n",
    "    return micro_f1"
   ]
  },
  {
   "cell_type": "code",
   "execution_count": 52,
   "id": "6a98afe1",
   "metadata": {
    "execution": {
     "iopub.execute_input": "2023-09-03T08:28:27.893458Z",
     "iopub.status.busy": "2023-09-03T08:28:27.893038Z",
     "iopub.status.idle": "2023-09-03T08:28:27.903704Z",
     "shell.execute_reply": "2023-09-03T08:28:27.902484Z"
    },
    "id": "9ZFDrvrBiuq2",
    "papermill": {
     "duration": 0.074426,
     "end_time": "2023-09-03T08:28:27.906111",
     "exception": false,
     "start_time": "2023-09-03T08:28:27.831685",
     "status": "completed"
    },
    "tags": []
   },
   "outputs": [],
   "source": [
    "def compute_metrics(p: EvalPrediction):\n",
    "    preds = p.predictions[0] if isinstance(p.predictions, tuple) else p.predictions\n",
    "    preds = np.argmax(preds, axis=1)\n",
    "\n",
    "    labels = p.label_ids\n",
    "    # Initialize dictionaries to store TP, FP, and FN for each class\n",
    "    true_positives = {label: 0 for label in range(num_labels)}\n",
    "    false_positives = {label: 0 for label in range(num_labels)}\n",
    "    false_negatives = {label: 0 for label in range(num_labels)}\n",
    "\n",
    "    for label, pred in zip(labels, preds):\n",
    "        for class_id in range(num_labels):\n",
    "            if class_id == label and class_id == pred:\n",
    "                true_positives[class_id] += 1\n",
    "            elif class_id != label and class_id == pred:\n",
    "                false_positives[class_id] += 1\n",
    "            elif class_id == label and class_id != pred:\n",
    "                false_negatives[class_id] += 1\n",
    "\n",
    "    return {\n",
    "        \"micro_f1_score\": calculate_micro_f1_score(\n",
    "            list(true_positives.values()), list(false_positives.values()), list(false_negatives.values())\n",
    "        ),\n",
    "        \"accuracy\": (preds == p.label_ids).astype(np.float32).mean().item()\n",
    "    }\n"
   ]
  },
  {
   "cell_type": "code",
   "execution_count": 53,
   "id": "1a8f4079",
   "metadata": {
    "execution": {
     "iopub.execute_input": "2023-09-03T08:28:28.020332Z",
     "iopub.status.busy": "2023-09-03T08:28:28.019945Z",
     "iopub.status.idle": "2023-09-03T08:28:28.024948Z",
     "shell.execute_reply": "2023-09-03T08:28:28.023859Z"
    },
    "id": "7syVbLmfiwlA",
    "papermill": {
     "duration": 0.063119,
     "end_time": "2023-09-03T08:28:28.027092",
     "exception": false,
     "start_time": "2023-09-03T08:28:27.963973",
     "status": "completed"
    },
    "tags": []
   },
   "outputs": [],
   "source": [
    "data_collator = default_data_collator"
   ]
  },
  {
   "cell_type": "code",
   "execution_count": 54,
   "id": "9b7adce2",
   "metadata": {
    "execution": {
     "iopub.execute_input": "2023-09-03T08:28:28.136563Z",
     "iopub.status.busy": "2023-09-03T08:28:28.135391Z",
     "iopub.status.idle": "2023-09-03T08:28:28.140534Z",
     "shell.execute_reply": "2023-09-03T08:28:28.139607Z"
    },
    "papermill": {
     "duration": 0.061693,
     "end_time": "2023-09-03T08:28:28.142774",
     "exception": false,
     "start_time": "2023-09-03T08:28:28.081081",
     "status": "completed"
    },
    "tags": []
   },
   "outputs": [],
   "source": [
    "import os\n",
    "os.environ[\"WANDB_DISABLED\"] = \"true\""
   ]
  },
  {
   "cell_type": "code",
   "execution_count": 55,
   "id": "c7e03ccf",
   "metadata": {
    "execution": {
     "iopub.execute_input": "2023-09-03T08:28:28.249068Z",
     "iopub.status.busy": "2023-09-03T08:28:28.248703Z",
     "iopub.status.idle": "2023-09-03T08:28:53.247267Z",
     "shell.execute_reply": "2023-09-03T08:28:53.246150Z"
    },
    "id": "5RCsmPDri0LL",
    "outputId": "5dae7d8e-57b6-4742-8cb4-f1434436d203",
    "papermill": {
     "duration": 25.054839,
     "end_time": "2023-09-03T08:28:53.249394",
     "exception": false,
     "start_time": "2023-09-03T08:28:28.194555",
     "status": "completed"
    },
    "tags": []
   },
   "outputs": [
    {
     "name": "stderr",
     "output_type": "stream",
     "text": [
      "[INFO|training_args.py:1271] 2023-09-03 08:28:28,252 >> using `logging_steps` to initialize `eval_steps` to 500\n",
      "[INFO|training_args.py:1327] 2023-09-03 08:28:28,254 >> Found safetensors installation, but --save_safetensors=False. Safetensors should be a preferred weights saving format due to security and performance reasons. If your model cannot be saved by safetensors please feel free to open an issue at https://github.com/huggingface/safetensors!\n",
      "[INFO|training_args.py:1769] 2023-09-03 08:28:28,255 >> PyTorch: setting up devices\n",
      "[INFO|training_args.py:1480] 2023-09-03 08:28:28,257 >> The default value for the training argument `--report_to` will change in v5 (from all installed integrations to none). In v5, you will need to use `--report_to all` to get the same behavior as now. You should start updating your code and make this info disappear :-).\n",
      "[WARNING|integrations.py:81] 2023-09-03 08:28:28,259 >> Using the `WANDB_DISABLED` environment variable is deprecated and will be removed in v5. Use the --report_to flag to control the integrations used for logging result (for instance --report_to none).\n",
      "[INFO|trainer.py:750] 2023-09-03 08:28:33,197 >> The following columns in the evaluation set don't have a corresponding argument in `BertForSequenceClassification.forward` and have been ignored: text, id. If text, id are not expected by `BertForSequenceClassification.forward`,  you can safely ignore this message.\n",
      "[INFO|trainer.py:3119] 2023-09-03 08:28:33,216 >> ***** Running Evaluation *****\n",
      "[INFO|trainer.py:3121] 2023-09-03 08:28:33,220 >>   Num examples = 3934\n",
      "[INFO|trainer.py:3124] 2023-09-03 08:28:33,223 >>   Batch size = 8\n",
      "[WARNING|logging.py:290] 2023-09-03 08:28:33,242 >> You're using a BertTokenizerFast tokenizer. Please note that with a fast tokenizer, using the `__call__` method is faster than using a method to encode the text followed by a call to the `pad` method to get a padded encoding.\n"
     ]
    },
    {
     "data": {
      "text/html": [
       "\n",
       "    <div>\n",
       "      \n",
       "      <progress value='984' max='492' style='width:300px; height:20px; vertical-align: middle;'></progress>\n",
       "      [492/492 01:47]\n",
       "    </div>\n",
       "    "
      ],
      "text/plain": [
       "<IPython.core.display.HTML object>"
      ]
     },
     "metadata": {},
     "output_type": "display_data"
    },
    {
     "name": "stdout",
     "output_type": "stream",
     "text": [
      "{'eval_loss': 1.0725785493850708, 'eval_micro_f1_score': 0.44306049772052797, 'eval_accuracy': 0.4430604875087738, 'eval_runtime': 20.0327, 'eval_samples_per_second': 196.379, 'eval_steps_per_second': 24.56}\n"
     ]
    }
   ],
   "source": [
    "from transformers import BertTokenizer, BertForSequenceClassification, Trainer, TrainingArguments\n",
    "training_args = TrainingArguments(\n",
    "    output_dir=\"./output\",\n",
    "    evaluation_strategy=\"steps\",  # Changed to \"steps\"\n",
    "    logging_dir=\"./logs\",\n",
    "    per_device_train_batch_size=8,\n",
    "    per_device_eval_batch_size=8,\n",
    "    learning_rate=2e-5,\n",
    "    num_train_epochs=3,\n",
    "    weight_decay=0.01,\n",
    "    save_total_limit=3,  # Limit the number of saved checkpoints\n",
    "    load_best_model_at_end=True,\n",
    ")\n",
    "\n",
    "# Initialize the Trainer\n",
    "trainer = Trainer(\n",
    "    model=model,\n",
    "    args=training_args,\n",
    "    train_dataset=train_dataset,\n",
    "    eval_dataset=eval_dataset,\n",
    "    compute_metrics=compute_metrics,\n",
    "    tokenizer=tokenizer,\n",
    ")\n",
    "\n",
    "# Perform cross-validation\n",
    "results = trainer.evaluate()\n",
    "print(results)"
   ]
  },
  {
   "cell_type": "code",
   "execution_count": 56,
   "id": "f3f95361",
   "metadata": {
    "execution": {
     "iopub.execute_input": "2023-09-03T08:28:53.354093Z",
     "iopub.status.busy": "2023-09-03T08:28:53.353731Z",
     "iopub.status.idle": "2023-09-03T09:09:15.870116Z",
     "shell.execute_reply": "2023-09-03T09:09:15.866631Z"
    },
    "id": "cZX4TLpXi-iX",
    "outputId": "cd9b854c-b4ca-4290-fd9c-02b37722f2a4",
    "papermill": {
     "duration": 2422.573629,
     "end_time": "2023-09-03T09:09:15.874667",
     "exception": false,
     "start_time": "2023-09-03T08:28:53.301038",
     "status": "completed"
    },
    "tags": []
   },
   "outputs": [
    {
     "name": "stderr",
     "output_type": "stream",
     "text": [
      "[INFO|trainer.py:750] 2023-09-03 08:28:53,678 >> The following columns in the training set don't have a corresponding argument in `BertForSequenceClassification.forward` and have been ignored: text, id. If text, id are not expected by `BertForSequenceClassification.forward`,  you can safely ignore this message.\n",
      "[INFO|trainer.py:1714] 2023-09-03 08:28:53,693 >> ***** Running training *****\n",
      "[INFO|trainer.py:1715] 2023-09-03 08:28:53,694 >>   Num examples = 35,266\n",
      "[INFO|trainer.py:1716] 2023-09-03 08:28:53,695 >>   Num Epochs = 3\n",
      "[INFO|trainer.py:1717] 2023-09-03 08:28:53,696 >>   Instantaneous batch size per device = 8\n",
      "[INFO|trainer.py:1720] 2023-09-03 08:28:53,697 >>   Total train batch size (w. parallel, distributed & accumulation) = 8\n",
      "[INFO|trainer.py:1721] 2023-09-03 08:28:53,699 >>   Gradient Accumulation steps = 1\n",
      "[INFO|trainer.py:1722] 2023-09-03 08:28:53,700 >>   Total optimization steps = 13,227\n",
      "[INFO|trainer.py:1723] 2023-09-03 08:28:53,703 >>   Number of trainable parameters = 164,398,851\n"
     ]
    },
    {
     "data": {
      "text/html": [
       "\n",
       "    <div>\n",
       "      \n",
       "      <progress value='13227' max='13227' style='width:300px; height:20px; vertical-align: middle;'></progress>\n",
       "      [13227/13227 40:21, Epoch 3/3]\n",
       "    </div>\n",
       "    <table border=\"1\" class=\"dataframe\">\n",
       "  <thead>\n",
       " <tr style=\"text-align: left;\">\n",
       "      <th>Step</th>\n",
       "      <th>Training Loss</th>\n",
       "      <th>Validation Loss</th>\n",
       "      <th>Micro F1 Score</th>\n",
       "      <th>Accuracy</th>\n",
       "    </tr>\n",
       "  </thead>\n",
       "  <tbody>\n",
       "    <tr>\n",
       "      <td>500</td>\n",
       "      <td>0.969100</td>\n",
       "      <td>0.902644</td>\n",
       "      <td>0.592781</td>\n",
       "      <td>0.592781</td>\n",
       "    </tr>\n",
       "    <tr>\n",
       "      <td>1000</td>\n",
       "      <td>0.880400</td>\n",
       "      <td>0.885877</td>\n",
       "      <td>0.599136</td>\n",
       "      <td>0.599136</td>\n",
       "    </tr>\n",
       "    <tr>\n",
       "      <td>1500</td>\n",
       "      <td>0.867200</td>\n",
       "      <td>0.891225</td>\n",
       "      <td>0.588714</td>\n",
       "      <td>0.588714</td>\n",
       "    </tr>\n",
       "    <tr>\n",
       "      <td>2000</td>\n",
       "      <td>0.879900</td>\n",
       "      <td>0.852601</td>\n",
       "      <td>0.623538</td>\n",
       "      <td>0.623538</td>\n",
       "    </tr>\n",
       "    <tr>\n",
       "      <td>2500</td>\n",
       "      <td>0.839800</td>\n",
       "      <td>0.841016</td>\n",
       "      <td>0.623538</td>\n",
       "      <td>0.623538</td>\n",
       "    </tr>\n",
       "    <tr>\n",
       "      <td>3000</td>\n",
       "      <td>0.855900</td>\n",
       "      <td>0.826561</td>\n",
       "      <td>0.630910</td>\n",
       "      <td>0.630910</td>\n",
       "    </tr>\n",
       "    <tr>\n",
       "      <td>3500</td>\n",
       "      <td>0.831200</td>\n",
       "      <td>0.832860</td>\n",
       "      <td>0.645399</td>\n",
       "      <td>0.645399</td>\n",
       "    </tr>\n",
       "    <tr>\n",
       "      <td>4000</td>\n",
       "      <td>0.828300</td>\n",
       "      <td>0.848239</td>\n",
       "      <td>0.640824</td>\n",
       "      <td>0.640824</td>\n",
       "    </tr>\n",
       "    <tr>\n",
       "      <td>4500</td>\n",
       "      <td>0.791300</td>\n",
       "      <td>0.860791</td>\n",
       "      <td>0.654550</td>\n",
       "      <td>0.654550</td>\n",
       "    </tr>\n",
       "    <tr>\n",
       "      <td>5000</td>\n",
       "      <td>0.665000</td>\n",
       "      <td>0.824232</td>\n",
       "      <td>0.649975</td>\n",
       "      <td>0.649975</td>\n",
       "    </tr>\n",
       "    <tr>\n",
       "      <td>5500</td>\n",
       "      <td>0.660700</td>\n",
       "      <td>0.823806</td>\n",
       "      <td>0.660651</td>\n",
       "      <td>0.660651</td>\n",
       "    </tr>\n",
       "    <tr>\n",
       "      <td>6000</td>\n",
       "      <td>0.659800</td>\n",
       "      <td>0.861459</td>\n",
       "      <td>0.661159</td>\n",
       "      <td>0.661159</td>\n",
       "    </tr>\n",
       "    <tr>\n",
       "      <td>6500</td>\n",
       "      <td>0.688300</td>\n",
       "      <td>0.814306</td>\n",
       "      <td>0.661922</td>\n",
       "      <td>0.661922</td>\n",
       "    </tr>\n",
       "    <tr>\n",
       "      <td>7000</td>\n",
       "      <td>0.673700</td>\n",
       "      <td>0.833847</td>\n",
       "      <td>0.656329</td>\n",
       "      <td>0.656329</td>\n",
       "    </tr>\n",
       "    <tr>\n",
       "      <td>7500</td>\n",
       "      <td>0.674100</td>\n",
       "      <td>0.808513</td>\n",
       "      <td>0.665226</td>\n",
       "      <td>0.665226</td>\n",
       "    </tr>\n",
       "    <tr>\n",
       "      <td>8000</td>\n",
       "      <td>0.658900</td>\n",
       "      <td>0.819018</td>\n",
       "      <td>0.670310</td>\n",
       "      <td>0.670310</td>\n",
       "    </tr>\n",
       "    <tr>\n",
       "      <td>8500</td>\n",
       "      <td>0.656800</td>\n",
       "      <td>0.799951</td>\n",
       "      <td>0.674631</td>\n",
       "      <td>0.674631</td>\n",
       "    </tr>\n",
       "    <tr>\n",
       "      <td>9000</td>\n",
       "      <td>0.572600</td>\n",
       "      <td>0.904358</td>\n",
       "      <td>0.670819</td>\n",
       "      <td>0.670819</td>\n",
       "    </tr>\n",
       "    <tr>\n",
       "      <td>9500</td>\n",
       "      <td>0.472300</td>\n",
       "      <td>0.914647</td>\n",
       "      <td>0.672089</td>\n",
       "      <td>0.672089</td>\n",
       "    </tr>\n",
       "    <tr>\n",
       "      <td>10000</td>\n",
       "      <td>0.478100</td>\n",
       "      <td>0.941441</td>\n",
       "      <td>0.670819</td>\n",
       "      <td>0.670819</td>\n",
       "    </tr>\n",
       "    <tr>\n",
       "      <td>10500</td>\n",
       "      <td>0.463100</td>\n",
       "      <td>1.005193</td>\n",
       "      <td>0.678190</td>\n",
       "      <td>0.678190</td>\n",
       "    </tr>\n",
       "    <tr>\n",
       "      <td>11000</td>\n",
       "      <td>0.471600</td>\n",
       "      <td>0.961734</td>\n",
       "      <td>0.676411</td>\n",
       "      <td>0.676411</td>\n",
       "    </tr>\n",
       "    <tr>\n",
       "      <td>11500</td>\n",
       "      <td>0.457700</td>\n",
       "      <td>0.979208</td>\n",
       "      <td>0.671073</td>\n",
       "      <td>0.671073</td>\n",
       "    </tr>\n",
       "    <tr>\n",
       "      <td>12000</td>\n",
       "      <td>0.445700</td>\n",
       "      <td>0.972495</td>\n",
       "      <td>0.671073</td>\n",
       "      <td>0.671073</td>\n",
       "    </tr>\n",
       "    <tr>\n",
       "      <td>12500</td>\n",
       "      <td>0.456200</td>\n",
       "      <td>0.968429</td>\n",
       "      <td>0.676665</td>\n",
       "      <td>0.676665</td>\n",
       "    </tr>\n",
       "    <tr>\n",
       "      <td>13000</td>\n",
       "      <td>0.446400</td>\n",
       "      <td>0.969165</td>\n",
       "      <td>0.678190</td>\n",
       "      <td>0.678190</td>\n",
       "    </tr>\n",
       "  </tbody>\n",
       "</table><p>"
      ],
      "text/plain": [
       "<IPython.core.display.HTML object>"
      ]
     },
     "metadata": {},
     "output_type": "display_data"
    },
    {
     "name": "stderr",
     "output_type": "stream",
     "text": [
      "[INFO|trainer.py:750] 2023-09-03 08:30:02,489 >> The following columns in the evaluation set don't have a corresponding argument in `BertForSequenceClassification.forward` and have been ignored: text, id. If text, id are not expected by `BertForSequenceClassification.forward`,  you can safely ignore this message.\n",
      "[INFO|trainer.py:3119] 2023-09-03 08:30:02,495 >> ***** Running Evaluation *****\n",
      "[INFO|trainer.py:3121] 2023-09-03 08:30:02,497 >>   Num examples = 3934\n",
      "[INFO|trainer.py:3124] 2023-09-03 08:30:02,498 >>   Batch size = 8\n",
      "[INFO|trainer.py:2845] 2023-09-03 08:30:21,970 >> Saving model checkpoint to ./output/checkpoint-500\n",
      "[INFO|configuration_utils.py:460] 2023-09-03 08:30:21,973 >> Configuration saved in ./output/checkpoint-500/config.json\n",
      "[INFO|modeling_utils.py:1953] 2023-09-03 08:30:23,044 >> Model weights saved in ./output/checkpoint-500/pytorch_model.bin\n",
      "[INFO|tokenization_utils_base.py:2235] 2023-09-03 08:30:23,046 >> tokenizer config file saved in ./output/checkpoint-500/tokenizer_config.json\n",
      "[INFO|tokenization_utils_base.py:2242] 2023-09-03 08:30:23,047 >> Special tokens file saved in ./output/checkpoint-500/special_tokens_map.json\n"
     ]
    },
    {
     "name": "stdout",
     "output_type": "stream",
     "text": [
      "The OrderedVocab you are attempting to save contains a hole for index 1015, your vocabulary could be corrupted !\n",
      "The OrderedVocab you are attempting to save contains a hole for index 1016, your vocabulary could be corrupted !\n",
      "The OrderedVocab you are attempting to save contains a hole for index 1017, your vocabulary could be corrupted !\n",
      "The OrderedVocab you are attempting to save contains a hole for index 1018, your vocabulary could be corrupted !\n",
      "The OrderedVocab you are attempting to save contains a hole for index 1053, your vocabulary could be corrupted !\n",
      "The OrderedVocab you are attempting to save contains a hole for index 1054, your vocabulary could be corrupted !\n",
      "The OrderedVocab you are attempting to save contains a hole for index 1055, your vocabulary could be corrupted !\n",
      "The OrderedVocab you are attempting to save contains a hole for index 1056, your vocabulary could be corrupted !\n",
      "The OrderedVocab you are attempting to save contains a hole for index 1057, your vocabulary could be corrupted !\n",
      "The OrderedVocab you are attempting to save contains a hole for index 1060, your vocabulary could be corrupted !\n",
      "The OrderedVocab you are attempting to save contains a hole for index 1061, your vocabulary could be corrupted !\n",
      "The OrderedVocab you are attempting to save contains a hole for index 1062, your vocabulary could be corrupted !\n",
      "The OrderedVocab you are attempting to save contains a hole for index 1064, your vocabulary could be corrupted !\n",
      "The OrderedVocab you are attempting to save contains a hole for index 1065, your vocabulary could be corrupted !\n",
      "The OrderedVocab you are attempting to save contains a hole for index 1066, your vocabulary could be corrupted !\n",
      "The OrderedVocab you are attempting to save contains a hole for index 1067, your vocabulary could be corrupted !\n",
      "The OrderedVocab you are attempting to save contains a hole for index 1068, your vocabulary could be corrupted !\n",
      "The OrderedVocab you are attempting to save contains a hole for index 1069, your vocabulary could be corrupted !\n",
      "The OrderedVocab you are attempting to save contains a hole for index 1070, your vocabulary could be corrupted !\n",
      "The OrderedVocab you are attempting to save contains a hole for index 1071, your vocabulary could be corrupted !\n",
      "The OrderedVocab you are attempting to save contains a hole for index 1072, your vocabulary could be corrupted !\n",
      "The OrderedVocab you are attempting to save contains a hole for index 1073, your vocabulary could be corrupted !\n",
      "The OrderedVocab you are attempting to save contains a hole for index 1074, your vocabulary could be corrupted !\n",
      "The OrderedVocab you are attempting to save contains a hole for index 1075, your vocabulary could be corrupted !\n",
      "The OrderedVocab you are attempting to save contains a hole for index 1076, your vocabulary could be corrupted !\n",
      "The OrderedVocab you are attempting to save contains a hole for index 1077, your vocabulary could be corrupted !\n",
      "The OrderedVocab you are attempting to save contains a hole for index 1079, your vocabulary could be corrupted !\n",
      "The OrderedVocab you are attempting to save contains a hole for index 1080, your vocabulary could be corrupted !\n",
      "The OrderedVocab you are attempting to save contains a hole for index 1081, your vocabulary could be corrupted !\n",
      "The OrderedVocab you are attempting to save contains a hole for index 1082, your vocabulary could be corrupted !\n",
      "The OrderedVocab you are attempting to save contains a hole for index 1083, your vocabulary could be corrupted !\n",
      "The OrderedVocab you are attempting to save contains a hole for index 1084, your vocabulary could be corrupted !\n",
      "The OrderedVocab you are attempting to save contains a hole for index 1085, your vocabulary could be corrupted !\n",
      "The OrderedVocab you are attempting to save contains a hole for index 1086, your vocabulary could be corrupted !\n",
      "The OrderedVocab you are attempting to save contains a hole for index 1087, your vocabulary could be corrupted !\n",
      "The OrderedVocab you are attempting to save contains a hole for index 1088, your vocabulary could be corrupted !\n",
      "The OrderedVocab you are attempting to save contains a hole for index 1089, your vocabulary could be corrupted !\n",
      "The OrderedVocab you are attempting to save contains a hole for index 1090, your vocabulary could be corrupted !\n",
      "The OrderedVocab you are attempting to save contains a hole for index 1091, your vocabulary could be corrupted !\n",
      "The OrderedVocab you are attempting to save contains a hole for index 1092, your vocabulary could be corrupted !\n",
      "The OrderedVocab you are attempting to save contains a hole for index 1093, your vocabulary could be corrupted !\n",
      "The OrderedVocab you are attempting to save contains a hole for index 1094, your vocabulary could be corrupted !\n",
      "The OrderedVocab you are attempting to save contains a hole for index 1095, your vocabulary could be corrupted !\n",
      "The OrderedVocab you are attempting to save contains a hole for index 1099, your vocabulary could be corrupted !\n",
      "The OrderedVocab you are attempting to save contains a hole for index 1101, your vocabulary could be corrupted !\n",
      "The OrderedVocab you are attempting to save contains a hole for index 1112, your vocabulary could be corrupted !\n",
      "The OrderedVocab you are attempting to save contains a hole for index 1113, your vocabulary could be corrupted !\n",
      "The OrderedVocab you are attempting to save contains a hole for index 1556, your vocabulary could be corrupted !\n",
      "The OrderedVocab you are attempting to save contains a hole for index 1557, your vocabulary could be corrupted !\n",
      "The OrderedVocab you are attempting to save contains a hole for index 1568, your vocabulary could be corrupted !\n"
     ]
    },
    {
     "name": "stderr",
     "output_type": "stream",
     "text": [
      "[INFO|trainer.py:750] 2023-09-03 08:31:34,803 >> The following columns in the evaluation set don't have a corresponding argument in `BertForSequenceClassification.forward` and have been ignored: text, id. If text, id are not expected by `BertForSequenceClassification.forward`,  you can safely ignore this message.\n",
      "[INFO|trainer.py:3119] 2023-09-03 08:31:34,809 >> ***** Running Evaluation *****\n",
      "[INFO|trainer.py:3121] 2023-09-03 08:31:34,810 >>   Num examples = 3934\n",
      "[INFO|trainer.py:3124] 2023-09-03 08:31:34,814 >>   Batch size = 8\n",
      "[INFO|trainer.py:2845] 2023-09-03 08:31:53,248 >> Saving model checkpoint to ./output/checkpoint-1000\n",
      "[INFO|configuration_utils.py:460] 2023-09-03 08:31:53,251 >> Configuration saved in ./output/checkpoint-1000/config.json\n",
      "[INFO|modeling_utils.py:1953] 2023-09-03 08:31:54,302 >> Model weights saved in ./output/checkpoint-1000/pytorch_model.bin\n",
      "[INFO|tokenization_utils_base.py:2235] 2023-09-03 08:31:54,304 >> tokenizer config file saved in ./output/checkpoint-1000/tokenizer_config.json\n",
      "[INFO|tokenization_utils_base.py:2242] 2023-09-03 08:31:54,309 >> Special tokens file saved in ./output/checkpoint-1000/special_tokens_map.json\n"
     ]
    },
    {
     "name": "stdout",
     "output_type": "stream",
     "text": [
      "The OrderedVocab you are attempting to save contains a hole for index 1015, your vocabulary could be corrupted !\n",
      "The OrderedVocab you are attempting to save contains a hole for index 1016, your vocabulary could be corrupted !\n",
      "The OrderedVocab you are attempting to save contains a hole for index 1017, your vocabulary could be corrupted !\n",
      "The OrderedVocab you are attempting to save contains a hole for index 1018, your vocabulary could be corrupted !\n",
      "The OrderedVocab you are attempting to save contains a hole for index 1053, your vocabulary could be corrupted !\n",
      "The OrderedVocab you are attempting to save contains a hole for index 1054, your vocabulary could be corrupted !\n",
      "The OrderedVocab you are attempting to save contains a hole for index 1055, your vocabulary could be corrupted !\n",
      "The OrderedVocab you are attempting to save contains a hole for index 1056, your vocabulary could be corrupted !\n",
      "The OrderedVocab you are attempting to save contains a hole for index 1057, your vocabulary could be corrupted !\n",
      "The OrderedVocab you are attempting to save contains a hole for index 1060, your vocabulary could be corrupted !\n",
      "The OrderedVocab you are attempting to save contains a hole for index 1061, your vocabulary could be corrupted !\n",
      "The OrderedVocab you are attempting to save contains a hole for index 1062, your vocabulary could be corrupted !\n",
      "The OrderedVocab you are attempting to save contains a hole for index 1064, your vocabulary could be corrupted !\n",
      "The OrderedVocab you are attempting to save contains a hole for index 1065, your vocabulary could be corrupted !\n",
      "The OrderedVocab you are attempting to save contains a hole for index 1066, your vocabulary could be corrupted !\n",
      "The OrderedVocab you are attempting to save contains a hole for index 1067, your vocabulary could be corrupted !\n",
      "The OrderedVocab you are attempting to save contains a hole for index 1068, your vocabulary could be corrupted !\n",
      "The OrderedVocab you are attempting to save contains a hole for index 1069, your vocabulary could be corrupted !\n",
      "The OrderedVocab you are attempting to save contains a hole for index 1070, your vocabulary could be corrupted !\n",
      "The OrderedVocab you are attempting to save contains a hole for index 1071, your vocabulary could be corrupted !\n",
      "The OrderedVocab you are attempting to save contains a hole for index 1072, your vocabulary could be corrupted !\n",
      "The OrderedVocab you are attempting to save contains a hole for index 1073, your vocabulary could be corrupted !\n",
      "The OrderedVocab you are attempting to save contains a hole for index 1074, your vocabulary could be corrupted !\n",
      "The OrderedVocab you are attempting to save contains a hole for index 1075, your vocabulary could be corrupted !\n",
      "The OrderedVocab you are attempting to save contains a hole for index 1076, your vocabulary could be corrupted !\n",
      "The OrderedVocab you are attempting to save contains a hole for index 1077, your vocabulary could be corrupted !\n",
      "The OrderedVocab you are attempting to save contains a hole for index 1079, your vocabulary could be corrupted !\n",
      "The OrderedVocab you are attempting to save contains a hole for index 1080, your vocabulary could be corrupted !\n",
      "The OrderedVocab you are attempting to save contains a hole for index 1081, your vocabulary could be corrupted !\n",
      "The OrderedVocab you are attempting to save contains a hole for index 1082, your vocabulary could be corrupted !\n",
      "The OrderedVocab you are attempting to save contains a hole for index 1083, your vocabulary could be corrupted !\n",
      "The OrderedVocab you are attempting to save contains a hole for index 1084, your vocabulary could be corrupted !\n",
      "The OrderedVocab you are attempting to save contains a hole for index 1085, your vocabulary could be corrupted !\n",
      "The OrderedVocab you are attempting to save contains a hole for index 1086, your vocabulary could be corrupted !\n",
      "The OrderedVocab you are attempting to save contains a hole for index 1087, your vocabulary could be corrupted !\n",
      "The OrderedVocab you are attempting to save contains a hole for index 1088, your vocabulary could be corrupted !\n",
      "The OrderedVocab you are attempting to save contains a hole for index 1089, your vocabulary could be corrupted !\n",
      "The OrderedVocab you are attempting to save contains a hole for index 1090, your vocabulary could be corrupted !\n",
      "The OrderedVocab you are attempting to save contains a hole for index 1091, your vocabulary could be corrupted !\n",
      "The OrderedVocab you are attempting to save contains a hole for index 1092, your vocabulary could be corrupted !\n",
      "The OrderedVocab you are attempting to save contains a hole for index 1093, your vocabulary could be corrupted !\n",
      "The OrderedVocab you are attempting to save contains a hole for index 1094, your vocabulary could be corrupted !\n",
      "The OrderedVocab you are attempting to save contains a hole for index 1095, your vocabulary could be corrupted !\n",
      "The OrderedVocab you are attempting to save contains a hole for index 1099, your vocabulary could be corrupted !\n",
      "The OrderedVocab you are attempting to save contains a hole for index 1101, your vocabulary could be corrupted !\n",
      "The OrderedVocab you are attempting to save contains a hole for index 1112, your vocabulary could be corrupted !\n",
      "The OrderedVocab you are attempting to save contains a hole for index 1113, your vocabulary could be corrupted !\n",
      "The OrderedVocab you are attempting to save contains a hole for index 1556, your vocabulary could be corrupted !\n",
      "The OrderedVocab you are attempting to save contains a hole for index 1557, your vocabulary could be corrupted !\n",
      "The OrderedVocab you are attempting to save contains a hole for index 1568, your vocabulary could be corrupted !\n"
     ]
    },
    {
     "name": "stderr",
     "output_type": "stream",
     "text": [
      "[INFO|trainer.py:750] 2023-09-03 08:33:06,524 >> The following columns in the evaluation set don't have a corresponding argument in `BertForSequenceClassification.forward` and have been ignored: text, id. If text, id are not expected by `BertForSequenceClassification.forward`,  you can safely ignore this message.\n",
      "[INFO|trainer.py:3119] 2023-09-03 08:33:06,528 >> ***** Running Evaluation *****\n",
      "[INFO|trainer.py:3121] 2023-09-03 08:33:06,530 >>   Num examples = 3934\n",
      "[INFO|trainer.py:3124] 2023-09-03 08:33:06,533 >>   Batch size = 8\n",
      "[INFO|trainer.py:2845] 2023-09-03 08:33:24,989 >> Saving model checkpoint to ./output/checkpoint-1500\n",
      "[INFO|configuration_utils.py:460] 2023-09-03 08:33:24,992 >> Configuration saved in ./output/checkpoint-1500/config.json\n",
      "[INFO|modeling_utils.py:1953] 2023-09-03 08:33:26,072 >> Model weights saved in ./output/checkpoint-1500/pytorch_model.bin\n",
      "[INFO|tokenization_utils_base.py:2235] 2023-09-03 08:33:26,074 >> tokenizer config file saved in ./output/checkpoint-1500/tokenizer_config.json\n",
      "[INFO|tokenization_utils_base.py:2242] 2023-09-03 08:33:26,075 >> Special tokens file saved in ./output/checkpoint-1500/special_tokens_map.json\n"
     ]
    },
    {
     "name": "stdout",
     "output_type": "stream",
     "text": [
      "The OrderedVocab you are attempting to save contains a hole for index 1015, your vocabulary could be corrupted !\n",
      "The OrderedVocab you are attempting to save contains a hole for index 1016, your vocabulary could be corrupted !\n",
      "The OrderedVocab you are attempting to save contains a hole for index 1017, your vocabulary could be corrupted !\n",
      "The OrderedVocab you are attempting to save contains a hole for index 1018, your vocabulary could be corrupted !\n",
      "The OrderedVocab you are attempting to save contains a hole for index 1053, your vocabulary could be corrupted !\n",
      "The OrderedVocab you are attempting to save contains a hole for index 1054, your vocabulary could be corrupted !\n",
      "The OrderedVocab you are attempting to save contains a hole for index 1055, your vocabulary could be corrupted !\n",
      "The OrderedVocab you are attempting to save contains a hole for index 1056, your vocabulary could be corrupted !\n",
      "The OrderedVocab you are attempting to save contains a hole for index 1057, your vocabulary could be corrupted !\n",
      "The OrderedVocab you are attempting to save contains a hole for index 1060, your vocabulary could be corrupted !\n",
      "The OrderedVocab you are attempting to save contains a hole for index 1061, your vocabulary could be corrupted !\n",
      "The OrderedVocab you are attempting to save contains a hole for index 1062, your vocabulary could be corrupted !\n",
      "The OrderedVocab you are attempting to save contains a hole for index 1064, your vocabulary could be corrupted !\n",
      "The OrderedVocab you are attempting to save contains a hole for index 1065, your vocabulary could be corrupted !\n",
      "The OrderedVocab you are attempting to save contains a hole for index 1066, your vocabulary could be corrupted !\n",
      "The OrderedVocab you are attempting to save contains a hole for index 1067, your vocabulary could be corrupted !\n",
      "The OrderedVocab you are attempting to save contains a hole for index 1068, your vocabulary could be corrupted !\n",
      "The OrderedVocab you are attempting to save contains a hole for index 1069, your vocabulary could be corrupted !\n",
      "The OrderedVocab you are attempting to save contains a hole for index 1070, your vocabulary could be corrupted !\n",
      "The OrderedVocab you are attempting to save contains a hole for index 1071, your vocabulary could be corrupted !\n",
      "The OrderedVocab you are attempting to save contains a hole for index 1072, your vocabulary could be corrupted !\n",
      "The OrderedVocab you are attempting to save contains a hole for index 1073, your vocabulary could be corrupted !\n",
      "The OrderedVocab you are attempting to save contains a hole for index 1074, your vocabulary could be corrupted !\n",
      "The OrderedVocab you are attempting to save contains a hole for index 1075, your vocabulary could be corrupted !\n",
      "The OrderedVocab you are attempting to save contains a hole for index 1076, your vocabulary could be corrupted !\n",
      "The OrderedVocab you are attempting to save contains a hole for index 1077, your vocabulary could be corrupted !\n",
      "The OrderedVocab you are attempting to save contains a hole for index 1079, your vocabulary could be corrupted !\n",
      "The OrderedVocab you are attempting to save contains a hole for index 1080, your vocabulary could be corrupted !\n",
      "The OrderedVocab you are attempting to save contains a hole for index 1081, your vocabulary could be corrupted !\n",
      "The OrderedVocab you are attempting to save contains a hole for index 1082, your vocabulary could be corrupted !\n",
      "The OrderedVocab you are attempting to save contains a hole for index 1083, your vocabulary could be corrupted !\n",
      "The OrderedVocab you are attempting to save contains a hole for index 1084, your vocabulary could be corrupted !\n",
      "The OrderedVocab you are attempting to save contains a hole for index 1085, your vocabulary could be corrupted !\n",
      "The OrderedVocab you are attempting to save contains a hole for index 1086, your vocabulary could be corrupted !\n",
      "The OrderedVocab you are attempting to save contains a hole for index 1087, your vocabulary could be corrupted !\n",
      "The OrderedVocab you are attempting to save contains a hole for index 1088, your vocabulary could be corrupted !\n",
      "The OrderedVocab you are attempting to save contains a hole for index 1089, your vocabulary could be corrupted !\n",
      "The OrderedVocab you are attempting to save contains a hole for index 1090, your vocabulary could be corrupted !\n",
      "The OrderedVocab you are attempting to save contains a hole for index 1091, your vocabulary could be corrupted !\n",
      "The OrderedVocab you are attempting to save contains a hole for index 1092, your vocabulary could be corrupted !\n",
      "The OrderedVocab you are attempting to save contains a hole for index 1093, your vocabulary could be corrupted !\n",
      "The OrderedVocab you are attempting to save contains a hole for index 1094, your vocabulary could be corrupted !\n",
      "The OrderedVocab you are attempting to save contains a hole for index 1095, your vocabulary could be corrupted !\n",
      "The OrderedVocab you are attempting to save contains a hole for index 1099, your vocabulary could be corrupted !\n",
      "The OrderedVocab you are attempting to save contains a hole for index 1101, your vocabulary could be corrupted !\n",
      "The OrderedVocab you are attempting to save contains a hole for index 1112, your vocabulary could be corrupted !\n",
      "The OrderedVocab you are attempting to save contains a hole for index 1113, your vocabulary could be corrupted !\n",
      "The OrderedVocab you are attempting to save contains a hole for index 1556, your vocabulary could be corrupted !\n",
      "The OrderedVocab you are attempting to save contains a hole for index 1557, your vocabulary could be corrupted !\n",
      "The OrderedVocab you are attempting to save contains a hole for index 1568, your vocabulary could be corrupted !\n"
     ]
    },
    {
     "name": "stderr",
     "output_type": "stream",
     "text": [
      "[INFO|trainer.py:750] 2023-09-03 08:34:38,156 >> The following columns in the evaluation set don't have a corresponding argument in `BertForSequenceClassification.forward` and have been ignored: text, id. If text, id are not expected by `BertForSequenceClassification.forward`,  you can safely ignore this message.\n",
      "[INFO|trainer.py:3119] 2023-09-03 08:34:38,159 >> ***** Running Evaluation *****\n",
      "[INFO|trainer.py:3121] 2023-09-03 08:34:38,161 >>   Num examples = 3934\n",
      "[INFO|trainer.py:3124] 2023-09-03 08:34:38,162 >>   Batch size = 8\n",
      "[INFO|trainer.py:2845] 2023-09-03 08:34:56,643 >> Saving model checkpoint to ./output/checkpoint-2000\n",
      "[INFO|configuration_utils.py:460] 2023-09-03 08:34:56,646 >> Configuration saved in ./output/checkpoint-2000/config.json\n",
      "[INFO|modeling_utils.py:1953] 2023-09-03 08:34:57,737 >> Model weights saved in ./output/checkpoint-2000/pytorch_model.bin\n",
      "[INFO|tokenization_utils_base.py:2235] 2023-09-03 08:34:57,739 >> tokenizer config file saved in ./output/checkpoint-2000/tokenizer_config.json\n",
      "[INFO|tokenization_utils_base.py:2242] 2023-09-03 08:34:57,741 >> Special tokens file saved in ./output/checkpoint-2000/special_tokens_map.json\n"
     ]
    },
    {
     "name": "stdout",
     "output_type": "stream",
     "text": [
      "The OrderedVocab you are attempting to save contains a hole for index 1015, your vocabulary could be corrupted !\n",
      "The OrderedVocab you are attempting to save contains a hole for index 1016, your vocabulary could be corrupted !\n",
      "The OrderedVocab you are attempting to save contains a hole for index 1017, your vocabulary could be corrupted !\n",
      "The OrderedVocab you are attempting to save contains a hole for index 1018, your vocabulary could be corrupted !\n",
      "The OrderedVocab you are attempting to save contains a hole for index 1053, your vocabulary could be corrupted !\n",
      "The OrderedVocab you are attempting to save contains a hole for index 1054, your vocabulary could be corrupted !\n",
      "The OrderedVocab you are attempting to save contains a hole for index 1055, your vocabulary could be corrupted !\n",
      "The OrderedVocab you are attempting to save contains a hole for index 1056, your vocabulary could be corrupted !\n",
      "The OrderedVocab you are attempting to save contains a hole for index 1057, your vocabulary could be corrupted !\n",
      "The OrderedVocab you are attempting to save contains a hole for index 1060, your vocabulary could be corrupted !\n",
      "The OrderedVocab you are attempting to save contains a hole for index 1061, your vocabulary could be corrupted !\n",
      "The OrderedVocab you are attempting to save contains a hole for index 1062, your vocabulary could be corrupted !\n",
      "The OrderedVocab you are attempting to save contains a hole for index 1064, your vocabulary could be corrupted !\n",
      "The OrderedVocab you are attempting to save contains a hole for index 1065, your vocabulary could be corrupted !\n",
      "The OrderedVocab you are attempting to save contains a hole for index 1066, your vocabulary could be corrupted !\n",
      "The OrderedVocab you are attempting to save contains a hole for index 1067, your vocabulary could be corrupted !\n",
      "The OrderedVocab you are attempting to save contains a hole for index 1068, your vocabulary could be corrupted !\n",
      "The OrderedVocab you are attempting to save contains a hole for index 1069, your vocabulary could be corrupted !\n",
      "The OrderedVocab you are attempting to save contains a hole for index 1070, your vocabulary could be corrupted !\n",
      "The OrderedVocab you are attempting to save contains a hole for index 1071, your vocabulary could be corrupted !\n",
      "The OrderedVocab you are attempting to save contains a hole for index 1072, your vocabulary could be corrupted !\n",
      "The OrderedVocab you are attempting to save contains a hole for index 1073, your vocabulary could be corrupted !\n",
      "The OrderedVocab you are attempting to save contains a hole for index 1074, your vocabulary could be corrupted !\n",
      "The OrderedVocab you are attempting to save contains a hole for index 1075, your vocabulary could be corrupted !\n",
      "The OrderedVocab you are attempting to save contains a hole for index 1076, your vocabulary could be corrupted !\n",
      "The OrderedVocab you are attempting to save contains a hole for index 1077, your vocabulary could be corrupted !\n",
      "The OrderedVocab you are attempting to save contains a hole for index 1079, your vocabulary could be corrupted !\n",
      "The OrderedVocab you are attempting to save contains a hole for index 1080, your vocabulary could be corrupted !\n",
      "The OrderedVocab you are attempting to save contains a hole for index 1081, your vocabulary could be corrupted !\n",
      "The OrderedVocab you are attempting to save contains a hole for index 1082, your vocabulary could be corrupted !\n",
      "The OrderedVocab you are attempting to save contains a hole for index 1083, your vocabulary could be corrupted !\n",
      "The OrderedVocab you are attempting to save contains a hole for index 1084, your vocabulary could be corrupted !\n",
      "The OrderedVocab you are attempting to save contains a hole for index 1085, your vocabulary could be corrupted !\n",
      "The OrderedVocab you are attempting to save contains a hole for index 1086, your vocabulary could be corrupted !\n",
      "The OrderedVocab you are attempting to save contains a hole for index 1087, your vocabulary could be corrupted !\n",
      "The OrderedVocab you are attempting to save contains a hole for index 1088, your vocabulary could be corrupted !\n",
      "The OrderedVocab you are attempting to save contains a hole for index 1089, your vocabulary could be corrupted !\n",
      "The OrderedVocab you are attempting to save contains a hole for index 1090, your vocabulary could be corrupted !\n",
      "The OrderedVocab you are attempting to save contains a hole for index 1091, your vocabulary could be corrupted !\n",
      "The OrderedVocab you are attempting to save contains a hole for index 1092, your vocabulary could be corrupted !\n",
      "The OrderedVocab you are attempting to save contains a hole for index 1093, your vocabulary could be corrupted !\n",
      "The OrderedVocab you are attempting to save contains a hole for index 1094, your vocabulary could be corrupted !\n",
      "The OrderedVocab you are attempting to save contains a hole for index 1095, your vocabulary could be corrupted !\n",
      "The OrderedVocab you are attempting to save contains a hole for index 1099, your vocabulary could be corrupted !\n",
      "The OrderedVocab you are attempting to save contains a hole for index 1101, your vocabulary could be corrupted !\n",
      "The OrderedVocab you are attempting to save contains a hole for index 1112, your vocabulary could be corrupted !\n",
      "The OrderedVocab you are attempting to save contains a hole for index 1113, your vocabulary could be corrupted !\n",
      "The OrderedVocab you are attempting to save contains a hole for index 1556, your vocabulary could be corrupted !\n",
      "The OrderedVocab you are attempting to save contains a hole for index 1557, your vocabulary could be corrupted !\n",
      "The OrderedVocab you are attempting to save contains a hole for index 1568, your vocabulary could be corrupted !\n"
     ]
    },
    {
     "name": "stderr",
     "output_type": "stream",
     "text": [
      "[INFO|trainer.py:2932] 2023-09-03 08:35:00,826 >> Deleting older checkpoint [output/checkpoint-500] due to args.save_total_limit\n",
      "[INFO|trainer.py:750] 2023-09-03 08:36:09,584 >> The following columns in the evaluation set don't have a corresponding argument in `BertForSequenceClassification.forward` and have been ignored: text, id. If text, id are not expected by `BertForSequenceClassification.forward`,  you can safely ignore this message.\n",
      "[INFO|trainer.py:3119] 2023-09-03 08:36:09,588 >> ***** Running Evaluation *****\n",
      "[INFO|trainer.py:3121] 2023-09-03 08:36:09,588 >>   Num examples = 3934\n",
      "[INFO|trainer.py:3124] 2023-09-03 08:36:09,589 >>   Batch size = 8\n",
      "[INFO|trainer.py:2845] 2023-09-03 08:36:28,112 >> Saving model checkpoint to ./output/checkpoint-2500\n",
      "[INFO|configuration_utils.py:460] 2023-09-03 08:36:28,115 >> Configuration saved in ./output/checkpoint-2500/config.json\n",
      "[INFO|modeling_utils.py:1953] 2023-09-03 08:36:29,215 >> Model weights saved in ./output/checkpoint-2500/pytorch_model.bin\n",
      "[INFO|tokenization_utils_base.py:2235] 2023-09-03 08:36:29,217 >> tokenizer config file saved in ./output/checkpoint-2500/tokenizer_config.json\n",
      "[INFO|tokenization_utils_base.py:2242] 2023-09-03 08:36:29,219 >> Special tokens file saved in ./output/checkpoint-2500/special_tokens_map.json\n"
     ]
    },
    {
     "name": "stdout",
     "output_type": "stream",
     "text": [
      "The OrderedVocab you are attempting to save contains a hole for index 1015, your vocabulary could be corrupted !\n",
      "The OrderedVocab you are attempting to save contains a hole for index 1016, your vocabulary could be corrupted !\n",
      "The OrderedVocab you are attempting to save contains a hole for index 1017, your vocabulary could be corrupted !\n",
      "The OrderedVocab you are attempting to save contains a hole for index 1018, your vocabulary could be corrupted !\n",
      "The OrderedVocab you are attempting to save contains a hole for index 1053, your vocabulary could be corrupted !\n",
      "The OrderedVocab you are attempting to save contains a hole for index 1054, your vocabulary could be corrupted !\n",
      "The OrderedVocab you are attempting to save contains a hole for index 1055, your vocabulary could be corrupted !\n",
      "The OrderedVocab you are attempting to save contains a hole for index 1056, your vocabulary could be corrupted !\n",
      "The OrderedVocab you are attempting to save contains a hole for index 1057, your vocabulary could be corrupted !\n",
      "The OrderedVocab you are attempting to save contains a hole for index 1060, your vocabulary could be corrupted !\n",
      "The OrderedVocab you are attempting to save contains a hole for index 1061, your vocabulary could be corrupted !\n",
      "The OrderedVocab you are attempting to save contains a hole for index 1062, your vocabulary could be corrupted !\n",
      "The OrderedVocab you are attempting to save contains a hole for index 1064, your vocabulary could be corrupted !\n",
      "The OrderedVocab you are attempting to save contains a hole for index 1065, your vocabulary could be corrupted !\n",
      "The OrderedVocab you are attempting to save contains a hole for index 1066, your vocabulary could be corrupted !\n",
      "The OrderedVocab you are attempting to save contains a hole for index 1067, your vocabulary could be corrupted !\n",
      "The OrderedVocab you are attempting to save contains a hole for index 1068, your vocabulary could be corrupted !\n",
      "The OrderedVocab you are attempting to save contains a hole for index 1069, your vocabulary could be corrupted !\n",
      "The OrderedVocab you are attempting to save contains a hole for index 1070, your vocabulary could be corrupted !\n",
      "The OrderedVocab you are attempting to save contains a hole for index 1071, your vocabulary could be corrupted !\n",
      "The OrderedVocab you are attempting to save contains a hole for index 1072, your vocabulary could be corrupted !\n",
      "The OrderedVocab you are attempting to save contains a hole for index 1073, your vocabulary could be corrupted !\n",
      "The OrderedVocab you are attempting to save contains a hole for index 1074, your vocabulary could be corrupted !\n",
      "The OrderedVocab you are attempting to save contains a hole for index 1075, your vocabulary could be corrupted !\n",
      "The OrderedVocab you are attempting to save contains a hole for index 1076, your vocabulary could be corrupted !\n",
      "The OrderedVocab you are attempting to save contains a hole for index 1077, your vocabulary could be corrupted !\n",
      "The OrderedVocab you are attempting to save contains a hole for index 1079, your vocabulary could be corrupted !\n",
      "The OrderedVocab you are attempting to save contains a hole for index 1080, your vocabulary could be corrupted !\n",
      "The OrderedVocab you are attempting to save contains a hole for index 1081, your vocabulary could be corrupted !\n",
      "The OrderedVocab you are attempting to save contains a hole for index 1082, your vocabulary could be corrupted !\n",
      "The OrderedVocab you are attempting to save contains a hole for index 1083, your vocabulary could be corrupted !\n",
      "The OrderedVocab you are attempting to save contains a hole for index 1084, your vocabulary could be corrupted !\n",
      "The OrderedVocab you are attempting to save contains a hole for index 1085, your vocabulary could be corrupted !\n",
      "The OrderedVocab you are attempting to save contains a hole for index 1086, your vocabulary could be corrupted !\n",
      "The OrderedVocab you are attempting to save contains a hole for index 1087, your vocabulary could be corrupted !\n",
      "The OrderedVocab you are attempting to save contains a hole for index 1088, your vocabulary could be corrupted !\n",
      "The OrderedVocab you are attempting to save contains a hole for index 1089, your vocabulary could be corrupted !\n",
      "The OrderedVocab you are attempting to save contains a hole for index 1090, your vocabulary could be corrupted !\n",
      "The OrderedVocab you are attempting to save contains a hole for index 1091, your vocabulary could be corrupted !\n",
      "The OrderedVocab you are attempting to save contains a hole for index 1092, your vocabulary could be corrupted !\n",
      "The OrderedVocab you are attempting to save contains a hole for index 1093, your vocabulary could be corrupted !\n",
      "The OrderedVocab you are attempting to save contains a hole for index 1094, your vocabulary could be corrupted !\n",
      "The OrderedVocab you are attempting to save contains a hole for index 1095, your vocabulary could be corrupted !\n",
      "The OrderedVocab you are attempting to save contains a hole for index 1099, your vocabulary could be corrupted !\n",
      "The OrderedVocab you are attempting to save contains a hole for index 1101, your vocabulary could be corrupted !\n",
      "The OrderedVocab you are attempting to save contains a hole for index 1112, your vocabulary could be corrupted !\n",
      "The OrderedVocab you are attempting to save contains a hole for index 1113, your vocabulary could be corrupted !\n",
      "The OrderedVocab you are attempting to save contains a hole for index 1556, your vocabulary could be corrupted !\n",
      "The OrderedVocab you are attempting to save contains a hole for index 1557, your vocabulary could be corrupted !\n",
      "The OrderedVocab you are attempting to save contains a hole for index 1568, your vocabulary could be corrupted !\n"
     ]
    },
    {
     "name": "stderr",
     "output_type": "stream",
     "text": [
      "[INFO|trainer.py:2932] 2023-09-03 08:36:32,374 >> Deleting older checkpoint [output/checkpoint-1000] due to args.save_total_limit\n",
      "[INFO|trainer.py:750] 2023-09-03 08:37:41,264 >> The following columns in the evaluation set don't have a corresponding argument in `BertForSequenceClassification.forward` and have been ignored: text, id. If text, id are not expected by `BertForSequenceClassification.forward`,  you can safely ignore this message.\n",
      "[INFO|trainer.py:3119] 2023-09-03 08:37:41,268 >> ***** Running Evaluation *****\n",
      "[INFO|trainer.py:3121] 2023-09-03 08:37:41,269 >>   Num examples = 3934\n",
      "[INFO|trainer.py:3124] 2023-09-03 08:37:41,269 >>   Batch size = 8\n",
      "[INFO|trainer.py:2845] 2023-09-03 08:37:59,784 >> Saving model checkpoint to ./output/checkpoint-3000\n",
      "[INFO|configuration_utils.py:460] 2023-09-03 08:37:59,789 >> Configuration saved in ./output/checkpoint-3000/config.json\n",
      "[INFO|modeling_utils.py:1953] 2023-09-03 08:38:00,877 >> Model weights saved in ./output/checkpoint-3000/pytorch_model.bin\n",
      "[INFO|tokenization_utils_base.py:2235] 2023-09-03 08:38:00,879 >> tokenizer config file saved in ./output/checkpoint-3000/tokenizer_config.json\n",
      "[INFO|tokenization_utils_base.py:2242] 2023-09-03 08:38:00,881 >> Special tokens file saved in ./output/checkpoint-3000/special_tokens_map.json\n"
     ]
    },
    {
     "name": "stdout",
     "output_type": "stream",
     "text": [
      "The OrderedVocab you are attempting to save contains a hole for index 1015, your vocabulary could be corrupted !\n",
      "The OrderedVocab you are attempting to save contains a hole for index 1016, your vocabulary could be corrupted !\n",
      "The OrderedVocab you are attempting to save contains a hole for index 1017, your vocabulary could be corrupted !\n",
      "The OrderedVocab you are attempting to save contains a hole for index 1018, your vocabulary could be corrupted !\n",
      "The OrderedVocab you are attempting to save contains a hole for index 1053, your vocabulary could be corrupted !\n",
      "The OrderedVocab you are attempting to save contains a hole for index 1054, your vocabulary could be corrupted !\n",
      "The OrderedVocab you are attempting to save contains a hole for index 1055, your vocabulary could be corrupted !\n",
      "The OrderedVocab you are attempting to save contains a hole for index 1056, your vocabulary could be corrupted !\n",
      "The OrderedVocab you are attempting to save contains a hole for index 1057, your vocabulary could be corrupted !\n",
      "The OrderedVocab you are attempting to save contains a hole for index 1060, your vocabulary could be corrupted !\n",
      "The OrderedVocab you are attempting to save contains a hole for index 1061, your vocabulary could be corrupted !\n",
      "The OrderedVocab you are attempting to save contains a hole for index 1062, your vocabulary could be corrupted !\n",
      "The OrderedVocab you are attempting to save contains a hole for index 1064, your vocabulary could be corrupted !\n",
      "The OrderedVocab you are attempting to save contains a hole for index 1065, your vocabulary could be corrupted !\n",
      "The OrderedVocab you are attempting to save contains a hole for index 1066, your vocabulary could be corrupted !\n",
      "The OrderedVocab you are attempting to save contains a hole for index 1067, your vocabulary could be corrupted !\n",
      "The OrderedVocab you are attempting to save contains a hole for index 1068, your vocabulary could be corrupted !\n",
      "The OrderedVocab you are attempting to save contains a hole for index 1069, your vocabulary could be corrupted !\n",
      "The OrderedVocab you are attempting to save contains a hole for index 1070, your vocabulary could be corrupted !\n",
      "The OrderedVocab you are attempting to save contains a hole for index 1071, your vocabulary could be corrupted !\n",
      "The OrderedVocab you are attempting to save contains a hole for index 1072, your vocabulary could be corrupted !\n",
      "The OrderedVocab you are attempting to save contains a hole for index 1073, your vocabulary could be corrupted !\n",
      "The OrderedVocab you are attempting to save contains a hole for index 1074, your vocabulary could be corrupted !\n",
      "The OrderedVocab you are attempting to save contains a hole for index 1075, your vocabulary could be corrupted !\n",
      "The OrderedVocab you are attempting to save contains a hole for index 1076, your vocabulary could be corrupted !\n",
      "The OrderedVocab you are attempting to save contains a hole for index 1077, your vocabulary could be corrupted !\n",
      "The OrderedVocab you are attempting to save contains a hole for index 1079, your vocabulary could be corrupted !\n",
      "The OrderedVocab you are attempting to save contains a hole for index 1080, your vocabulary could be corrupted !\n",
      "The OrderedVocab you are attempting to save contains a hole for index 1081, your vocabulary could be corrupted !\n",
      "The OrderedVocab you are attempting to save contains a hole for index 1082, your vocabulary could be corrupted !\n",
      "The OrderedVocab you are attempting to save contains a hole for index 1083, your vocabulary could be corrupted !\n",
      "The OrderedVocab you are attempting to save contains a hole for index 1084, your vocabulary could be corrupted !\n",
      "The OrderedVocab you are attempting to save contains a hole for index 1085, your vocabulary could be corrupted !\n",
      "The OrderedVocab you are attempting to save contains a hole for index 1086, your vocabulary could be corrupted !\n",
      "The OrderedVocab you are attempting to save contains a hole for index 1087, your vocabulary could be corrupted !\n",
      "The OrderedVocab you are attempting to save contains a hole for index 1088, your vocabulary could be corrupted !\n",
      "The OrderedVocab you are attempting to save contains a hole for index 1089, your vocabulary could be corrupted !\n",
      "The OrderedVocab you are attempting to save contains a hole for index 1090, your vocabulary could be corrupted !\n",
      "The OrderedVocab you are attempting to save contains a hole for index 1091, your vocabulary could be corrupted !\n",
      "The OrderedVocab you are attempting to save contains a hole for index 1092, your vocabulary could be corrupted !\n",
      "The OrderedVocab you are attempting to save contains a hole for index 1093, your vocabulary could be corrupted !\n",
      "The OrderedVocab you are attempting to save contains a hole for index 1094, your vocabulary could be corrupted !\n",
      "The OrderedVocab you are attempting to save contains a hole for index 1095, your vocabulary could be corrupted !\n",
      "The OrderedVocab you are attempting to save contains a hole for index 1099, your vocabulary could be corrupted !\n",
      "The OrderedVocab you are attempting to save contains a hole for index 1101, your vocabulary could be corrupted !\n",
      "The OrderedVocab you are attempting to save contains a hole for index 1112, your vocabulary could be corrupted !\n",
      "The OrderedVocab you are attempting to save contains a hole for index 1113, your vocabulary could be corrupted !\n",
      "The OrderedVocab you are attempting to save contains a hole for index 1556, your vocabulary could be corrupted !\n",
      "The OrderedVocab you are attempting to save contains a hole for index 1557, your vocabulary could be corrupted !\n",
      "The OrderedVocab you are attempting to save contains a hole for index 1568, your vocabulary could be corrupted !\n"
     ]
    },
    {
     "name": "stderr",
     "output_type": "stream",
     "text": [
      "[INFO|trainer.py:2932] 2023-09-03 08:38:04,450 >> Deleting older checkpoint [output/checkpoint-1500] due to args.save_total_limit\n",
      "[INFO|trainer.py:750] 2023-09-03 08:39:13,158 >> The following columns in the evaluation set don't have a corresponding argument in `BertForSequenceClassification.forward` and have been ignored: text, id. If text, id are not expected by `BertForSequenceClassification.forward`,  you can safely ignore this message.\n",
      "[INFO|trainer.py:3119] 2023-09-03 08:39:13,165 >> ***** Running Evaluation *****\n",
      "[INFO|trainer.py:3121] 2023-09-03 08:39:13,168 >>   Num examples = 3934\n",
      "[INFO|trainer.py:3124] 2023-09-03 08:39:13,171 >>   Batch size = 8\n",
      "[INFO|trainer.py:2845] 2023-09-03 08:39:31,560 >> Saving model checkpoint to ./output/checkpoint-3500\n",
      "[INFO|configuration_utils.py:460] 2023-09-03 08:39:31,563 >> Configuration saved in ./output/checkpoint-3500/config.json\n",
      "[INFO|modeling_utils.py:1953] 2023-09-03 08:39:33,376 >> Model weights saved in ./output/checkpoint-3500/pytorch_model.bin\n",
      "[INFO|tokenization_utils_base.py:2235] 2023-09-03 08:39:33,378 >> tokenizer config file saved in ./output/checkpoint-3500/tokenizer_config.json\n",
      "[INFO|tokenization_utils_base.py:2242] 2023-09-03 08:39:33,379 >> Special tokens file saved in ./output/checkpoint-3500/special_tokens_map.json\n"
     ]
    },
    {
     "name": "stdout",
     "output_type": "stream",
     "text": [
      "The OrderedVocab you are attempting to save contains a hole for index 1015, your vocabulary could be corrupted !\n",
      "The OrderedVocab you are attempting to save contains a hole for index 1016, your vocabulary could be corrupted !\n",
      "The OrderedVocab you are attempting to save contains a hole for index 1017, your vocabulary could be corrupted !\n",
      "The OrderedVocab you are attempting to save contains a hole for index 1018, your vocabulary could be corrupted !\n",
      "The OrderedVocab you are attempting to save contains a hole for index 1053, your vocabulary could be corrupted !\n",
      "The OrderedVocab you are attempting to save contains a hole for index 1054, your vocabulary could be corrupted !\n",
      "The OrderedVocab you are attempting to save contains a hole for index 1055, your vocabulary could be corrupted !\n",
      "The OrderedVocab you are attempting to save contains a hole for index 1056, your vocabulary could be corrupted !\n",
      "The OrderedVocab you are attempting to save contains a hole for index 1057, your vocabulary could be corrupted !\n",
      "The OrderedVocab you are attempting to save contains a hole for index 1060, your vocabulary could be corrupted !\n",
      "The OrderedVocab you are attempting to save contains a hole for index 1061, your vocabulary could be corrupted !\n",
      "The OrderedVocab you are attempting to save contains a hole for index 1062, your vocabulary could be corrupted !\n",
      "The OrderedVocab you are attempting to save contains a hole for index 1064, your vocabulary could be corrupted !\n",
      "The OrderedVocab you are attempting to save contains a hole for index 1065, your vocabulary could be corrupted !\n",
      "The OrderedVocab you are attempting to save contains a hole for index 1066, your vocabulary could be corrupted !\n",
      "The OrderedVocab you are attempting to save contains a hole for index 1067, your vocabulary could be corrupted !\n",
      "The OrderedVocab you are attempting to save contains a hole for index 1068, your vocabulary could be corrupted !\n",
      "The OrderedVocab you are attempting to save contains a hole for index 1069, your vocabulary could be corrupted !\n",
      "The OrderedVocab you are attempting to save contains a hole for index 1070, your vocabulary could be corrupted !\n",
      "The OrderedVocab you are attempting to save contains a hole for index 1071, your vocabulary could be corrupted !\n",
      "The OrderedVocab you are attempting to save contains a hole for index 1072, your vocabulary could be corrupted !\n",
      "The OrderedVocab you are attempting to save contains a hole for index 1073, your vocabulary could be corrupted !\n",
      "The OrderedVocab you are attempting to save contains a hole for index 1074, your vocabulary could be corrupted !\n",
      "The OrderedVocab you are attempting to save contains a hole for index 1075, your vocabulary could be corrupted !\n",
      "The OrderedVocab you are attempting to save contains a hole for index 1076, your vocabulary could be corrupted !\n",
      "The OrderedVocab you are attempting to save contains a hole for index 1077, your vocabulary could be corrupted !\n",
      "The OrderedVocab you are attempting to save contains a hole for index 1079, your vocabulary could be corrupted !\n",
      "The OrderedVocab you are attempting to save contains a hole for index 1080, your vocabulary could be corrupted !\n",
      "The OrderedVocab you are attempting to save contains a hole for index 1081, your vocabulary could be corrupted !\n",
      "The OrderedVocab you are attempting to save contains a hole for index 1082, your vocabulary could be corrupted !\n",
      "The OrderedVocab you are attempting to save contains a hole for index 1083, your vocabulary could be corrupted !\n",
      "The OrderedVocab you are attempting to save contains a hole for index 1084, your vocabulary could be corrupted !\n",
      "The OrderedVocab you are attempting to save contains a hole for index 1085, your vocabulary could be corrupted !\n",
      "The OrderedVocab you are attempting to save contains a hole for index 1086, your vocabulary could be corrupted !\n",
      "The OrderedVocab you are attempting to save contains a hole for index 1087, your vocabulary could be corrupted !\n",
      "The OrderedVocab you are attempting to save contains a hole for index 1088, your vocabulary could be corrupted !\n",
      "The OrderedVocab you are attempting to save contains a hole for index 1089, your vocabulary could be corrupted !\n",
      "The OrderedVocab you are attempting to save contains a hole for index 1090, your vocabulary could be corrupted !\n",
      "The OrderedVocab you are attempting to save contains a hole for index 1091, your vocabulary could be corrupted !\n",
      "The OrderedVocab you are attempting to save contains a hole for index 1092, your vocabulary could be corrupted !\n",
      "The OrderedVocab you are attempting to save contains a hole for index 1093, your vocabulary could be corrupted !\n",
      "The OrderedVocab you are attempting to save contains a hole for index 1094, your vocabulary could be corrupted !\n",
      "The OrderedVocab you are attempting to save contains a hole for index 1095, your vocabulary could be corrupted !\n",
      "The OrderedVocab you are attempting to save contains a hole for index 1099, your vocabulary could be corrupted !\n",
      "The OrderedVocab you are attempting to save contains a hole for index 1101, your vocabulary could be corrupted !\n",
      "The OrderedVocab you are attempting to save contains a hole for index 1112, your vocabulary could be corrupted !\n",
      "The OrderedVocab you are attempting to save contains a hole for index 1113, your vocabulary could be corrupted !\n",
      "The OrderedVocab you are attempting to save contains a hole for index 1556, your vocabulary could be corrupted !\n",
      "The OrderedVocab you are attempting to save contains a hole for index 1557, your vocabulary could be corrupted !\n",
      "The OrderedVocab you are attempting to save contains a hole for index 1568, your vocabulary could be corrupted !\n"
     ]
    },
    {
     "name": "stderr",
     "output_type": "stream",
     "text": [
      "[INFO|trainer.py:2932] 2023-09-03 08:39:36,638 >> Deleting older checkpoint [output/checkpoint-2000] due to args.save_total_limit\n",
      "[INFO|trainer.py:750] 2023-09-03 08:40:45,454 >> The following columns in the evaluation set don't have a corresponding argument in `BertForSequenceClassification.forward` and have been ignored: text, id. If text, id are not expected by `BertForSequenceClassification.forward`,  you can safely ignore this message.\n",
      "[INFO|trainer.py:3119] 2023-09-03 08:40:45,458 >> ***** Running Evaluation *****\n",
      "[INFO|trainer.py:3121] 2023-09-03 08:40:45,458 >>   Num examples = 3934\n",
      "[INFO|trainer.py:3124] 2023-09-03 08:40:45,460 >>   Batch size = 8\n",
      "[INFO|trainer.py:2845] 2023-09-03 08:41:03,835 >> Saving model checkpoint to ./output/checkpoint-4000\n",
      "[INFO|configuration_utils.py:460] 2023-09-03 08:41:03,838 >> Configuration saved in ./output/checkpoint-4000/config.json\n",
      "[INFO|modeling_utils.py:1953] 2023-09-03 08:41:05,010 >> Model weights saved in ./output/checkpoint-4000/pytorch_model.bin\n",
      "[INFO|tokenization_utils_base.py:2235] 2023-09-03 08:41:05,012 >> tokenizer config file saved in ./output/checkpoint-4000/tokenizer_config.json\n",
      "[INFO|tokenization_utils_base.py:2242] 2023-09-03 08:41:05,013 >> Special tokens file saved in ./output/checkpoint-4000/special_tokens_map.json\n"
     ]
    },
    {
     "name": "stdout",
     "output_type": "stream",
     "text": [
      "The OrderedVocab you are attempting to save contains a hole for index 1015, your vocabulary could be corrupted !\n",
      "The OrderedVocab you are attempting to save contains a hole for index 1016, your vocabulary could be corrupted !\n",
      "The OrderedVocab you are attempting to save contains a hole for index 1017, your vocabulary could be corrupted !\n",
      "The OrderedVocab you are attempting to save contains a hole for index 1018, your vocabulary could be corrupted !\n",
      "The OrderedVocab you are attempting to save contains a hole for index 1053, your vocabulary could be corrupted !\n",
      "The OrderedVocab you are attempting to save contains a hole for index 1054, your vocabulary could be corrupted !\n",
      "The OrderedVocab you are attempting to save contains a hole for index 1055, your vocabulary could be corrupted !\n",
      "The OrderedVocab you are attempting to save contains a hole for index 1056, your vocabulary could be corrupted !\n",
      "The OrderedVocab you are attempting to save contains a hole for index 1057, your vocabulary could be corrupted !\n",
      "The OrderedVocab you are attempting to save contains a hole for index 1060, your vocabulary could be corrupted !\n",
      "The OrderedVocab you are attempting to save contains a hole for index 1061, your vocabulary could be corrupted !\n",
      "The OrderedVocab you are attempting to save contains a hole for index 1062, your vocabulary could be corrupted !\n",
      "The OrderedVocab you are attempting to save contains a hole for index 1064, your vocabulary could be corrupted !\n",
      "The OrderedVocab you are attempting to save contains a hole for index 1065, your vocabulary could be corrupted !\n",
      "The OrderedVocab you are attempting to save contains a hole for index 1066, your vocabulary could be corrupted !\n",
      "The OrderedVocab you are attempting to save contains a hole for index 1067, your vocabulary could be corrupted !\n",
      "The OrderedVocab you are attempting to save contains a hole for index 1068, your vocabulary could be corrupted !\n",
      "The OrderedVocab you are attempting to save contains a hole for index 1069, your vocabulary could be corrupted !\n",
      "The OrderedVocab you are attempting to save contains a hole for index 1070, your vocabulary could be corrupted !\n",
      "The OrderedVocab you are attempting to save contains a hole for index 1071, your vocabulary could be corrupted !\n",
      "The OrderedVocab you are attempting to save contains a hole for index 1072, your vocabulary could be corrupted !\n",
      "The OrderedVocab you are attempting to save contains a hole for index 1073, your vocabulary could be corrupted !\n",
      "The OrderedVocab you are attempting to save contains a hole for index 1074, your vocabulary could be corrupted !\n",
      "The OrderedVocab you are attempting to save contains a hole for index 1075, your vocabulary could be corrupted !\n",
      "The OrderedVocab you are attempting to save contains a hole for index 1076, your vocabulary could be corrupted !\n",
      "The OrderedVocab you are attempting to save contains a hole for index 1077, your vocabulary could be corrupted !\n",
      "The OrderedVocab you are attempting to save contains a hole for index 1079, your vocabulary could be corrupted !\n",
      "The OrderedVocab you are attempting to save contains a hole for index 1080, your vocabulary could be corrupted !\n",
      "The OrderedVocab you are attempting to save contains a hole for index 1081, your vocabulary could be corrupted !\n",
      "The OrderedVocab you are attempting to save contains a hole for index 1082, your vocabulary could be corrupted !\n",
      "The OrderedVocab you are attempting to save contains a hole for index 1083, your vocabulary could be corrupted !\n",
      "The OrderedVocab you are attempting to save contains a hole for index 1084, your vocabulary could be corrupted !\n",
      "The OrderedVocab you are attempting to save contains a hole for index 1085, your vocabulary could be corrupted !\n",
      "The OrderedVocab you are attempting to save contains a hole for index 1086, your vocabulary could be corrupted !\n",
      "The OrderedVocab you are attempting to save contains a hole for index 1087, your vocabulary could be corrupted !\n",
      "The OrderedVocab you are attempting to save contains a hole for index 1088, your vocabulary could be corrupted !\n",
      "The OrderedVocab you are attempting to save contains a hole for index 1089, your vocabulary could be corrupted !\n",
      "The OrderedVocab you are attempting to save contains a hole for index 1090, your vocabulary could be corrupted !\n",
      "The OrderedVocab you are attempting to save contains a hole for index 1091, your vocabulary could be corrupted !\n",
      "The OrderedVocab you are attempting to save contains a hole for index 1092, your vocabulary could be corrupted !\n",
      "The OrderedVocab you are attempting to save contains a hole for index 1093, your vocabulary could be corrupted !\n",
      "The OrderedVocab you are attempting to save contains a hole for index 1094, your vocabulary could be corrupted !\n",
      "The OrderedVocab you are attempting to save contains a hole for index 1095, your vocabulary could be corrupted !\n",
      "The OrderedVocab you are attempting to save contains a hole for index 1099, your vocabulary could be corrupted !\n",
      "The OrderedVocab you are attempting to save contains a hole for index 1101, your vocabulary could be corrupted !\n",
      "The OrderedVocab you are attempting to save contains a hole for index 1112, your vocabulary could be corrupted !\n",
      "The OrderedVocab you are attempting to save contains a hole for index 1113, your vocabulary could be corrupted !\n",
      "The OrderedVocab you are attempting to save contains a hole for index 1556, your vocabulary could be corrupted !\n",
      "The OrderedVocab you are attempting to save contains a hole for index 1557, your vocabulary could be corrupted !\n",
      "The OrderedVocab you are attempting to save contains a hole for index 1568, your vocabulary could be corrupted !\n"
     ]
    },
    {
     "name": "stderr",
     "output_type": "stream",
     "text": [
      "[INFO|trainer.py:2932] 2023-09-03 08:41:09,178 >> Deleting older checkpoint [output/checkpoint-2500] due to args.save_total_limit\n",
      "[INFO|trainer.py:750] 2023-09-03 08:42:17,869 >> The following columns in the evaluation set don't have a corresponding argument in `BertForSequenceClassification.forward` and have been ignored: text, id. If text, id are not expected by `BertForSequenceClassification.forward`,  you can safely ignore this message.\n",
      "[INFO|trainer.py:3119] 2023-09-03 08:42:17,872 >> ***** Running Evaluation *****\n",
      "[INFO|trainer.py:3121] 2023-09-03 08:42:17,873 >>   Num examples = 3934\n",
      "[INFO|trainer.py:3124] 2023-09-03 08:42:17,874 >>   Batch size = 8\n",
      "[INFO|trainer.py:2845] 2023-09-03 08:42:36,229 >> Saving model checkpoint to ./output/checkpoint-4500\n",
      "[INFO|configuration_utils.py:460] 2023-09-03 08:42:36,232 >> Configuration saved in ./output/checkpoint-4500/config.json\n",
      "[INFO|modeling_utils.py:1953] 2023-09-03 08:42:37,414 >> Model weights saved in ./output/checkpoint-4500/pytorch_model.bin\n",
      "[INFO|tokenization_utils_base.py:2235] 2023-09-03 08:42:37,416 >> tokenizer config file saved in ./output/checkpoint-4500/tokenizer_config.json\n",
      "[INFO|tokenization_utils_base.py:2242] 2023-09-03 08:42:37,418 >> Special tokens file saved in ./output/checkpoint-4500/special_tokens_map.json\n"
     ]
    },
    {
     "name": "stdout",
     "output_type": "stream",
     "text": [
      "The OrderedVocab you are attempting to save contains a hole for index 1015, your vocabulary could be corrupted !\n",
      "The OrderedVocab you are attempting to save contains a hole for index 1016, your vocabulary could be corrupted !\n",
      "The OrderedVocab you are attempting to save contains a hole for index 1017, your vocabulary could be corrupted !\n",
      "The OrderedVocab you are attempting to save contains a hole for index 1018, your vocabulary could be corrupted !\n",
      "The OrderedVocab you are attempting to save contains a hole for index 1053, your vocabulary could be corrupted !\n",
      "The OrderedVocab you are attempting to save contains a hole for index 1054, your vocabulary could be corrupted !\n",
      "The OrderedVocab you are attempting to save contains a hole for index 1055, your vocabulary could be corrupted !\n",
      "The OrderedVocab you are attempting to save contains a hole for index 1056, your vocabulary could be corrupted !\n",
      "The OrderedVocab you are attempting to save contains a hole for index 1057, your vocabulary could be corrupted !\n",
      "The OrderedVocab you are attempting to save contains a hole for index 1060, your vocabulary could be corrupted !\n",
      "The OrderedVocab you are attempting to save contains a hole for index 1061, your vocabulary could be corrupted !\n",
      "The OrderedVocab you are attempting to save contains a hole for index 1062, your vocabulary could be corrupted !\n",
      "The OrderedVocab you are attempting to save contains a hole for index 1064, your vocabulary could be corrupted !\n",
      "The OrderedVocab you are attempting to save contains a hole for index 1065, your vocabulary could be corrupted !\n",
      "The OrderedVocab you are attempting to save contains a hole for index 1066, your vocabulary could be corrupted !\n",
      "The OrderedVocab you are attempting to save contains a hole for index 1067, your vocabulary could be corrupted !\n",
      "The OrderedVocab you are attempting to save contains a hole for index 1068, your vocabulary could be corrupted !\n",
      "The OrderedVocab you are attempting to save contains a hole for index 1069, your vocabulary could be corrupted !\n",
      "The OrderedVocab you are attempting to save contains a hole for index 1070, your vocabulary could be corrupted !\n",
      "The OrderedVocab you are attempting to save contains a hole for index 1071, your vocabulary could be corrupted !\n",
      "The OrderedVocab you are attempting to save contains a hole for index 1072, your vocabulary could be corrupted !\n",
      "The OrderedVocab you are attempting to save contains a hole for index 1073, your vocabulary could be corrupted !\n",
      "The OrderedVocab you are attempting to save contains a hole for index 1074, your vocabulary could be corrupted !\n",
      "The OrderedVocab you are attempting to save contains a hole for index 1075, your vocabulary could be corrupted !\n",
      "The OrderedVocab you are attempting to save contains a hole for index 1076, your vocabulary could be corrupted !\n",
      "The OrderedVocab you are attempting to save contains a hole for index 1077, your vocabulary could be corrupted !\n",
      "The OrderedVocab you are attempting to save contains a hole for index 1079, your vocabulary could be corrupted !\n",
      "The OrderedVocab you are attempting to save contains a hole for index 1080, your vocabulary could be corrupted !\n",
      "The OrderedVocab you are attempting to save contains a hole for index 1081, your vocabulary could be corrupted !\n",
      "The OrderedVocab you are attempting to save contains a hole for index 1082, your vocabulary could be corrupted !\n",
      "The OrderedVocab you are attempting to save contains a hole for index 1083, your vocabulary could be corrupted !\n",
      "The OrderedVocab you are attempting to save contains a hole for index 1084, your vocabulary could be corrupted !\n",
      "The OrderedVocab you are attempting to save contains a hole for index 1085, your vocabulary could be corrupted !\n",
      "The OrderedVocab you are attempting to save contains a hole for index 1086, your vocabulary could be corrupted !\n",
      "The OrderedVocab you are attempting to save contains a hole for index 1087, your vocabulary could be corrupted !\n",
      "The OrderedVocab you are attempting to save contains a hole for index 1088, your vocabulary could be corrupted !\n",
      "The OrderedVocab you are attempting to save contains a hole for index 1089, your vocabulary could be corrupted !\n",
      "The OrderedVocab you are attempting to save contains a hole for index 1090, your vocabulary could be corrupted !\n",
      "The OrderedVocab you are attempting to save contains a hole for index 1091, your vocabulary could be corrupted !\n",
      "The OrderedVocab you are attempting to save contains a hole for index 1092, your vocabulary could be corrupted !\n",
      "The OrderedVocab you are attempting to save contains a hole for index 1093, your vocabulary could be corrupted !\n",
      "The OrderedVocab you are attempting to save contains a hole for index 1094, your vocabulary could be corrupted !\n",
      "The OrderedVocab you are attempting to save contains a hole for index 1095, your vocabulary could be corrupted !\n",
      "The OrderedVocab you are attempting to save contains a hole for index 1099, your vocabulary could be corrupted !\n",
      "The OrderedVocab you are attempting to save contains a hole for index 1101, your vocabulary could be corrupted !\n",
      "The OrderedVocab you are attempting to save contains a hole for index 1112, your vocabulary could be corrupted !\n",
      "The OrderedVocab you are attempting to save contains a hole for index 1113, your vocabulary could be corrupted !\n",
      "The OrderedVocab you are attempting to save contains a hole for index 1556, your vocabulary could be corrupted !\n",
      "The OrderedVocab you are attempting to save contains a hole for index 1557, your vocabulary could be corrupted !\n",
      "The OrderedVocab you are attempting to save contains a hole for index 1568, your vocabulary could be corrupted !\n"
     ]
    },
    {
     "name": "stderr",
     "output_type": "stream",
     "text": [
      "[INFO|trainer.py:2932] 2023-09-03 08:42:40,864 >> Deleting older checkpoint [output/checkpoint-3500] due to args.save_total_limit\n",
      "[INFO|trainer.py:750] 2023-09-03 08:43:49,878 >> The following columns in the evaluation set don't have a corresponding argument in `BertForSequenceClassification.forward` and have been ignored: text, id. If text, id are not expected by `BertForSequenceClassification.forward`,  you can safely ignore this message.\n",
      "[INFO|trainer.py:3119] 2023-09-03 08:43:49,882 >> ***** Running Evaluation *****\n",
      "[INFO|trainer.py:3121] 2023-09-03 08:43:49,883 >>   Num examples = 3934\n",
      "[INFO|trainer.py:3124] 2023-09-03 08:43:49,885 >>   Batch size = 8\n",
      "[INFO|trainer.py:2845] 2023-09-03 08:44:08,233 >> Saving model checkpoint to ./output/checkpoint-5000\n",
      "[INFO|configuration_utils.py:460] 2023-09-03 08:44:08,237 >> Configuration saved in ./output/checkpoint-5000/config.json\n",
      "[INFO|modeling_utils.py:1953] 2023-09-03 08:44:09,284 >> Model weights saved in ./output/checkpoint-5000/pytorch_model.bin\n",
      "[INFO|tokenization_utils_base.py:2235] 2023-09-03 08:44:09,286 >> tokenizer config file saved in ./output/checkpoint-5000/tokenizer_config.json\n",
      "[INFO|tokenization_utils_base.py:2242] 2023-09-03 08:44:09,288 >> Special tokens file saved in ./output/checkpoint-5000/special_tokens_map.json\n"
     ]
    },
    {
     "name": "stdout",
     "output_type": "stream",
     "text": [
      "The OrderedVocab you are attempting to save contains a hole for index 1015, your vocabulary could be corrupted !\n",
      "The OrderedVocab you are attempting to save contains a hole for index 1016, your vocabulary could be corrupted !\n",
      "The OrderedVocab you are attempting to save contains a hole for index 1017, your vocabulary could be corrupted !\n",
      "The OrderedVocab you are attempting to save contains a hole for index 1018, your vocabulary could be corrupted !\n",
      "The OrderedVocab you are attempting to save contains a hole for index 1053, your vocabulary could be corrupted !\n",
      "The OrderedVocab you are attempting to save contains a hole for index 1054, your vocabulary could be corrupted !\n",
      "The OrderedVocab you are attempting to save contains a hole for index 1055, your vocabulary could be corrupted !\n",
      "The OrderedVocab you are attempting to save contains a hole for index 1056, your vocabulary could be corrupted !\n",
      "The OrderedVocab you are attempting to save contains a hole for index 1057, your vocabulary could be corrupted !\n",
      "The OrderedVocab you are attempting to save contains a hole for index 1060, your vocabulary could be corrupted !\n",
      "The OrderedVocab you are attempting to save contains a hole for index 1061, your vocabulary could be corrupted !\n",
      "The OrderedVocab you are attempting to save contains a hole for index 1062, your vocabulary could be corrupted !\n",
      "The OrderedVocab you are attempting to save contains a hole for index 1064, your vocabulary could be corrupted !\n",
      "The OrderedVocab you are attempting to save contains a hole for index 1065, your vocabulary could be corrupted !\n",
      "The OrderedVocab you are attempting to save contains a hole for index 1066, your vocabulary could be corrupted !\n",
      "The OrderedVocab you are attempting to save contains a hole for index 1067, your vocabulary could be corrupted !\n",
      "The OrderedVocab you are attempting to save contains a hole for index 1068, your vocabulary could be corrupted !\n",
      "The OrderedVocab you are attempting to save contains a hole for index 1069, your vocabulary could be corrupted !\n",
      "The OrderedVocab you are attempting to save contains a hole for index 1070, your vocabulary could be corrupted !\n",
      "The OrderedVocab you are attempting to save contains a hole for index 1071, your vocabulary could be corrupted !\n",
      "The OrderedVocab you are attempting to save contains a hole for index 1072, your vocabulary could be corrupted !\n",
      "The OrderedVocab you are attempting to save contains a hole for index 1073, your vocabulary could be corrupted !\n",
      "The OrderedVocab you are attempting to save contains a hole for index 1074, your vocabulary could be corrupted !\n",
      "The OrderedVocab you are attempting to save contains a hole for index 1075, your vocabulary could be corrupted !\n",
      "The OrderedVocab you are attempting to save contains a hole for index 1076, your vocabulary could be corrupted !\n",
      "The OrderedVocab you are attempting to save contains a hole for index 1077, your vocabulary could be corrupted !\n",
      "The OrderedVocab you are attempting to save contains a hole for index 1079, your vocabulary could be corrupted !\n",
      "The OrderedVocab you are attempting to save contains a hole for index 1080, your vocabulary could be corrupted !\n",
      "The OrderedVocab you are attempting to save contains a hole for index 1081, your vocabulary could be corrupted !\n",
      "The OrderedVocab you are attempting to save contains a hole for index 1082, your vocabulary could be corrupted !\n",
      "The OrderedVocab you are attempting to save contains a hole for index 1083, your vocabulary could be corrupted !\n",
      "The OrderedVocab you are attempting to save contains a hole for index 1084, your vocabulary could be corrupted !\n",
      "The OrderedVocab you are attempting to save contains a hole for index 1085, your vocabulary could be corrupted !\n",
      "The OrderedVocab you are attempting to save contains a hole for index 1086, your vocabulary could be corrupted !\n",
      "The OrderedVocab you are attempting to save contains a hole for index 1087, your vocabulary could be corrupted !\n",
      "The OrderedVocab you are attempting to save contains a hole for index 1088, your vocabulary could be corrupted !\n",
      "The OrderedVocab you are attempting to save contains a hole for index 1089, your vocabulary could be corrupted !\n",
      "The OrderedVocab you are attempting to save contains a hole for index 1090, your vocabulary could be corrupted !\n",
      "The OrderedVocab you are attempting to save contains a hole for index 1091, your vocabulary could be corrupted !\n",
      "The OrderedVocab you are attempting to save contains a hole for index 1092, your vocabulary could be corrupted !\n",
      "The OrderedVocab you are attempting to save contains a hole for index 1093, your vocabulary could be corrupted !\n",
      "The OrderedVocab you are attempting to save contains a hole for index 1094, your vocabulary could be corrupted !\n",
      "The OrderedVocab you are attempting to save contains a hole for index 1095, your vocabulary could be corrupted !\n",
      "The OrderedVocab you are attempting to save contains a hole for index 1099, your vocabulary could be corrupted !\n",
      "The OrderedVocab you are attempting to save contains a hole for index 1101, your vocabulary could be corrupted !\n",
      "The OrderedVocab you are attempting to save contains a hole for index 1112, your vocabulary could be corrupted !\n",
      "The OrderedVocab you are attempting to save contains a hole for index 1113, your vocabulary could be corrupted !\n",
      "The OrderedVocab you are attempting to save contains a hole for index 1556, your vocabulary could be corrupted !\n",
      "The OrderedVocab you are attempting to save contains a hole for index 1557, your vocabulary could be corrupted !\n",
      "The OrderedVocab you are attempting to save contains a hole for index 1568, your vocabulary could be corrupted !\n"
     ]
    },
    {
     "name": "stderr",
     "output_type": "stream",
     "text": [
      "[INFO|trainer.py:2932] 2023-09-03 08:44:12,898 >> Deleting older checkpoint [output/checkpoint-3000] due to args.save_total_limit\n",
      "[INFO|trainer.py:750] 2023-09-03 08:45:21,548 >> The following columns in the evaluation set don't have a corresponding argument in `BertForSequenceClassification.forward` and have been ignored: text, id. If text, id are not expected by `BertForSequenceClassification.forward`,  you can safely ignore this message.\n",
      "[INFO|trainer.py:3119] 2023-09-03 08:45:21,551 >> ***** Running Evaluation *****\n",
      "[INFO|trainer.py:3121] 2023-09-03 08:45:21,552 >>   Num examples = 3934\n",
      "[INFO|trainer.py:3124] 2023-09-03 08:45:21,553 >>   Batch size = 8\n",
      "[INFO|trainer.py:2845] 2023-09-03 08:45:40,052 >> Saving model checkpoint to ./output/checkpoint-5500\n",
      "[INFO|configuration_utils.py:460] 2023-09-03 08:45:40,055 >> Configuration saved in ./output/checkpoint-5500/config.json\n",
      "[INFO|modeling_utils.py:1953] 2023-09-03 08:45:41,218 >> Model weights saved in ./output/checkpoint-5500/pytorch_model.bin\n",
      "[INFO|tokenization_utils_base.py:2235] 2023-09-03 08:45:41,220 >> tokenizer config file saved in ./output/checkpoint-5500/tokenizer_config.json\n",
      "[INFO|tokenization_utils_base.py:2242] 2023-09-03 08:45:41,222 >> Special tokens file saved in ./output/checkpoint-5500/special_tokens_map.json\n"
     ]
    },
    {
     "name": "stdout",
     "output_type": "stream",
     "text": [
      "The OrderedVocab you are attempting to save contains a hole for index 1015, your vocabulary could be corrupted !\n",
      "The OrderedVocab you are attempting to save contains a hole for index 1016, your vocabulary could be corrupted !\n",
      "The OrderedVocab you are attempting to save contains a hole for index 1017, your vocabulary could be corrupted !\n",
      "The OrderedVocab you are attempting to save contains a hole for index 1018, your vocabulary could be corrupted !\n",
      "The OrderedVocab you are attempting to save contains a hole for index 1053, your vocabulary could be corrupted !\n",
      "The OrderedVocab you are attempting to save contains a hole for index 1054, your vocabulary could be corrupted !\n",
      "The OrderedVocab you are attempting to save contains a hole for index 1055, your vocabulary could be corrupted !\n",
      "The OrderedVocab you are attempting to save contains a hole for index 1056, your vocabulary could be corrupted !\n",
      "The OrderedVocab you are attempting to save contains a hole for index 1057, your vocabulary could be corrupted !\n",
      "The OrderedVocab you are attempting to save contains a hole for index 1060, your vocabulary could be corrupted !\n",
      "The OrderedVocab you are attempting to save contains a hole for index 1061, your vocabulary could be corrupted !\n",
      "The OrderedVocab you are attempting to save contains a hole for index 1062, your vocabulary could be corrupted !\n",
      "The OrderedVocab you are attempting to save contains a hole for index 1064, your vocabulary could be corrupted !\n",
      "The OrderedVocab you are attempting to save contains a hole for index 1065, your vocabulary could be corrupted !\n",
      "The OrderedVocab you are attempting to save contains a hole for index 1066, your vocabulary could be corrupted !\n",
      "The OrderedVocab you are attempting to save contains a hole for index 1067, your vocabulary could be corrupted !\n",
      "The OrderedVocab you are attempting to save contains a hole for index 1068, your vocabulary could be corrupted !\n",
      "The OrderedVocab you are attempting to save contains a hole for index 1069, your vocabulary could be corrupted !\n",
      "The OrderedVocab you are attempting to save contains a hole for index 1070, your vocabulary could be corrupted !\n",
      "The OrderedVocab you are attempting to save contains a hole for index 1071, your vocabulary could be corrupted !\n",
      "The OrderedVocab you are attempting to save contains a hole for index 1072, your vocabulary could be corrupted !\n",
      "The OrderedVocab you are attempting to save contains a hole for index 1073, your vocabulary could be corrupted !\n",
      "The OrderedVocab you are attempting to save contains a hole for index 1074, your vocabulary could be corrupted !\n",
      "The OrderedVocab you are attempting to save contains a hole for index 1075, your vocabulary could be corrupted !\n",
      "The OrderedVocab you are attempting to save contains a hole for index 1076, your vocabulary could be corrupted !\n",
      "The OrderedVocab you are attempting to save contains a hole for index 1077, your vocabulary could be corrupted !\n",
      "The OrderedVocab you are attempting to save contains a hole for index 1079, your vocabulary could be corrupted !\n",
      "The OrderedVocab you are attempting to save contains a hole for index 1080, your vocabulary could be corrupted !\n",
      "The OrderedVocab you are attempting to save contains a hole for index 1081, your vocabulary could be corrupted !\n",
      "The OrderedVocab you are attempting to save contains a hole for index 1082, your vocabulary could be corrupted !\n",
      "The OrderedVocab you are attempting to save contains a hole for index 1083, your vocabulary could be corrupted !\n",
      "The OrderedVocab you are attempting to save contains a hole for index 1084, your vocabulary could be corrupted !\n",
      "The OrderedVocab you are attempting to save contains a hole for index 1085, your vocabulary could be corrupted !\n",
      "The OrderedVocab you are attempting to save contains a hole for index 1086, your vocabulary could be corrupted !\n",
      "The OrderedVocab you are attempting to save contains a hole for index 1087, your vocabulary could be corrupted !\n",
      "The OrderedVocab you are attempting to save contains a hole for index 1088, your vocabulary could be corrupted !\n",
      "The OrderedVocab you are attempting to save contains a hole for index 1089, your vocabulary could be corrupted !\n",
      "The OrderedVocab you are attempting to save contains a hole for index 1090, your vocabulary could be corrupted !\n",
      "The OrderedVocab you are attempting to save contains a hole for index 1091, your vocabulary could be corrupted !\n",
      "The OrderedVocab you are attempting to save contains a hole for index 1092, your vocabulary could be corrupted !\n",
      "The OrderedVocab you are attempting to save contains a hole for index 1093, your vocabulary could be corrupted !\n",
      "The OrderedVocab you are attempting to save contains a hole for index 1094, your vocabulary could be corrupted !\n",
      "The OrderedVocab you are attempting to save contains a hole for index 1095, your vocabulary could be corrupted !\n",
      "The OrderedVocab you are attempting to save contains a hole for index 1099, your vocabulary could be corrupted !\n",
      "The OrderedVocab you are attempting to save contains a hole for index 1101, your vocabulary could be corrupted !\n",
      "The OrderedVocab you are attempting to save contains a hole for index 1112, your vocabulary could be corrupted !\n",
      "The OrderedVocab you are attempting to save contains a hole for index 1113, your vocabulary could be corrupted !\n",
      "The OrderedVocab you are attempting to save contains a hole for index 1556, your vocabulary could be corrupted !\n",
      "The OrderedVocab you are attempting to save contains a hole for index 1557, your vocabulary could be corrupted !\n",
      "The OrderedVocab you are attempting to save contains a hole for index 1568, your vocabulary could be corrupted !\n"
     ]
    },
    {
     "name": "stderr",
     "output_type": "stream",
     "text": [
      "[INFO|trainer.py:2932] 2023-09-03 08:45:44,927 >> Deleting older checkpoint [output/checkpoint-4000] due to args.save_total_limit\n",
      "[INFO|trainer.py:750] 2023-09-03 08:46:53,703 >> The following columns in the evaluation set don't have a corresponding argument in `BertForSequenceClassification.forward` and have been ignored: text, id. If text, id are not expected by `BertForSequenceClassification.forward`,  you can safely ignore this message.\n",
      "[INFO|trainer.py:3119] 2023-09-03 08:46:53,706 >> ***** Running Evaluation *****\n",
      "[INFO|trainer.py:3121] 2023-09-03 08:46:53,707 >>   Num examples = 3934\n",
      "[INFO|trainer.py:3124] 2023-09-03 08:46:53,710 >>   Batch size = 8\n",
      "[INFO|trainer.py:2845] 2023-09-03 08:47:12,215 >> Saving model checkpoint to ./output/checkpoint-6000\n",
      "[INFO|configuration_utils.py:460] 2023-09-03 08:47:12,219 >> Configuration saved in ./output/checkpoint-6000/config.json\n",
      "[INFO|modeling_utils.py:1953] 2023-09-03 08:47:13,746 >> Model weights saved in ./output/checkpoint-6000/pytorch_model.bin\n",
      "[INFO|tokenization_utils_base.py:2235] 2023-09-03 08:47:13,748 >> tokenizer config file saved in ./output/checkpoint-6000/tokenizer_config.json\n",
      "[INFO|tokenization_utils_base.py:2242] 2023-09-03 08:47:13,751 >> Special tokens file saved in ./output/checkpoint-6000/special_tokens_map.json\n"
     ]
    },
    {
     "name": "stdout",
     "output_type": "stream",
     "text": [
      "The OrderedVocab you are attempting to save contains a hole for index 1015, your vocabulary could be corrupted !\n",
      "The OrderedVocab you are attempting to save contains a hole for index 1016, your vocabulary could be corrupted !\n",
      "The OrderedVocab you are attempting to save contains a hole for index 1017, your vocabulary could be corrupted !\n",
      "The OrderedVocab you are attempting to save contains a hole for index 1018, your vocabulary could be corrupted !\n",
      "The OrderedVocab you are attempting to save contains a hole for index 1053, your vocabulary could be corrupted !\n",
      "The OrderedVocab you are attempting to save contains a hole for index 1054, your vocabulary could be corrupted !\n",
      "The OrderedVocab you are attempting to save contains a hole for index 1055, your vocabulary could be corrupted !\n",
      "The OrderedVocab you are attempting to save contains a hole for index 1056, your vocabulary could be corrupted !\n",
      "The OrderedVocab you are attempting to save contains a hole for index 1057, your vocabulary could be corrupted !\n",
      "The OrderedVocab you are attempting to save contains a hole for index 1060, your vocabulary could be corrupted !\n",
      "The OrderedVocab you are attempting to save contains a hole for index 1061, your vocabulary could be corrupted !\n",
      "The OrderedVocab you are attempting to save contains a hole for index 1062, your vocabulary could be corrupted !\n",
      "The OrderedVocab you are attempting to save contains a hole for index 1064, your vocabulary could be corrupted !\n",
      "The OrderedVocab you are attempting to save contains a hole for index 1065, your vocabulary could be corrupted !\n",
      "The OrderedVocab you are attempting to save contains a hole for index 1066, your vocabulary could be corrupted !\n",
      "The OrderedVocab you are attempting to save contains a hole for index 1067, your vocabulary could be corrupted !\n",
      "The OrderedVocab you are attempting to save contains a hole for index 1068, your vocabulary could be corrupted !\n",
      "The OrderedVocab you are attempting to save contains a hole for index 1069, your vocabulary could be corrupted !\n",
      "The OrderedVocab you are attempting to save contains a hole for index 1070, your vocabulary could be corrupted !\n",
      "The OrderedVocab you are attempting to save contains a hole for index 1071, your vocabulary could be corrupted !\n",
      "The OrderedVocab you are attempting to save contains a hole for index 1072, your vocabulary could be corrupted !\n",
      "The OrderedVocab you are attempting to save contains a hole for index 1073, your vocabulary could be corrupted !\n",
      "The OrderedVocab you are attempting to save contains a hole for index 1074, your vocabulary could be corrupted !\n",
      "The OrderedVocab you are attempting to save contains a hole for index 1075, your vocabulary could be corrupted !\n",
      "The OrderedVocab you are attempting to save contains a hole for index 1076, your vocabulary could be corrupted !\n",
      "The OrderedVocab you are attempting to save contains a hole for index 1077, your vocabulary could be corrupted !\n",
      "The OrderedVocab you are attempting to save contains a hole for index 1079, your vocabulary could be corrupted !\n",
      "The OrderedVocab you are attempting to save contains a hole for index 1080, your vocabulary could be corrupted !\n",
      "The OrderedVocab you are attempting to save contains a hole for index 1081, your vocabulary could be corrupted !\n",
      "The OrderedVocab you are attempting to save contains a hole for index 1082, your vocabulary could be corrupted !\n",
      "The OrderedVocab you are attempting to save contains a hole for index 1083, your vocabulary could be corrupted !\n",
      "The OrderedVocab you are attempting to save contains a hole for index 1084, your vocabulary could be corrupted !\n",
      "The OrderedVocab you are attempting to save contains a hole for index 1085, your vocabulary could be corrupted !\n",
      "The OrderedVocab you are attempting to save contains a hole for index 1086, your vocabulary could be corrupted !\n",
      "The OrderedVocab you are attempting to save contains a hole for index 1087, your vocabulary could be corrupted !\n",
      "The OrderedVocab you are attempting to save contains a hole for index 1088, your vocabulary could be corrupted !\n",
      "The OrderedVocab you are attempting to save contains a hole for index 1089, your vocabulary could be corrupted !\n",
      "The OrderedVocab you are attempting to save contains a hole for index 1090, your vocabulary could be corrupted !\n",
      "The OrderedVocab you are attempting to save contains a hole for index 1091, your vocabulary could be corrupted !\n",
      "The OrderedVocab you are attempting to save contains a hole for index 1092, your vocabulary could be corrupted !\n",
      "The OrderedVocab you are attempting to save contains a hole for index 1093, your vocabulary could be corrupted !\n",
      "The OrderedVocab you are attempting to save contains a hole for index 1094, your vocabulary could be corrupted !\n",
      "The OrderedVocab you are attempting to save contains a hole for index 1095, your vocabulary could be corrupted !\n",
      "The OrderedVocab you are attempting to save contains a hole for index 1099, your vocabulary could be corrupted !\n",
      "The OrderedVocab you are attempting to save contains a hole for index 1101, your vocabulary could be corrupted !\n",
      "The OrderedVocab you are attempting to save contains a hole for index 1112, your vocabulary could be corrupted !\n",
      "The OrderedVocab you are attempting to save contains a hole for index 1113, your vocabulary could be corrupted !\n",
      "The OrderedVocab you are attempting to save contains a hole for index 1556, your vocabulary could be corrupted !\n",
      "The OrderedVocab you are attempting to save contains a hole for index 1557, your vocabulary could be corrupted !\n",
      "The OrderedVocab you are attempting to save contains a hole for index 1568, your vocabulary could be corrupted !\n"
     ]
    },
    {
     "name": "stderr",
     "output_type": "stream",
     "text": [
      "[INFO|trainer.py:2932] 2023-09-03 08:47:16,744 >> Deleting older checkpoint [output/checkpoint-4500] due to args.save_total_limit\n",
      "[INFO|trainer.py:750] 2023-09-03 08:48:25,569 >> The following columns in the evaluation set don't have a corresponding argument in `BertForSequenceClassification.forward` and have been ignored: text, id. If text, id are not expected by `BertForSequenceClassification.forward`,  you can safely ignore this message.\n",
      "[INFO|trainer.py:3119] 2023-09-03 08:48:25,573 >> ***** Running Evaluation *****\n",
      "[INFO|trainer.py:3121] 2023-09-03 08:48:25,574 >>   Num examples = 3934\n",
      "[INFO|trainer.py:3124] 2023-09-03 08:48:25,575 >>   Batch size = 8\n",
      "[INFO|trainer.py:2845] 2023-09-03 08:48:44,062 >> Saving model checkpoint to ./output/checkpoint-6500\n",
      "[INFO|configuration_utils.py:460] 2023-09-03 08:48:44,065 >> Configuration saved in ./output/checkpoint-6500/config.json\n",
      "[INFO|modeling_utils.py:1953] 2023-09-03 08:48:45,246 >> Model weights saved in ./output/checkpoint-6500/pytorch_model.bin\n",
      "[INFO|tokenization_utils_base.py:2235] 2023-09-03 08:48:45,248 >> tokenizer config file saved in ./output/checkpoint-6500/tokenizer_config.json\n",
      "[INFO|tokenization_utils_base.py:2242] 2023-09-03 08:48:45,249 >> Special tokens file saved in ./output/checkpoint-6500/special_tokens_map.json\n"
     ]
    },
    {
     "name": "stdout",
     "output_type": "stream",
     "text": [
      "The OrderedVocab you are attempting to save contains a hole for index 1015, your vocabulary could be corrupted !\n",
      "The OrderedVocab you are attempting to save contains a hole for index 1016, your vocabulary could be corrupted !\n",
      "The OrderedVocab you are attempting to save contains a hole for index 1017, your vocabulary could be corrupted !\n",
      "The OrderedVocab you are attempting to save contains a hole for index 1018, your vocabulary could be corrupted !\n",
      "The OrderedVocab you are attempting to save contains a hole for index 1053, your vocabulary could be corrupted !\n",
      "The OrderedVocab you are attempting to save contains a hole for index 1054, your vocabulary could be corrupted !\n",
      "The OrderedVocab you are attempting to save contains a hole for index 1055, your vocabulary could be corrupted !\n",
      "The OrderedVocab you are attempting to save contains a hole for index 1056, your vocabulary could be corrupted !\n",
      "The OrderedVocab you are attempting to save contains a hole for index 1057, your vocabulary could be corrupted !\n",
      "The OrderedVocab you are attempting to save contains a hole for index 1060, your vocabulary could be corrupted !\n",
      "The OrderedVocab you are attempting to save contains a hole for index 1061, your vocabulary could be corrupted !\n",
      "The OrderedVocab you are attempting to save contains a hole for index 1062, your vocabulary could be corrupted !\n",
      "The OrderedVocab you are attempting to save contains a hole for index 1064, your vocabulary could be corrupted !\n",
      "The OrderedVocab you are attempting to save contains a hole for index 1065, your vocabulary could be corrupted !\n",
      "The OrderedVocab you are attempting to save contains a hole for index 1066, your vocabulary could be corrupted !\n",
      "The OrderedVocab you are attempting to save contains a hole for index 1067, your vocabulary could be corrupted !\n",
      "The OrderedVocab you are attempting to save contains a hole for index 1068, your vocabulary could be corrupted !\n",
      "The OrderedVocab you are attempting to save contains a hole for index 1069, your vocabulary could be corrupted !\n",
      "The OrderedVocab you are attempting to save contains a hole for index 1070, your vocabulary could be corrupted !\n",
      "The OrderedVocab you are attempting to save contains a hole for index 1071, your vocabulary could be corrupted !\n",
      "The OrderedVocab you are attempting to save contains a hole for index 1072, your vocabulary could be corrupted !\n",
      "The OrderedVocab you are attempting to save contains a hole for index 1073, your vocabulary could be corrupted !\n",
      "The OrderedVocab you are attempting to save contains a hole for index 1074, your vocabulary could be corrupted !\n",
      "The OrderedVocab you are attempting to save contains a hole for index 1075, your vocabulary could be corrupted !\n",
      "The OrderedVocab you are attempting to save contains a hole for index 1076, your vocabulary could be corrupted !\n",
      "The OrderedVocab you are attempting to save contains a hole for index 1077, your vocabulary could be corrupted !\n",
      "The OrderedVocab you are attempting to save contains a hole for index 1079, your vocabulary could be corrupted !\n",
      "The OrderedVocab you are attempting to save contains a hole for index 1080, your vocabulary could be corrupted !\n",
      "The OrderedVocab you are attempting to save contains a hole for index 1081, your vocabulary could be corrupted !\n",
      "The OrderedVocab you are attempting to save contains a hole for index 1082, your vocabulary could be corrupted !\n",
      "The OrderedVocab you are attempting to save contains a hole for index 1083, your vocabulary could be corrupted !\n",
      "The OrderedVocab you are attempting to save contains a hole for index 1084, your vocabulary could be corrupted !\n",
      "The OrderedVocab you are attempting to save contains a hole for index 1085, your vocabulary could be corrupted !\n",
      "The OrderedVocab you are attempting to save contains a hole for index 1086, your vocabulary could be corrupted !\n",
      "The OrderedVocab you are attempting to save contains a hole for index 1087, your vocabulary could be corrupted !\n",
      "The OrderedVocab you are attempting to save contains a hole for index 1088, your vocabulary could be corrupted !\n",
      "The OrderedVocab you are attempting to save contains a hole for index 1089, your vocabulary could be corrupted !\n",
      "The OrderedVocab you are attempting to save contains a hole for index 1090, your vocabulary could be corrupted !\n",
      "The OrderedVocab you are attempting to save contains a hole for index 1091, your vocabulary could be corrupted !\n",
      "The OrderedVocab you are attempting to save contains a hole for index 1092, your vocabulary could be corrupted !\n",
      "The OrderedVocab you are attempting to save contains a hole for index 1093, your vocabulary could be corrupted !\n",
      "The OrderedVocab you are attempting to save contains a hole for index 1094, your vocabulary could be corrupted !\n",
      "The OrderedVocab you are attempting to save contains a hole for index 1095, your vocabulary could be corrupted !\n",
      "The OrderedVocab you are attempting to save contains a hole for index 1099, your vocabulary could be corrupted !\n",
      "The OrderedVocab you are attempting to save contains a hole for index 1101, your vocabulary could be corrupted !\n",
      "The OrderedVocab you are attempting to save contains a hole for index 1112, your vocabulary could be corrupted !\n",
      "The OrderedVocab you are attempting to save contains a hole for index 1113, your vocabulary could be corrupted !\n",
      "The OrderedVocab you are attempting to save contains a hole for index 1556, your vocabulary could be corrupted !\n",
      "The OrderedVocab you are attempting to save contains a hole for index 1557, your vocabulary could be corrupted !\n",
      "The OrderedVocab you are attempting to save contains a hole for index 1568, your vocabulary could be corrupted !\n"
     ]
    },
    {
     "name": "stderr",
     "output_type": "stream",
     "text": [
      "[INFO|trainer.py:2932] 2023-09-03 08:48:48,728 >> Deleting older checkpoint [output/checkpoint-5000] due to args.save_total_limit\n",
      "[INFO|trainer.py:750] 2023-09-03 08:49:57,490 >> The following columns in the evaluation set don't have a corresponding argument in `BertForSequenceClassification.forward` and have been ignored: text, id. If text, id are not expected by `BertForSequenceClassification.forward`,  you can safely ignore this message.\n",
      "[INFO|trainer.py:3119] 2023-09-03 08:49:57,493 >> ***** Running Evaluation *****\n",
      "[INFO|trainer.py:3121] 2023-09-03 08:49:57,494 >>   Num examples = 3934\n",
      "[INFO|trainer.py:3124] 2023-09-03 08:49:57,497 >>   Batch size = 8\n",
      "[INFO|trainer.py:2845] 2023-09-03 08:50:16,025 >> Saving model checkpoint to ./output/checkpoint-7000\n",
      "[INFO|configuration_utils.py:460] 2023-09-03 08:50:16,029 >> Configuration saved in ./output/checkpoint-7000/config.json\n",
      "[INFO|modeling_utils.py:1953] 2023-09-03 08:50:17,262 >> Model weights saved in ./output/checkpoint-7000/pytorch_model.bin\n",
      "[INFO|tokenization_utils_base.py:2235] 2023-09-03 08:50:17,265 >> tokenizer config file saved in ./output/checkpoint-7000/tokenizer_config.json\n",
      "[INFO|tokenization_utils_base.py:2242] 2023-09-03 08:50:17,267 >> Special tokens file saved in ./output/checkpoint-7000/special_tokens_map.json\n"
     ]
    },
    {
     "name": "stdout",
     "output_type": "stream",
     "text": [
      "The OrderedVocab you are attempting to save contains a hole for index 1015, your vocabulary could be corrupted !\n",
      "The OrderedVocab you are attempting to save contains a hole for index 1016, your vocabulary could be corrupted !\n",
      "The OrderedVocab you are attempting to save contains a hole for index 1017, your vocabulary could be corrupted !\n",
      "The OrderedVocab you are attempting to save contains a hole for index 1018, your vocabulary could be corrupted !\n",
      "The OrderedVocab you are attempting to save contains a hole for index 1053, your vocabulary could be corrupted !\n",
      "The OrderedVocab you are attempting to save contains a hole for index 1054, your vocabulary could be corrupted !\n",
      "The OrderedVocab you are attempting to save contains a hole for index 1055, your vocabulary could be corrupted !\n",
      "The OrderedVocab you are attempting to save contains a hole for index 1056, your vocabulary could be corrupted !\n",
      "The OrderedVocab you are attempting to save contains a hole for index 1057, your vocabulary could be corrupted !\n",
      "The OrderedVocab you are attempting to save contains a hole for index 1060, your vocabulary could be corrupted !\n",
      "The OrderedVocab you are attempting to save contains a hole for index 1061, your vocabulary could be corrupted !\n",
      "The OrderedVocab you are attempting to save contains a hole for index 1062, your vocabulary could be corrupted !\n",
      "The OrderedVocab you are attempting to save contains a hole for index 1064, your vocabulary could be corrupted !\n",
      "The OrderedVocab you are attempting to save contains a hole for index 1065, your vocabulary could be corrupted !\n",
      "The OrderedVocab you are attempting to save contains a hole for index 1066, your vocabulary could be corrupted !\n",
      "The OrderedVocab you are attempting to save contains a hole for index 1067, your vocabulary could be corrupted !\n",
      "The OrderedVocab you are attempting to save contains a hole for index 1068, your vocabulary could be corrupted !\n",
      "The OrderedVocab you are attempting to save contains a hole for index 1069, your vocabulary could be corrupted !\n",
      "The OrderedVocab you are attempting to save contains a hole for index 1070, your vocabulary could be corrupted !\n",
      "The OrderedVocab you are attempting to save contains a hole for index 1071, your vocabulary could be corrupted !\n",
      "The OrderedVocab you are attempting to save contains a hole for index 1072, your vocabulary could be corrupted !\n",
      "The OrderedVocab you are attempting to save contains a hole for index 1073, your vocabulary could be corrupted !\n",
      "The OrderedVocab you are attempting to save contains a hole for index 1074, your vocabulary could be corrupted !\n",
      "The OrderedVocab you are attempting to save contains a hole for index 1075, your vocabulary could be corrupted !\n",
      "The OrderedVocab you are attempting to save contains a hole for index 1076, your vocabulary could be corrupted !\n",
      "The OrderedVocab you are attempting to save contains a hole for index 1077, your vocabulary could be corrupted !\n",
      "The OrderedVocab you are attempting to save contains a hole for index 1079, your vocabulary could be corrupted !\n",
      "The OrderedVocab you are attempting to save contains a hole for index 1080, your vocabulary could be corrupted !\n",
      "The OrderedVocab you are attempting to save contains a hole for index 1081, your vocabulary could be corrupted !\n",
      "The OrderedVocab you are attempting to save contains a hole for index 1082, your vocabulary could be corrupted !\n",
      "The OrderedVocab you are attempting to save contains a hole for index 1083, your vocabulary could be corrupted !\n",
      "The OrderedVocab you are attempting to save contains a hole for index 1084, your vocabulary could be corrupted !\n",
      "The OrderedVocab you are attempting to save contains a hole for index 1085, your vocabulary could be corrupted !\n",
      "The OrderedVocab you are attempting to save contains a hole for index 1086, your vocabulary could be corrupted !\n",
      "The OrderedVocab you are attempting to save contains a hole for index 1087, your vocabulary could be corrupted !\n",
      "The OrderedVocab you are attempting to save contains a hole for index 1088, your vocabulary could be corrupted !\n",
      "The OrderedVocab you are attempting to save contains a hole for index 1089, your vocabulary could be corrupted !\n",
      "The OrderedVocab you are attempting to save contains a hole for index 1090, your vocabulary could be corrupted !\n",
      "The OrderedVocab you are attempting to save contains a hole for index 1091, your vocabulary could be corrupted !\n",
      "The OrderedVocab you are attempting to save contains a hole for index 1092, your vocabulary could be corrupted !\n",
      "The OrderedVocab you are attempting to save contains a hole for index 1093, your vocabulary could be corrupted !\n",
      "The OrderedVocab you are attempting to save contains a hole for index 1094, your vocabulary could be corrupted !\n",
      "The OrderedVocab you are attempting to save contains a hole for index 1095, your vocabulary could be corrupted !\n",
      "The OrderedVocab you are attempting to save contains a hole for index 1099, your vocabulary could be corrupted !\n",
      "The OrderedVocab you are attempting to save contains a hole for index 1101, your vocabulary could be corrupted !\n",
      "The OrderedVocab you are attempting to save contains a hole for index 1112, your vocabulary could be corrupted !\n",
      "The OrderedVocab you are attempting to save contains a hole for index 1113, your vocabulary could be corrupted !\n",
      "The OrderedVocab you are attempting to save contains a hole for index 1556, your vocabulary could be corrupted !\n",
      "The OrderedVocab you are attempting to save contains a hole for index 1557, your vocabulary could be corrupted !\n",
      "The OrderedVocab you are attempting to save contains a hole for index 1568, your vocabulary could be corrupted !\n"
     ]
    },
    {
     "name": "stderr",
     "output_type": "stream",
     "text": [
      "[INFO|trainer.py:2932] 2023-09-03 08:50:20,760 >> Deleting older checkpoint [output/checkpoint-5500] due to args.save_total_limit\n",
      "[INFO|trainer.py:750] 2023-09-03 08:51:29,553 >> The following columns in the evaluation set don't have a corresponding argument in `BertForSequenceClassification.forward` and have been ignored: text, id. If text, id are not expected by `BertForSequenceClassification.forward`,  you can safely ignore this message.\n",
      "[INFO|trainer.py:3119] 2023-09-03 08:51:29,556 >> ***** Running Evaluation *****\n",
      "[INFO|trainer.py:3121] 2023-09-03 08:51:29,557 >>   Num examples = 3934\n",
      "[INFO|trainer.py:3124] 2023-09-03 08:51:29,558 >>   Batch size = 8\n",
      "[INFO|trainer.py:2845] 2023-09-03 08:51:48,068 >> Saving model checkpoint to ./output/checkpoint-7500\n",
      "[INFO|configuration_utils.py:460] 2023-09-03 08:51:48,071 >> Configuration saved in ./output/checkpoint-7500/config.json\n",
      "[INFO|modeling_utils.py:1953] 2023-09-03 08:51:49,262 >> Model weights saved in ./output/checkpoint-7500/pytorch_model.bin\n",
      "[INFO|tokenization_utils_base.py:2235] 2023-09-03 08:51:49,264 >> tokenizer config file saved in ./output/checkpoint-7500/tokenizer_config.json\n",
      "[INFO|tokenization_utils_base.py:2242] 2023-09-03 08:51:49,265 >> Special tokens file saved in ./output/checkpoint-7500/special_tokens_map.json\n"
     ]
    },
    {
     "name": "stdout",
     "output_type": "stream",
     "text": [
      "The OrderedVocab you are attempting to save contains a hole for index 1015, your vocabulary could be corrupted !\n",
      "The OrderedVocab you are attempting to save contains a hole for index 1016, your vocabulary could be corrupted !\n",
      "The OrderedVocab you are attempting to save contains a hole for index 1017, your vocabulary could be corrupted !\n",
      "The OrderedVocab you are attempting to save contains a hole for index 1018, your vocabulary could be corrupted !\n",
      "The OrderedVocab you are attempting to save contains a hole for index 1053, your vocabulary could be corrupted !\n",
      "The OrderedVocab you are attempting to save contains a hole for index 1054, your vocabulary could be corrupted !\n",
      "The OrderedVocab you are attempting to save contains a hole for index 1055, your vocabulary could be corrupted !\n",
      "The OrderedVocab you are attempting to save contains a hole for index 1056, your vocabulary could be corrupted !\n",
      "The OrderedVocab you are attempting to save contains a hole for index 1057, your vocabulary could be corrupted !\n",
      "The OrderedVocab you are attempting to save contains a hole for index 1060, your vocabulary could be corrupted !\n",
      "The OrderedVocab you are attempting to save contains a hole for index 1061, your vocabulary could be corrupted !\n",
      "The OrderedVocab you are attempting to save contains a hole for index 1062, your vocabulary could be corrupted !\n",
      "The OrderedVocab you are attempting to save contains a hole for index 1064, your vocabulary could be corrupted !\n",
      "The OrderedVocab you are attempting to save contains a hole for index 1065, your vocabulary could be corrupted !\n",
      "The OrderedVocab you are attempting to save contains a hole for index 1066, your vocabulary could be corrupted !\n",
      "The OrderedVocab you are attempting to save contains a hole for index 1067, your vocabulary could be corrupted !\n",
      "The OrderedVocab you are attempting to save contains a hole for index 1068, your vocabulary could be corrupted !\n",
      "The OrderedVocab you are attempting to save contains a hole for index 1069, your vocabulary could be corrupted !\n",
      "The OrderedVocab you are attempting to save contains a hole for index 1070, your vocabulary could be corrupted !\n",
      "The OrderedVocab you are attempting to save contains a hole for index 1071, your vocabulary could be corrupted !\n",
      "The OrderedVocab you are attempting to save contains a hole for index 1072, your vocabulary could be corrupted !\n",
      "The OrderedVocab you are attempting to save contains a hole for index 1073, your vocabulary could be corrupted !\n",
      "The OrderedVocab you are attempting to save contains a hole for index 1074, your vocabulary could be corrupted !\n",
      "The OrderedVocab you are attempting to save contains a hole for index 1075, your vocabulary could be corrupted !\n",
      "The OrderedVocab you are attempting to save contains a hole for index 1076, your vocabulary could be corrupted !\n",
      "The OrderedVocab you are attempting to save contains a hole for index 1077, your vocabulary could be corrupted !\n",
      "The OrderedVocab you are attempting to save contains a hole for index 1079, your vocabulary could be corrupted !\n",
      "The OrderedVocab you are attempting to save contains a hole for index 1080, your vocabulary could be corrupted !\n",
      "The OrderedVocab you are attempting to save contains a hole for index 1081, your vocabulary could be corrupted !\n",
      "The OrderedVocab you are attempting to save contains a hole for index 1082, your vocabulary could be corrupted !\n",
      "The OrderedVocab you are attempting to save contains a hole for index 1083, your vocabulary could be corrupted !\n",
      "The OrderedVocab you are attempting to save contains a hole for index 1084, your vocabulary could be corrupted !\n",
      "The OrderedVocab you are attempting to save contains a hole for index 1085, your vocabulary could be corrupted !\n",
      "The OrderedVocab you are attempting to save contains a hole for index 1086, your vocabulary could be corrupted !\n",
      "The OrderedVocab you are attempting to save contains a hole for index 1087, your vocabulary could be corrupted !\n",
      "The OrderedVocab you are attempting to save contains a hole for index 1088, your vocabulary could be corrupted !\n",
      "The OrderedVocab you are attempting to save contains a hole for index 1089, your vocabulary could be corrupted !\n",
      "The OrderedVocab you are attempting to save contains a hole for index 1090, your vocabulary could be corrupted !\n",
      "The OrderedVocab you are attempting to save contains a hole for index 1091, your vocabulary could be corrupted !\n",
      "The OrderedVocab you are attempting to save contains a hole for index 1092, your vocabulary could be corrupted !\n",
      "The OrderedVocab you are attempting to save contains a hole for index 1093, your vocabulary could be corrupted !\n",
      "The OrderedVocab you are attempting to save contains a hole for index 1094, your vocabulary could be corrupted !\n",
      "The OrderedVocab you are attempting to save contains a hole for index 1095, your vocabulary could be corrupted !\n",
      "The OrderedVocab you are attempting to save contains a hole for index 1099, your vocabulary could be corrupted !\n",
      "The OrderedVocab you are attempting to save contains a hole for index 1101, your vocabulary could be corrupted !\n",
      "The OrderedVocab you are attempting to save contains a hole for index 1112, your vocabulary could be corrupted !\n",
      "The OrderedVocab you are attempting to save contains a hole for index 1113, your vocabulary could be corrupted !\n",
      "The OrderedVocab you are attempting to save contains a hole for index 1556, your vocabulary could be corrupted !\n",
      "The OrderedVocab you are attempting to save contains a hole for index 1557, your vocabulary could be corrupted !\n",
      "The OrderedVocab you are attempting to save contains a hole for index 1568, your vocabulary could be corrupted !\n"
     ]
    },
    {
     "name": "stderr",
     "output_type": "stream",
     "text": [
      "[INFO|trainer.py:2932] 2023-09-03 08:51:52,714 >> Deleting older checkpoint [output/checkpoint-6000] due to args.save_total_limit\n",
      "[INFO|trainer.py:750] 2023-09-03 08:53:01,591 >> The following columns in the evaluation set don't have a corresponding argument in `BertForSequenceClassification.forward` and have been ignored: text, id. If text, id are not expected by `BertForSequenceClassification.forward`,  you can safely ignore this message.\n",
      "[INFO|trainer.py:3119] 2023-09-03 08:53:01,595 >> ***** Running Evaluation *****\n",
      "[INFO|trainer.py:3121] 2023-09-03 08:53:01,596 >>   Num examples = 3934\n",
      "[INFO|trainer.py:3124] 2023-09-03 08:53:01,599 >>   Batch size = 8\n",
      "[INFO|trainer.py:2845] 2023-09-03 08:53:20,125 >> Saving model checkpoint to ./output/checkpoint-8000\n",
      "[INFO|configuration_utils.py:460] 2023-09-03 08:53:20,130 >> Configuration saved in ./output/checkpoint-8000/config.json\n",
      "[INFO|modeling_utils.py:1953] 2023-09-03 08:53:21,342 >> Model weights saved in ./output/checkpoint-8000/pytorch_model.bin\n",
      "[INFO|tokenization_utils_base.py:2235] 2023-09-03 08:53:21,346 >> tokenizer config file saved in ./output/checkpoint-8000/tokenizer_config.json\n",
      "[INFO|tokenization_utils_base.py:2242] 2023-09-03 08:53:21,348 >> Special tokens file saved in ./output/checkpoint-8000/special_tokens_map.json\n"
     ]
    },
    {
     "name": "stdout",
     "output_type": "stream",
     "text": [
      "The OrderedVocab you are attempting to save contains a hole for index 1015, your vocabulary could be corrupted !\n",
      "The OrderedVocab you are attempting to save contains a hole for index 1016, your vocabulary could be corrupted !\n",
      "The OrderedVocab you are attempting to save contains a hole for index 1017, your vocabulary could be corrupted !\n",
      "The OrderedVocab you are attempting to save contains a hole for index 1018, your vocabulary could be corrupted !\n",
      "The OrderedVocab you are attempting to save contains a hole for index 1053, your vocabulary could be corrupted !\n",
      "The OrderedVocab you are attempting to save contains a hole for index 1054, your vocabulary could be corrupted !\n",
      "The OrderedVocab you are attempting to save contains a hole for index 1055, your vocabulary could be corrupted !\n",
      "The OrderedVocab you are attempting to save contains a hole for index 1056, your vocabulary could be corrupted !\n",
      "The OrderedVocab you are attempting to save contains a hole for index 1057, your vocabulary could be corrupted !\n",
      "The OrderedVocab you are attempting to save contains a hole for index 1060, your vocabulary could be corrupted !\n",
      "The OrderedVocab you are attempting to save contains a hole for index 1061, your vocabulary could be corrupted !\n",
      "The OrderedVocab you are attempting to save contains a hole for index 1062, your vocabulary could be corrupted !\n",
      "The OrderedVocab you are attempting to save contains a hole for index 1064, your vocabulary could be corrupted !\n",
      "The OrderedVocab you are attempting to save contains a hole for index 1065, your vocabulary could be corrupted !\n",
      "The OrderedVocab you are attempting to save contains a hole for index 1066, your vocabulary could be corrupted !\n",
      "The OrderedVocab you are attempting to save contains a hole for index 1067, your vocabulary could be corrupted !\n",
      "The OrderedVocab you are attempting to save contains a hole for index 1068, your vocabulary could be corrupted !\n",
      "The OrderedVocab you are attempting to save contains a hole for index 1069, your vocabulary could be corrupted !\n",
      "The OrderedVocab you are attempting to save contains a hole for index 1070, your vocabulary could be corrupted !\n",
      "The OrderedVocab you are attempting to save contains a hole for index 1071, your vocabulary could be corrupted !\n",
      "The OrderedVocab you are attempting to save contains a hole for index 1072, your vocabulary could be corrupted !\n",
      "The OrderedVocab you are attempting to save contains a hole for index 1073, your vocabulary could be corrupted !\n",
      "The OrderedVocab you are attempting to save contains a hole for index 1074, your vocabulary could be corrupted !\n",
      "The OrderedVocab you are attempting to save contains a hole for index 1075, your vocabulary could be corrupted !\n",
      "The OrderedVocab you are attempting to save contains a hole for index 1076, your vocabulary could be corrupted !\n",
      "The OrderedVocab you are attempting to save contains a hole for index 1077, your vocabulary could be corrupted !\n",
      "The OrderedVocab you are attempting to save contains a hole for index 1079, your vocabulary could be corrupted !\n",
      "The OrderedVocab you are attempting to save contains a hole for index 1080, your vocabulary could be corrupted !\n",
      "The OrderedVocab you are attempting to save contains a hole for index 1081, your vocabulary could be corrupted !\n",
      "The OrderedVocab you are attempting to save contains a hole for index 1082, your vocabulary could be corrupted !\n",
      "The OrderedVocab you are attempting to save contains a hole for index 1083, your vocabulary could be corrupted !\n",
      "The OrderedVocab you are attempting to save contains a hole for index 1084, your vocabulary could be corrupted !\n",
      "The OrderedVocab you are attempting to save contains a hole for index 1085, your vocabulary could be corrupted !\n",
      "The OrderedVocab you are attempting to save contains a hole for index 1086, your vocabulary could be corrupted !\n",
      "The OrderedVocab you are attempting to save contains a hole for index 1087, your vocabulary could be corrupted !\n",
      "The OrderedVocab you are attempting to save contains a hole for index 1088, your vocabulary could be corrupted !\n",
      "The OrderedVocab you are attempting to save contains a hole for index 1089, your vocabulary could be corrupted !\n",
      "The OrderedVocab you are attempting to save contains a hole for index 1090, your vocabulary could be corrupted !\n",
      "The OrderedVocab you are attempting to save contains a hole for index 1091, your vocabulary could be corrupted !\n",
      "The OrderedVocab you are attempting to save contains a hole for index 1092, your vocabulary could be corrupted !\n",
      "The OrderedVocab you are attempting to save contains a hole for index 1093, your vocabulary could be corrupted !\n",
      "The OrderedVocab you are attempting to save contains a hole for index 1094, your vocabulary could be corrupted !\n",
      "The OrderedVocab you are attempting to save contains a hole for index 1095, your vocabulary could be corrupted !\n",
      "The OrderedVocab you are attempting to save contains a hole for index 1099, your vocabulary could be corrupted !\n",
      "The OrderedVocab you are attempting to save contains a hole for index 1101, your vocabulary could be corrupted !\n",
      "The OrderedVocab you are attempting to save contains a hole for index 1112, your vocabulary could be corrupted !\n",
      "The OrderedVocab you are attempting to save contains a hole for index 1113, your vocabulary could be corrupted !\n",
      "The OrderedVocab you are attempting to save contains a hole for index 1556, your vocabulary could be corrupted !\n",
      "The OrderedVocab you are attempting to save contains a hole for index 1557, your vocabulary could be corrupted !\n",
      "The OrderedVocab you are attempting to save contains a hole for index 1568, your vocabulary could be corrupted !\n"
     ]
    },
    {
     "name": "stderr",
     "output_type": "stream",
     "text": [
      "[INFO|trainer.py:2932] 2023-09-03 08:53:25,079 >> Deleting older checkpoint [output/checkpoint-6500] due to args.save_total_limit\n",
      "[INFO|trainer.py:750] 2023-09-03 08:54:33,806 >> The following columns in the evaluation set don't have a corresponding argument in `BertForSequenceClassification.forward` and have been ignored: text, id. If text, id are not expected by `BertForSequenceClassification.forward`,  you can safely ignore this message.\n",
      "[INFO|trainer.py:3119] 2023-09-03 08:54:33,809 >> ***** Running Evaluation *****\n",
      "[INFO|trainer.py:3121] 2023-09-03 08:54:33,810 >>   Num examples = 3934\n",
      "[INFO|trainer.py:3124] 2023-09-03 08:54:33,812 >>   Batch size = 8\n",
      "[INFO|trainer.py:2845] 2023-09-03 08:54:52,184 >> Saving model checkpoint to ./output/checkpoint-8500\n",
      "[INFO|configuration_utils.py:460] 2023-09-03 08:54:52,187 >> Configuration saved in ./output/checkpoint-8500/config.json\n",
      "[INFO|modeling_utils.py:1953] 2023-09-03 08:54:53,451 >> Model weights saved in ./output/checkpoint-8500/pytorch_model.bin\n",
      "[INFO|tokenization_utils_base.py:2235] 2023-09-03 08:54:53,454 >> tokenizer config file saved in ./output/checkpoint-8500/tokenizer_config.json\n",
      "[INFO|tokenization_utils_base.py:2242] 2023-09-03 08:54:53,455 >> Special tokens file saved in ./output/checkpoint-8500/special_tokens_map.json\n"
     ]
    },
    {
     "name": "stdout",
     "output_type": "stream",
     "text": [
      "The OrderedVocab you are attempting to save contains a hole for index 1015, your vocabulary could be corrupted !\n",
      "The OrderedVocab you are attempting to save contains a hole for index 1016, your vocabulary could be corrupted !\n",
      "The OrderedVocab you are attempting to save contains a hole for index 1017, your vocabulary could be corrupted !\n",
      "The OrderedVocab you are attempting to save contains a hole for index 1018, your vocabulary could be corrupted !\n",
      "The OrderedVocab you are attempting to save contains a hole for index 1053, your vocabulary could be corrupted !\n",
      "The OrderedVocab you are attempting to save contains a hole for index 1054, your vocabulary could be corrupted !\n",
      "The OrderedVocab you are attempting to save contains a hole for index 1055, your vocabulary could be corrupted !\n",
      "The OrderedVocab you are attempting to save contains a hole for index 1056, your vocabulary could be corrupted !\n",
      "The OrderedVocab you are attempting to save contains a hole for index 1057, your vocabulary could be corrupted !\n",
      "The OrderedVocab you are attempting to save contains a hole for index 1060, your vocabulary could be corrupted !\n",
      "The OrderedVocab you are attempting to save contains a hole for index 1061, your vocabulary could be corrupted !\n",
      "The OrderedVocab you are attempting to save contains a hole for index 1062, your vocabulary could be corrupted !\n",
      "The OrderedVocab you are attempting to save contains a hole for index 1064, your vocabulary could be corrupted !\n",
      "The OrderedVocab you are attempting to save contains a hole for index 1065, your vocabulary could be corrupted !\n",
      "The OrderedVocab you are attempting to save contains a hole for index 1066, your vocabulary could be corrupted !\n",
      "The OrderedVocab you are attempting to save contains a hole for index 1067, your vocabulary could be corrupted !\n",
      "The OrderedVocab you are attempting to save contains a hole for index 1068, your vocabulary could be corrupted !\n",
      "The OrderedVocab you are attempting to save contains a hole for index 1069, your vocabulary could be corrupted !\n",
      "The OrderedVocab you are attempting to save contains a hole for index 1070, your vocabulary could be corrupted !\n",
      "The OrderedVocab you are attempting to save contains a hole for index 1071, your vocabulary could be corrupted !\n",
      "The OrderedVocab you are attempting to save contains a hole for index 1072, your vocabulary could be corrupted !\n",
      "The OrderedVocab you are attempting to save contains a hole for index 1073, your vocabulary could be corrupted !\n",
      "The OrderedVocab you are attempting to save contains a hole for index 1074, your vocabulary could be corrupted !\n",
      "The OrderedVocab you are attempting to save contains a hole for index 1075, your vocabulary could be corrupted !\n",
      "The OrderedVocab you are attempting to save contains a hole for index 1076, your vocabulary could be corrupted !\n",
      "The OrderedVocab you are attempting to save contains a hole for index 1077, your vocabulary could be corrupted !\n",
      "The OrderedVocab you are attempting to save contains a hole for index 1079, your vocabulary could be corrupted !\n",
      "The OrderedVocab you are attempting to save contains a hole for index 1080, your vocabulary could be corrupted !\n",
      "The OrderedVocab you are attempting to save contains a hole for index 1081, your vocabulary could be corrupted !\n",
      "The OrderedVocab you are attempting to save contains a hole for index 1082, your vocabulary could be corrupted !\n",
      "The OrderedVocab you are attempting to save contains a hole for index 1083, your vocabulary could be corrupted !\n",
      "The OrderedVocab you are attempting to save contains a hole for index 1084, your vocabulary could be corrupted !\n",
      "The OrderedVocab you are attempting to save contains a hole for index 1085, your vocabulary could be corrupted !\n",
      "The OrderedVocab you are attempting to save contains a hole for index 1086, your vocabulary could be corrupted !\n",
      "The OrderedVocab you are attempting to save contains a hole for index 1087, your vocabulary could be corrupted !\n",
      "The OrderedVocab you are attempting to save contains a hole for index 1088, your vocabulary could be corrupted !\n",
      "The OrderedVocab you are attempting to save contains a hole for index 1089, your vocabulary could be corrupted !\n",
      "The OrderedVocab you are attempting to save contains a hole for index 1090, your vocabulary could be corrupted !\n",
      "The OrderedVocab you are attempting to save contains a hole for index 1091, your vocabulary could be corrupted !\n",
      "The OrderedVocab you are attempting to save contains a hole for index 1092, your vocabulary could be corrupted !\n",
      "The OrderedVocab you are attempting to save contains a hole for index 1093, your vocabulary could be corrupted !\n",
      "The OrderedVocab you are attempting to save contains a hole for index 1094, your vocabulary could be corrupted !\n",
      "The OrderedVocab you are attempting to save contains a hole for index 1095, your vocabulary could be corrupted !\n",
      "The OrderedVocab you are attempting to save contains a hole for index 1099, your vocabulary could be corrupted !\n",
      "The OrderedVocab you are attempting to save contains a hole for index 1101, your vocabulary could be corrupted !\n",
      "The OrderedVocab you are attempting to save contains a hole for index 1112, your vocabulary could be corrupted !\n",
      "The OrderedVocab you are attempting to save contains a hole for index 1113, your vocabulary could be corrupted !\n",
      "The OrderedVocab you are attempting to save contains a hole for index 1556, your vocabulary could be corrupted !\n",
      "The OrderedVocab you are attempting to save contains a hole for index 1557, your vocabulary could be corrupted !\n",
      "The OrderedVocab you are attempting to save contains a hole for index 1568, your vocabulary could be corrupted !\n"
     ]
    },
    {
     "name": "stderr",
     "output_type": "stream",
     "text": [
      "[INFO|trainer.py:2932] 2023-09-03 08:54:57,661 >> Deleting older checkpoint [output/checkpoint-7000] due to args.save_total_limit\n",
      "[INFO|trainer.py:750] 2023-09-03 08:56:06,240 >> The following columns in the evaluation set don't have a corresponding argument in `BertForSequenceClassification.forward` and have been ignored: text, id. If text, id are not expected by `BertForSequenceClassification.forward`,  you can safely ignore this message.\n",
      "[INFO|trainer.py:3119] 2023-09-03 08:56:06,243 >> ***** Running Evaluation *****\n",
      "[INFO|trainer.py:3121] 2023-09-03 08:56:06,244 >>   Num examples = 3934\n",
      "[INFO|trainer.py:3124] 2023-09-03 08:56:06,245 >>   Batch size = 8\n",
      "[INFO|trainer.py:2845] 2023-09-03 08:56:24,382 >> Saving model checkpoint to ./output/checkpoint-9000\n",
      "[INFO|configuration_utils.py:460] 2023-09-03 08:56:24,385 >> Configuration saved in ./output/checkpoint-9000/config.json\n",
      "[INFO|modeling_utils.py:1953] 2023-09-03 08:56:25,559 >> Model weights saved in ./output/checkpoint-9000/pytorch_model.bin\n",
      "[INFO|tokenization_utils_base.py:2235] 2023-09-03 08:56:25,561 >> tokenizer config file saved in ./output/checkpoint-9000/tokenizer_config.json\n",
      "[INFO|tokenization_utils_base.py:2242] 2023-09-03 08:56:25,562 >> Special tokens file saved in ./output/checkpoint-9000/special_tokens_map.json\n"
     ]
    },
    {
     "name": "stdout",
     "output_type": "stream",
     "text": [
      "The OrderedVocab you are attempting to save contains a hole for index 1015, your vocabulary could be corrupted !\n",
      "The OrderedVocab you are attempting to save contains a hole for index 1016, your vocabulary could be corrupted !\n",
      "The OrderedVocab you are attempting to save contains a hole for index 1017, your vocabulary could be corrupted !\n",
      "The OrderedVocab you are attempting to save contains a hole for index 1018, your vocabulary could be corrupted !\n",
      "The OrderedVocab you are attempting to save contains a hole for index 1053, your vocabulary could be corrupted !\n",
      "The OrderedVocab you are attempting to save contains a hole for index 1054, your vocabulary could be corrupted !\n",
      "The OrderedVocab you are attempting to save contains a hole for index 1055, your vocabulary could be corrupted !\n",
      "The OrderedVocab you are attempting to save contains a hole for index 1056, your vocabulary could be corrupted !\n",
      "The OrderedVocab you are attempting to save contains a hole for index 1057, your vocabulary could be corrupted !\n",
      "The OrderedVocab you are attempting to save contains a hole for index 1060, your vocabulary could be corrupted !\n",
      "The OrderedVocab you are attempting to save contains a hole for index 1061, your vocabulary could be corrupted !\n",
      "The OrderedVocab you are attempting to save contains a hole for index 1062, your vocabulary could be corrupted !\n",
      "The OrderedVocab you are attempting to save contains a hole for index 1064, your vocabulary could be corrupted !\n",
      "The OrderedVocab you are attempting to save contains a hole for index 1065, your vocabulary could be corrupted !\n",
      "The OrderedVocab you are attempting to save contains a hole for index 1066, your vocabulary could be corrupted !\n",
      "The OrderedVocab you are attempting to save contains a hole for index 1067, your vocabulary could be corrupted !\n",
      "The OrderedVocab you are attempting to save contains a hole for index 1068, your vocabulary could be corrupted !\n",
      "The OrderedVocab you are attempting to save contains a hole for index 1069, your vocabulary could be corrupted !\n",
      "The OrderedVocab you are attempting to save contains a hole for index 1070, your vocabulary could be corrupted !\n",
      "The OrderedVocab you are attempting to save contains a hole for index 1071, your vocabulary could be corrupted !\n",
      "The OrderedVocab you are attempting to save contains a hole for index 1072, your vocabulary could be corrupted !\n",
      "The OrderedVocab you are attempting to save contains a hole for index 1073, your vocabulary could be corrupted !\n",
      "The OrderedVocab you are attempting to save contains a hole for index 1074, your vocabulary could be corrupted !\n",
      "The OrderedVocab you are attempting to save contains a hole for index 1075, your vocabulary could be corrupted !\n",
      "The OrderedVocab you are attempting to save contains a hole for index 1076, your vocabulary could be corrupted !\n",
      "The OrderedVocab you are attempting to save contains a hole for index 1077, your vocabulary could be corrupted !\n",
      "The OrderedVocab you are attempting to save contains a hole for index 1079, your vocabulary could be corrupted !\n",
      "The OrderedVocab you are attempting to save contains a hole for index 1080, your vocabulary could be corrupted !\n",
      "The OrderedVocab you are attempting to save contains a hole for index 1081, your vocabulary could be corrupted !\n",
      "The OrderedVocab you are attempting to save contains a hole for index 1082, your vocabulary could be corrupted !\n",
      "The OrderedVocab you are attempting to save contains a hole for index 1083, your vocabulary could be corrupted !\n",
      "The OrderedVocab you are attempting to save contains a hole for index 1084, your vocabulary could be corrupted !\n",
      "The OrderedVocab you are attempting to save contains a hole for index 1085, your vocabulary could be corrupted !\n",
      "The OrderedVocab you are attempting to save contains a hole for index 1086, your vocabulary could be corrupted !\n",
      "The OrderedVocab you are attempting to save contains a hole for index 1087, your vocabulary could be corrupted !\n",
      "The OrderedVocab you are attempting to save contains a hole for index 1088, your vocabulary could be corrupted !\n",
      "The OrderedVocab you are attempting to save contains a hole for index 1089, your vocabulary could be corrupted !\n",
      "The OrderedVocab you are attempting to save contains a hole for index 1090, your vocabulary could be corrupted !\n",
      "The OrderedVocab you are attempting to save contains a hole for index 1091, your vocabulary could be corrupted !\n",
      "The OrderedVocab you are attempting to save contains a hole for index 1092, your vocabulary could be corrupted !\n",
      "The OrderedVocab you are attempting to save contains a hole for index 1093, your vocabulary could be corrupted !\n",
      "The OrderedVocab you are attempting to save contains a hole for index 1094, your vocabulary could be corrupted !\n",
      "The OrderedVocab you are attempting to save contains a hole for index 1095, your vocabulary could be corrupted !\n",
      "The OrderedVocab you are attempting to save contains a hole for index 1099, your vocabulary could be corrupted !\n",
      "The OrderedVocab you are attempting to save contains a hole for index 1101, your vocabulary could be corrupted !\n",
      "The OrderedVocab you are attempting to save contains a hole for index 1112, your vocabulary could be corrupted !\n",
      "The OrderedVocab you are attempting to save contains a hole for index 1113, your vocabulary could be corrupted !\n",
      "The OrderedVocab you are attempting to save contains a hole for index 1556, your vocabulary could be corrupted !\n",
      "The OrderedVocab you are attempting to save contains a hole for index 1557, your vocabulary could be corrupted !\n",
      "The OrderedVocab you are attempting to save contains a hole for index 1568, your vocabulary could be corrupted !\n"
     ]
    },
    {
     "name": "stderr",
     "output_type": "stream",
     "text": [
      "[INFO|trainer.py:2932] 2023-09-03 08:56:29,003 >> Deleting older checkpoint [output/checkpoint-7500] due to args.save_total_limit\n",
      "[INFO|trainer.py:750] 2023-09-03 08:57:37,211 >> The following columns in the evaluation set don't have a corresponding argument in `BertForSequenceClassification.forward` and have been ignored: text, id. If text, id are not expected by `BertForSequenceClassification.forward`,  you can safely ignore this message.\n",
      "[INFO|trainer.py:3119] 2023-09-03 08:57:37,214 >> ***** Running Evaluation *****\n",
      "[INFO|trainer.py:3121] 2023-09-03 08:57:37,215 >>   Num examples = 3934\n",
      "[INFO|trainer.py:3124] 2023-09-03 08:57:37,217 >>   Batch size = 8\n",
      "[INFO|trainer.py:2845] 2023-09-03 08:57:55,369 >> Saving model checkpoint to ./output/checkpoint-9500\n",
      "[INFO|configuration_utils.py:460] 2023-09-03 08:57:55,372 >> Configuration saved in ./output/checkpoint-9500/config.json\n",
      "[INFO|modeling_utils.py:1953] 2023-09-03 08:57:56,532 >> Model weights saved in ./output/checkpoint-9500/pytorch_model.bin\n",
      "[INFO|tokenization_utils_base.py:2235] 2023-09-03 08:57:56,534 >> tokenizer config file saved in ./output/checkpoint-9500/tokenizer_config.json\n",
      "[INFO|tokenization_utils_base.py:2242] 2023-09-03 08:57:56,536 >> Special tokens file saved in ./output/checkpoint-9500/special_tokens_map.json\n"
     ]
    },
    {
     "name": "stdout",
     "output_type": "stream",
     "text": [
      "The OrderedVocab you are attempting to save contains a hole for index 1015, your vocabulary could be corrupted !\n",
      "The OrderedVocab you are attempting to save contains a hole for index 1016, your vocabulary could be corrupted !\n",
      "The OrderedVocab you are attempting to save contains a hole for index 1017, your vocabulary could be corrupted !\n",
      "The OrderedVocab you are attempting to save contains a hole for index 1018, your vocabulary could be corrupted !\n",
      "The OrderedVocab you are attempting to save contains a hole for index 1053, your vocabulary could be corrupted !\n",
      "The OrderedVocab you are attempting to save contains a hole for index 1054, your vocabulary could be corrupted !\n",
      "The OrderedVocab you are attempting to save contains a hole for index 1055, your vocabulary could be corrupted !\n",
      "The OrderedVocab you are attempting to save contains a hole for index 1056, your vocabulary could be corrupted !\n",
      "The OrderedVocab you are attempting to save contains a hole for index 1057, your vocabulary could be corrupted !\n",
      "The OrderedVocab you are attempting to save contains a hole for index 1060, your vocabulary could be corrupted !\n",
      "The OrderedVocab you are attempting to save contains a hole for index 1061, your vocabulary could be corrupted !\n",
      "The OrderedVocab you are attempting to save contains a hole for index 1062, your vocabulary could be corrupted !\n",
      "The OrderedVocab you are attempting to save contains a hole for index 1064, your vocabulary could be corrupted !\n",
      "The OrderedVocab you are attempting to save contains a hole for index 1065, your vocabulary could be corrupted !\n",
      "The OrderedVocab you are attempting to save contains a hole for index 1066, your vocabulary could be corrupted !\n",
      "The OrderedVocab you are attempting to save contains a hole for index 1067, your vocabulary could be corrupted !\n",
      "The OrderedVocab you are attempting to save contains a hole for index 1068, your vocabulary could be corrupted !\n",
      "The OrderedVocab you are attempting to save contains a hole for index 1069, your vocabulary could be corrupted !\n",
      "The OrderedVocab you are attempting to save contains a hole for index 1070, your vocabulary could be corrupted !\n",
      "The OrderedVocab you are attempting to save contains a hole for index 1071, your vocabulary could be corrupted !\n",
      "The OrderedVocab you are attempting to save contains a hole for index 1072, your vocabulary could be corrupted !\n",
      "The OrderedVocab you are attempting to save contains a hole for index 1073, your vocabulary could be corrupted !\n",
      "The OrderedVocab you are attempting to save contains a hole for index 1074, your vocabulary could be corrupted !\n",
      "The OrderedVocab you are attempting to save contains a hole for index 1075, your vocabulary could be corrupted !\n",
      "The OrderedVocab you are attempting to save contains a hole for index 1076, your vocabulary could be corrupted !\n",
      "The OrderedVocab you are attempting to save contains a hole for index 1077, your vocabulary could be corrupted !\n",
      "The OrderedVocab you are attempting to save contains a hole for index 1079, your vocabulary could be corrupted !\n",
      "The OrderedVocab you are attempting to save contains a hole for index 1080, your vocabulary could be corrupted !\n",
      "The OrderedVocab you are attempting to save contains a hole for index 1081, your vocabulary could be corrupted !\n",
      "The OrderedVocab you are attempting to save contains a hole for index 1082, your vocabulary could be corrupted !\n",
      "The OrderedVocab you are attempting to save contains a hole for index 1083, your vocabulary could be corrupted !\n",
      "The OrderedVocab you are attempting to save contains a hole for index 1084, your vocabulary could be corrupted !\n",
      "The OrderedVocab you are attempting to save contains a hole for index 1085, your vocabulary could be corrupted !\n",
      "The OrderedVocab you are attempting to save contains a hole for index 1086, your vocabulary could be corrupted !\n",
      "The OrderedVocab you are attempting to save contains a hole for index 1087, your vocabulary could be corrupted !\n",
      "The OrderedVocab you are attempting to save contains a hole for index 1088, your vocabulary could be corrupted !\n",
      "The OrderedVocab you are attempting to save contains a hole for index 1089, your vocabulary could be corrupted !\n",
      "The OrderedVocab you are attempting to save contains a hole for index 1090, your vocabulary could be corrupted !\n",
      "The OrderedVocab you are attempting to save contains a hole for index 1091, your vocabulary could be corrupted !\n",
      "The OrderedVocab you are attempting to save contains a hole for index 1092, your vocabulary could be corrupted !\n",
      "The OrderedVocab you are attempting to save contains a hole for index 1093, your vocabulary could be corrupted !\n",
      "The OrderedVocab you are attempting to save contains a hole for index 1094, your vocabulary could be corrupted !\n",
      "The OrderedVocab you are attempting to save contains a hole for index 1095, your vocabulary could be corrupted !\n",
      "The OrderedVocab you are attempting to save contains a hole for index 1099, your vocabulary could be corrupted !\n",
      "The OrderedVocab you are attempting to save contains a hole for index 1101, your vocabulary could be corrupted !\n",
      "The OrderedVocab you are attempting to save contains a hole for index 1112, your vocabulary could be corrupted !\n",
      "The OrderedVocab you are attempting to save contains a hole for index 1113, your vocabulary could be corrupted !\n",
      "The OrderedVocab you are attempting to save contains a hole for index 1556, your vocabulary could be corrupted !\n",
      "The OrderedVocab you are attempting to save contains a hole for index 1557, your vocabulary could be corrupted !\n",
      "The OrderedVocab you are attempting to save contains a hole for index 1568, your vocabulary could be corrupted !\n"
     ]
    },
    {
     "name": "stderr",
     "output_type": "stream",
     "text": [
      "[INFO|trainer.py:2932] 2023-09-03 08:57:59,999 >> Deleting older checkpoint [output/checkpoint-8000] due to args.save_total_limit\n",
      "[INFO|trainer.py:750] 2023-09-03 08:59:08,461 >> The following columns in the evaluation set don't have a corresponding argument in `BertForSequenceClassification.forward` and have been ignored: text, id. If text, id are not expected by `BertForSequenceClassification.forward`,  you can safely ignore this message.\n",
      "[INFO|trainer.py:3119] 2023-09-03 08:59:08,465 >> ***** Running Evaluation *****\n",
      "[INFO|trainer.py:3121] 2023-09-03 08:59:08,466 >>   Num examples = 3934\n",
      "[INFO|trainer.py:3124] 2023-09-03 08:59:08,467 >>   Batch size = 8\n",
      "[INFO|trainer.py:2845] 2023-09-03 08:59:26,828 >> Saving model checkpoint to ./output/checkpoint-10000\n",
      "[INFO|configuration_utils.py:460] 2023-09-03 08:59:26,831 >> Configuration saved in ./output/checkpoint-10000/config.json\n",
      "[INFO|modeling_utils.py:1953] 2023-09-03 08:59:28,040 >> Model weights saved in ./output/checkpoint-10000/pytorch_model.bin\n",
      "[INFO|tokenization_utils_base.py:2235] 2023-09-03 08:59:28,041 >> tokenizer config file saved in ./output/checkpoint-10000/tokenizer_config.json\n",
      "[INFO|tokenization_utils_base.py:2242] 2023-09-03 08:59:28,043 >> Special tokens file saved in ./output/checkpoint-10000/special_tokens_map.json\n"
     ]
    },
    {
     "name": "stdout",
     "output_type": "stream",
     "text": [
      "The OrderedVocab you are attempting to save contains a hole for index 1015, your vocabulary could be corrupted !\n",
      "The OrderedVocab you are attempting to save contains a hole for index 1016, your vocabulary could be corrupted !\n",
      "The OrderedVocab you are attempting to save contains a hole for index 1017, your vocabulary could be corrupted !\n",
      "The OrderedVocab you are attempting to save contains a hole for index 1018, your vocabulary could be corrupted !\n",
      "The OrderedVocab you are attempting to save contains a hole for index 1053, your vocabulary could be corrupted !\n",
      "The OrderedVocab you are attempting to save contains a hole for index 1054, your vocabulary could be corrupted !\n",
      "The OrderedVocab you are attempting to save contains a hole for index 1055, your vocabulary could be corrupted !\n",
      "The OrderedVocab you are attempting to save contains a hole for index 1056, your vocabulary could be corrupted !\n",
      "The OrderedVocab you are attempting to save contains a hole for index 1057, your vocabulary could be corrupted !\n",
      "The OrderedVocab you are attempting to save contains a hole for index 1060, your vocabulary could be corrupted !\n",
      "The OrderedVocab you are attempting to save contains a hole for index 1061, your vocabulary could be corrupted !\n",
      "The OrderedVocab you are attempting to save contains a hole for index 1062, your vocabulary could be corrupted !\n",
      "The OrderedVocab you are attempting to save contains a hole for index 1064, your vocabulary could be corrupted !\n",
      "The OrderedVocab you are attempting to save contains a hole for index 1065, your vocabulary could be corrupted !\n",
      "The OrderedVocab you are attempting to save contains a hole for index 1066, your vocabulary could be corrupted !\n",
      "The OrderedVocab you are attempting to save contains a hole for index 1067, your vocabulary could be corrupted !\n",
      "The OrderedVocab you are attempting to save contains a hole for index 1068, your vocabulary could be corrupted !\n",
      "The OrderedVocab you are attempting to save contains a hole for index 1069, your vocabulary could be corrupted !\n",
      "The OrderedVocab you are attempting to save contains a hole for index 1070, your vocabulary could be corrupted !\n",
      "The OrderedVocab you are attempting to save contains a hole for index 1071, your vocabulary could be corrupted !\n",
      "The OrderedVocab you are attempting to save contains a hole for index 1072, your vocabulary could be corrupted !\n",
      "The OrderedVocab you are attempting to save contains a hole for index 1073, your vocabulary could be corrupted !\n",
      "The OrderedVocab you are attempting to save contains a hole for index 1074, your vocabulary could be corrupted !\n",
      "The OrderedVocab you are attempting to save contains a hole for index 1075, your vocabulary could be corrupted !\n",
      "The OrderedVocab you are attempting to save contains a hole for index 1076, your vocabulary could be corrupted !\n",
      "The OrderedVocab you are attempting to save contains a hole for index 1077, your vocabulary could be corrupted !\n",
      "The OrderedVocab you are attempting to save contains a hole for index 1079, your vocabulary could be corrupted !\n",
      "The OrderedVocab you are attempting to save contains a hole for index 1080, your vocabulary could be corrupted !\n",
      "The OrderedVocab you are attempting to save contains a hole for index 1081, your vocabulary could be corrupted !\n",
      "The OrderedVocab you are attempting to save contains a hole for index 1082, your vocabulary could be corrupted !\n",
      "The OrderedVocab you are attempting to save contains a hole for index 1083, your vocabulary could be corrupted !\n",
      "The OrderedVocab you are attempting to save contains a hole for index 1084, your vocabulary could be corrupted !\n",
      "The OrderedVocab you are attempting to save contains a hole for index 1085, your vocabulary could be corrupted !\n",
      "The OrderedVocab you are attempting to save contains a hole for index 1086, your vocabulary could be corrupted !\n",
      "The OrderedVocab you are attempting to save contains a hole for index 1087, your vocabulary could be corrupted !\n",
      "The OrderedVocab you are attempting to save contains a hole for index 1088, your vocabulary could be corrupted !\n",
      "The OrderedVocab you are attempting to save contains a hole for index 1089, your vocabulary could be corrupted !\n",
      "The OrderedVocab you are attempting to save contains a hole for index 1090, your vocabulary could be corrupted !\n",
      "The OrderedVocab you are attempting to save contains a hole for index 1091, your vocabulary could be corrupted !\n",
      "The OrderedVocab you are attempting to save contains a hole for index 1092, your vocabulary could be corrupted !\n",
      "The OrderedVocab you are attempting to save contains a hole for index 1093, your vocabulary could be corrupted !\n",
      "The OrderedVocab you are attempting to save contains a hole for index 1094, your vocabulary could be corrupted !\n",
      "The OrderedVocab you are attempting to save contains a hole for index 1095, your vocabulary could be corrupted !\n",
      "The OrderedVocab you are attempting to save contains a hole for index 1099, your vocabulary could be corrupted !\n",
      "The OrderedVocab you are attempting to save contains a hole for index 1101, your vocabulary could be corrupted !\n",
      "The OrderedVocab you are attempting to save contains a hole for index 1112, your vocabulary could be corrupted !\n",
      "The OrderedVocab you are attempting to save contains a hole for index 1113, your vocabulary could be corrupted !\n",
      "The OrderedVocab you are attempting to save contains a hole for index 1556, your vocabulary could be corrupted !\n",
      "The OrderedVocab you are attempting to save contains a hole for index 1557, your vocabulary could be corrupted !\n",
      "The OrderedVocab you are attempting to save contains a hole for index 1568, your vocabulary could be corrupted !\n"
     ]
    },
    {
     "name": "stderr",
     "output_type": "stream",
     "text": [
      "[INFO|trainer.py:2932] 2023-09-03 08:59:31,474 >> Deleting older checkpoint [output/checkpoint-9000] due to args.save_total_limit\n",
      "[INFO|trainer.py:750] 2023-09-03 09:00:40,356 >> The following columns in the evaluation set don't have a corresponding argument in `BertForSequenceClassification.forward` and have been ignored: text, id. If text, id are not expected by `BertForSequenceClassification.forward`,  you can safely ignore this message.\n",
      "[INFO|trainer.py:3119] 2023-09-03 09:00:40,362 >> ***** Running Evaluation *****\n",
      "[INFO|trainer.py:3121] 2023-09-03 09:00:40,362 >>   Num examples = 3934\n",
      "[INFO|trainer.py:3124] 2023-09-03 09:00:40,365 >>   Batch size = 8\n",
      "[INFO|trainer.py:2845] 2023-09-03 09:00:58,644 >> Saving model checkpoint to ./output/checkpoint-10500\n",
      "[INFO|configuration_utils.py:460] 2023-09-03 09:00:58,647 >> Configuration saved in ./output/checkpoint-10500/config.json\n",
      "[INFO|modeling_utils.py:1953] 2023-09-03 09:00:59,745 >> Model weights saved in ./output/checkpoint-10500/pytorch_model.bin\n",
      "[INFO|tokenization_utils_base.py:2235] 2023-09-03 09:00:59,747 >> tokenizer config file saved in ./output/checkpoint-10500/tokenizer_config.json\n",
      "[INFO|tokenization_utils_base.py:2242] 2023-09-03 09:00:59,748 >> Special tokens file saved in ./output/checkpoint-10500/special_tokens_map.json\n"
     ]
    },
    {
     "name": "stdout",
     "output_type": "stream",
     "text": [
      "The OrderedVocab you are attempting to save contains a hole for index 1015, your vocabulary could be corrupted !\n",
      "The OrderedVocab you are attempting to save contains a hole for index 1016, your vocabulary could be corrupted !\n",
      "The OrderedVocab you are attempting to save contains a hole for index 1017, your vocabulary could be corrupted !\n",
      "The OrderedVocab you are attempting to save contains a hole for index 1018, your vocabulary could be corrupted !\n",
      "The OrderedVocab you are attempting to save contains a hole for index 1053, your vocabulary could be corrupted !\n",
      "The OrderedVocab you are attempting to save contains a hole for index 1054, your vocabulary could be corrupted !\n",
      "The OrderedVocab you are attempting to save contains a hole for index 1055, your vocabulary could be corrupted !\n",
      "The OrderedVocab you are attempting to save contains a hole for index 1056, your vocabulary could be corrupted !\n",
      "The OrderedVocab you are attempting to save contains a hole for index 1057, your vocabulary could be corrupted !\n",
      "The OrderedVocab you are attempting to save contains a hole for index 1060, your vocabulary could be corrupted !\n",
      "The OrderedVocab you are attempting to save contains a hole for index 1061, your vocabulary could be corrupted !\n",
      "The OrderedVocab you are attempting to save contains a hole for index 1062, your vocabulary could be corrupted !\n",
      "The OrderedVocab you are attempting to save contains a hole for index 1064, your vocabulary could be corrupted !\n",
      "The OrderedVocab you are attempting to save contains a hole for index 1065, your vocabulary could be corrupted !\n",
      "The OrderedVocab you are attempting to save contains a hole for index 1066, your vocabulary could be corrupted !\n",
      "The OrderedVocab you are attempting to save contains a hole for index 1067, your vocabulary could be corrupted !\n",
      "The OrderedVocab you are attempting to save contains a hole for index 1068, your vocabulary could be corrupted !\n",
      "The OrderedVocab you are attempting to save contains a hole for index 1069, your vocabulary could be corrupted !\n",
      "The OrderedVocab you are attempting to save contains a hole for index 1070, your vocabulary could be corrupted !\n",
      "The OrderedVocab you are attempting to save contains a hole for index 1071, your vocabulary could be corrupted !\n",
      "The OrderedVocab you are attempting to save contains a hole for index 1072, your vocabulary could be corrupted !\n",
      "The OrderedVocab you are attempting to save contains a hole for index 1073, your vocabulary could be corrupted !\n",
      "The OrderedVocab you are attempting to save contains a hole for index 1074, your vocabulary could be corrupted !\n",
      "The OrderedVocab you are attempting to save contains a hole for index 1075, your vocabulary could be corrupted !\n",
      "The OrderedVocab you are attempting to save contains a hole for index 1076, your vocabulary could be corrupted !\n",
      "The OrderedVocab you are attempting to save contains a hole for index 1077, your vocabulary could be corrupted !\n",
      "The OrderedVocab you are attempting to save contains a hole for index 1079, your vocabulary could be corrupted !\n",
      "The OrderedVocab you are attempting to save contains a hole for index 1080, your vocabulary could be corrupted !\n",
      "The OrderedVocab you are attempting to save contains a hole for index 1081, your vocabulary could be corrupted !\n",
      "The OrderedVocab you are attempting to save contains a hole for index 1082, your vocabulary could be corrupted !\n",
      "The OrderedVocab you are attempting to save contains a hole for index 1083, your vocabulary could be corrupted !\n",
      "The OrderedVocab you are attempting to save contains a hole for index 1084, your vocabulary could be corrupted !\n",
      "The OrderedVocab you are attempting to save contains a hole for index 1085, your vocabulary could be corrupted !\n",
      "The OrderedVocab you are attempting to save contains a hole for index 1086, your vocabulary could be corrupted !\n",
      "The OrderedVocab you are attempting to save contains a hole for index 1087, your vocabulary could be corrupted !\n",
      "The OrderedVocab you are attempting to save contains a hole for index 1088, your vocabulary could be corrupted !\n",
      "The OrderedVocab you are attempting to save contains a hole for index 1089, your vocabulary could be corrupted !\n",
      "The OrderedVocab you are attempting to save contains a hole for index 1090, your vocabulary could be corrupted !\n",
      "The OrderedVocab you are attempting to save contains a hole for index 1091, your vocabulary could be corrupted !\n",
      "The OrderedVocab you are attempting to save contains a hole for index 1092, your vocabulary could be corrupted !\n",
      "The OrderedVocab you are attempting to save contains a hole for index 1093, your vocabulary could be corrupted !\n",
      "The OrderedVocab you are attempting to save contains a hole for index 1094, your vocabulary could be corrupted !\n",
      "The OrderedVocab you are attempting to save contains a hole for index 1095, your vocabulary could be corrupted !\n",
      "The OrderedVocab you are attempting to save contains a hole for index 1099, your vocabulary could be corrupted !\n",
      "The OrderedVocab you are attempting to save contains a hole for index 1101, your vocabulary could be corrupted !\n",
      "The OrderedVocab you are attempting to save contains a hole for index 1112, your vocabulary could be corrupted !\n",
      "The OrderedVocab you are attempting to save contains a hole for index 1113, your vocabulary could be corrupted !\n",
      "The OrderedVocab you are attempting to save contains a hole for index 1556, your vocabulary could be corrupted !\n",
      "The OrderedVocab you are attempting to save contains a hole for index 1557, your vocabulary could be corrupted !\n",
      "The OrderedVocab you are attempting to save contains a hole for index 1568, your vocabulary could be corrupted !\n"
     ]
    },
    {
     "name": "stderr",
     "output_type": "stream",
     "text": [
      "[INFO|trainer.py:2932] 2023-09-03 09:01:03,269 >> Deleting older checkpoint [output/checkpoint-9500] due to args.save_total_limit\n",
      "[INFO|trainer.py:750] 2023-09-03 09:02:11,715 >> The following columns in the evaluation set don't have a corresponding argument in `BertForSequenceClassification.forward` and have been ignored: text, id. If text, id are not expected by `BertForSequenceClassification.forward`,  you can safely ignore this message.\n",
      "[INFO|trainer.py:3119] 2023-09-03 09:02:11,719 >> ***** Running Evaluation *****\n",
      "[INFO|trainer.py:3121] 2023-09-03 09:02:11,720 >>   Num examples = 3934\n",
      "[INFO|trainer.py:3124] 2023-09-03 09:02:11,721 >>   Batch size = 8\n",
      "[INFO|trainer.py:2845] 2023-09-03 09:02:30,028 >> Saving model checkpoint to ./output/checkpoint-11000\n",
      "[INFO|configuration_utils.py:460] 2023-09-03 09:02:30,031 >> Configuration saved in ./output/checkpoint-11000/config.json\n",
      "[INFO|modeling_utils.py:1953] 2023-09-03 09:02:31,125 >> Model weights saved in ./output/checkpoint-11000/pytorch_model.bin\n",
      "[INFO|tokenization_utils_base.py:2235] 2023-09-03 09:02:31,127 >> tokenizer config file saved in ./output/checkpoint-11000/tokenizer_config.json\n",
      "[INFO|tokenization_utils_base.py:2242] 2023-09-03 09:02:31,129 >> Special tokens file saved in ./output/checkpoint-11000/special_tokens_map.json\n"
     ]
    },
    {
     "name": "stdout",
     "output_type": "stream",
     "text": [
      "The OrderedVocab you are attempting to save contains a hole for index 1015, your vocabulary could be corrupted !\n",
      "The OrderedVocab you are attempting to save contains a hole for index 1016, your vocabulary could be corrupted !\n",
      "The OrderedVocab you are attempting to save contains a hole for index 1017, your vocabulary could be corrupted !\n",
      "The OrderedVocab you are attempting to save contains a hole for index 1018, your vocabulary could be corrupted !\n",
      "The OrderedVocab you are attempting to save contains a hole for index 1053, your vocabulary could be corrupted !\n",
      "The OrderedVocab you are attempting to save contains a hole for index 1054, your vocabulary could be corrupted !\n",
      "The OrderedVocab you are attempting to save contains a hole for index 1055, your vocabulary could be corrupted !\n",
      "The OrderedVocab you are attempting to save contains a hole for index 1056, your vocabulary could be corrupted !\n",
      "The OrderedVocab you are attempting to save contains a hole for index 1057, your vocabulary could be corrupted !\n",
      "The OrderedVocab you are attempting to save contains a hole for index 1060, your vocabulary could be corrupted !\n",
      "The OrderedVocab you are attempting to save contains a hole for index 1061, your vocabulary could be corrupted !\n",
      "The OrderedVocab you are attempting to save contains a hole for index 1062, your vocabulary could be corrupted !\n",
      "The OrderedVocab you are attempting to save contains a hole for index 1064, your vocabulary could be corrupted !\n",
      "The OrderedVocab you are attempting to save contains a hole for index 1065, your vocabulary could be corrupted !\n",
      "The OrderedVocab you are attempting to save contains a hole for index 1066, your vocabulary could be corrupted !\n",
      "The OrderedVocab you are attempting to save contains a hole for index 1067, your vocabulary could be corrupted !\n",
      "The OrderedVocab you are attempting to save contains a hole for index 1068, your vocabulary could be corrupted !\n",
      "The OrderedVocab you are attempting to save contains a hole for index 1069, your vocabulary could be corrupted !\n",
      "The OrderedVocab you are attempting to save contains a hole for index 1070, your vocabulary could be corrupted !\n",
      "The OrderedVocab you are attempting to save contains a hole for index 1071, your vocabulary could be corrupted !\n",
      "The OrderedVocab you are attempting to save contains a hole for index 1072, your vocabulary could be corrupted !\n",
      "The OrderedVocab you are attempting to save contains a hole for index 1073, your vocabulary could be corrupted !\n",
      "The OrderedVocab you are attempting to save contains a hole for index 1074, your vocabulary could be corrupted !\n",
      "The OrderedVocab you are attempting to save contains a hole for index 1075, your vocabulary could be corrupted !\n",
      "The OrderedVocab you are attempting to save contains a hole for index 1076, your vocabulary could be corrupted !\n",
      "The OrderedVocab you are attempting to save contains a hole for index 1077, your vocabulary could be corrupted !\n",
      "The OrderedVocab you are attempting to save contains a hole for index 1079, your vocabulary could be corrupted !\n",
      "The OrderedVocab you are attempting to save contains a hole for index 1080, your vocabulary could be corrupted !\n",
      "The OrderedVocab you are attempting to save contains a hole for index 1081, your vocabulary could be corrupted !\n",
      "The OrderedVocab you are attempting to save contains a hole for index 1082, your vocabulary could be corrupted !\n",
      "The OrderedVocab you are attempting to save contains a hole for index 1083, your vocabulary could be corrupted !\n",
      "The OrderedVocab you are attempting to save contains a hole for index 1084, your vocabulary could be corrupted !\n",
      "The OrderedVocab you are attempting to save contains a hole for index 1085, your vocabulary could be corrupted !\n",
      "The OrderedVocab you are attempting to save contains a hole for index 1086, your vocabulary could be corrupted !\n",
      "The OrderedVocab you are attempting to save contains a hole for index 1087, your vocabulary could be corrupted !\n",
      "The OrderedVocab you are attempting to save contains a hole for index 1088, your vocabulary could be corrupted !\n",
      "The OrderedVocab you are attempting to save contains a hole for index 1089, your vocabulary could be corrupted !\n",
      "The OrderedVocab you are attempting to save contains a hole for index 1090, your vocabulary could be corrupted !\n",
      "The OrderedVocab you are attempting to save contains a hole for index 1091, your vocabulary could be corrupted !\n",
      "The OrderedVocab you are attempting to save contains a hole for index 1092, your vocabulary could be corrupted !\n",
      "The OrderedVocab you are attempting to save contains a hole for index 1093, your vocabulary could be corrupted !\n",
      "The OrderedVocab you are attempting to save contains a hole for index 1094, your vocabulary could be corrupted !\n",
      "The OrderedVocab you are attempting to save contains a hole for index 1095, your vocabulary could be corrupted !\n",
      "The OrderedVocab you are attempting to save contains a hole for index 1099, your vocabulary could be corrupted !\n",
      "The OrderedVocab you are attempting to save contains a hole for index 1101, your vocabulary could be corrupted !\n",
      "The OrderedVocab you are attempting to save contains a hole for index 1112, your vocabulary could be corrupted !\n",
      "The OrderedVocab you are attempting to save contains a hole for index 1113, your vocabulary could be corrupted !\n",
      "The OrderedVocab you are attempting to save contains a hole for index 1556, your vocabulary could be corrupted !\n",
      "The OrderedVocab you are attempting to save contains a hole for index 1557, your vocabulary could be corrupted !\n",
      "The OrderedVocab you are attempting to save contains a hole for index 1568, your vocabulary could be corrupted !\n"
     ]
    },
    {
     "name": "stderr",
     "output_type": "stream",
     "text": [
      "[INFO|trainer.py:2932] 2023-09-03 09:02:34,612 >> Deleting older checkpoint [output/checkpoint-10000] due to args.save_total_limit\n",
      "[INFO|trainer.py:750] 2023-09-03 09:03:43,188 >> The following columns in the evaluation set don't have a corresponding argument in `BertForSequenceClassification.forward` and have been ignored: text, id. If text, id are not expected by `BertForSequenceClassification.forward`,  you can safely ignore this message.\n",
      "[INFO|trainer.py:3119] 2023-09-03 09:03:43,194 >> ***** Running Evaluation *****\n",
      "[INFO|trainer.py:3121] 2023-09-03 09:03:43,196 >>   Num examples = 3934\n",
      "[INFO|trainer.py:3124] 2023-09-03 09:03:43,197 >>   Batch size = 8\n",
      "[INFO|trainer.py:2845] 2023-09-03 09:04:01,508 >> Saving model checkpoint to ./output/checkpoint-11500\n",
      "[INFO|configuration_utils.py:460] 2023-09-03 09:04:01,511 >> Configuration saved in ./output/checkpoint-11500/config.json\n",
      "[INFO|modeling_utils.py:1953] 2023-09-03 09:04:02,606 >> Model weights saved in ./output/checkpoint-11500/pytorch_model.bin\n",
      "[INFO|tokenization_utils_base.py:2235] 2023-09-03 09:04:02,608 >> tokenizer config file saved in ./output/checkpoint-11500/tokenizer_config.json\n",
      "[INFO|tokenization_utils_base.py:2242] 2023-09-03 09:04:02,611 >> Special tokens file saved in ./output/checkpoint-11500/special_tokens_map.json\n"
     ]
    },
    {
     "name": "stdout",
     "output_type": "stream",
     "text": [
      "The OrderedVocab you are attempting to save contains a hole for index 1015, your vocabulary could be corrupted !\n",
      "The OrderedVocab you are attempting to save contains a hole for index 1016, your vocabulary could be corrupted !\n",
      "The OrderedVocab you are attempting to save contains a hole for index 1017, your vocabulary could be corrupted !\n",
      "The OrderedVocab you are attempting to save contains a hole for index 1018, your vocabulary could be corrupted !\n",
      "The OrderedVocab you are attempting to save contains a hole for index 1053, your vocabulary could be corrupted !\n",
      "The OrderedVocab you are attempting to save contains a hole for index 1054, your vocabulary could be corrupted !\n",
      "The OrderedVocab you are attempting to save contains a hole for index 1055, your vocabulary could be corrupted !\n",
      "The OrderedVocab you are attempting to save contains a hole for index 1056, your vocabulary could be corrupted !\n",
      "The OrderedVocab you are attempting to save contains a hole for index 1057, your vocabulary could be corrupted !\n",
      "The OrderedVocab you are attempting to save contains a hole for index 1060, your vocabulary could be corrupted !\n",
      "The OrderedVocab you are attempting to save contains a hole for index 1061, your vocabulary could be corrupted !\n",
      "The OrderedVocab you are attempting to save contains a hole for index 1062, your vocabulary could be corrupted !\n",
      "The OrderedVocab you are attempting to save contains a hole for index 1064, your vocabulary could be corrupted !\n",
      "The OrderedVocab you are attempting to save contains a hole for index 1065, your vocabulary could be corrupted !\n",
      "The OrderedVocab you are attempting to save contains a hole for index 1066, your vocabulary could be corrupted !\n",
      "The OrderedVocab you are attempting to save contains a hole for index 1067, your vocabulary could be corrupted !\n",
      "The OrderedVocab you are attempting to save contains a hole for index 1068, your vocabulary could be corrupted !\n",
      "The OrderedVocab you are attempting to save contains a hole for index 1069, your vocabulary could be corrupted !\n",
      "The OrderedVocab you are attempting to save contains a hole for index 1070, your vocabulary could be corrupted !\n",
      "The OrderedVocab you are attempting to save contains a hole for index 1071, your vocabulary could be corrupted !\n",
      "The OrderedVocab you are attempting to save contains a hole for index 1072, your vocabulary could be corrupted !\n",
      "The OrderedVocab you are attempting to save contains a hole for index 1073, your vocabulary could be corrupted !\n",
      "The OrderedVocab you are attempting to save contains a hole for index 1074, your vocabulary could be corrupted !\n",
      "The OrderedVocab you are attempting to save contains a hole for index 1075, your vocabulary could be corrupted !\n",
      "The OrderedVocab you are attempting to save contains a hole for index 1076, your vocabulary could be corrupted !\n",
      "The OrderedVocab you are attempting to save contains a hole for index 1077, your vocabulary could be corrupted !\n",
      "The OrderedVocab you are attempting to save contains a hole for index 1079, your vocabulary could be corrupted !\n",
      "The OrderedVocab you are attempting to save contains a hole for index 1080, your vocabulary could be corrupted !\n",
      "The OrderedVocab you are attempting to save contains a hole for index 1081, your vocabulary could be corrupted !\n",
      "The OrderedVocab you are attempting to save contains a hole for index 1082, your vocabulary could be corrupted !\n",
      "The OrderedVocab you are attempting to save contains a hole for index 1083, your vocabulary could be corrupted !\n",
      "The OrderedVocab you are attempting to save contains a hole for index 1084, your vocabulary could be corrupted !\n",
      "The OrderedVocab you are attempting to save contains a hole for index 1085, your vocabulary could be corrupted !\n",
      "The OrderedVocab you are attempting to save contains a hole for index 1086, your vocabulary could be corrupted !\n",
      "The OrderedVocab you are attempting to save contains a hole for index 1087, your vocabulary could be corrupted !\n",
      "The OrderedVocab you are attempting to save contains a hole for index 1088, your vocabulary could be corrupted !\n",
      "The OrderedVocab you are attempting to save contains a hole for index 1089, your vocabulary could be corrupted !\n",
      "The OrderedVocab you are attempting to save contains a hole for index 1090, your vocabulary could be corrupted !\n",
      "The OrderedVocab you are attempting to save contains a hole for index 1091, your vocabulary could be corrupted !\n",
      "The OrderedVocab you are attempting to save contains a hole for index 1092, your vocabulary could be corrupted !\n",
      "The OrderedVocab you are attempting to save contains a hole for index 1093, your vocabulary could be corrupted !\n",
      "The OrderedVocab you are attempting to save contains a hole for index 1094, your vocabulary could be corrupted !\n",
      "The OrderedVocab you are attempting to save contains a hole for index 1095, your vocabulary could be corrupted !\n",
      "The OrderedVocab you are attempting to save contains a hole for index 1099, your vocabulary could be corrupted !\n",
      "The OrderedVocab you are attempting to save contains a hole for index 1101, your vocabulary could be corrupted !\n",
      "The OrderedVocab you are attempting to save contains a hole for index 1112, your vocabulary could be corrupted !\n",
      "The OrderedVocab you are attempting to save contains a hole for index 1113, your vocabulary could be corrupted !\n",
      "The OrderedVocab you are attempting to save contains a hole for index 1556, your vocabulary could be corrupted !\n",
      "The OrderedVocab you are attempting to save contains a hole for index 1557, your vocabulary could be corrupted !\n",
      "The OrderedVocab you are attempting to save contains a hole for index 1568, your vocabulary could be corrupted !\n"
     ]
    },
    {
     "name": "stderr",
     "output_type": "stream",
     "text": [
      "[INFO|trainer.py:2932] 2023-09-03 09:04:06,074 >> Deleting older checkpoint [output/checkpoint-10500] due to args.save_total_limit\n",
      "[INFO|trainer.py:750] 2023-09-03 09:05:14,618 >> The following columns in the evaluation set don't have a corresponding argument in `BertForSequenceClassification.forward` and have been ignored: text, id. If text, id are not expected by `BertForSequenceClassification.forward`,  you can safely ignore this message.\n",
      "[INFO|trainer.py:3119] 2023-09-03 09:05:14,621 >> ***** Running Evaluation *****\n",
      "[INFO|trainer.py:3121] 2023-09-03 09:05:14,622 >>   Num examples = 3934\n",
      "[INFO|trainer.py:3124] 2023-09-03 09:05:14,623 >>   Batch size = 8\n",
      "[INFO|trainer.py:2845] 2023-09-03 09:05:32,902 >> Saving model checkpoint to ./output/checkpoint-12000\n",
      "[INFO|configuration_utils.py:460] 2023-09-03 09:05:32,906 >> Configuration saved in ./output/checkpoint-12000/config.json\n",
      "[INFO|modeling_utils.py:1953] 2023-09-03 09:05:34,235 >> Model weights saved in ./output/checkpoint-12000/pytorch_model.bin\n",
      "[INFO|tokenization_utils_base.py:2235] 2023-09-03 09:05:34,237 >> tokenizer config file saved in ./output/checkpoint-12000/tokenizer_config.json\n",
      "[INFO|tokenization_utils_base.py:2242] 2023-09-03 09:05:34,240 >> Special tokens file saved in ./output/checkpoint-12000/special_tokens_map.json\n"
     ]
    },
    {
     "name": "stdout",
     "output_type": "stream",
     "text": [
      "The OrderedVocab you are attempting to save contains a hole for index 1015, your vocabulary could be corrupted !\n",
      "The OrderedVocab you are attempting to save contains a hole for index 1016, your vocabulary could be corrupted !\n",
      "The OrderedVocab you are attempting to save contains a hole for index 1017, your vocabulary could be corrupted !\n",
      "The OrderedVocab you are attempting to save contains a hole for index 1018, your vocabulary could be corrupted !\n",
      "The OrderedVocab you are attempting to save contains a hole for index 1053, your vocabulary could be corrupted !\n",
      "The OrderedVocab you are attempting to save contains a hole for index 1054, your vocabulary could be corrupted !\n",
      "The OrderedVocab you are attempting to save contains a hole for index 1055, your vocabulary could be corrupted !\n",
      "The OrderedVocab you are attempting to save contains a hole for index 1056, your vocabulary could be corrupted !\n",
      "The OrderedVocab you are attempting to save contains a hole for index 1057, your vocabulary could be corrupted !\n",
      "The OrderedVocab you are attempting to save contains a hole for index 1060, your vocabulary could be corrupted !\n",
      "The OrderedVocab you are attempting to save contains a hole for index 1061, your vocabulary could be corrupted !\n",
      "The OrderedVocab you are attempting to save contains a hole for index 1062, your vocabulary could be corrupted !\n",
      "The OrderedVocab you are attempting to save contains a hole for index 1064, your vocabulary could be corrupted !\n",
      "The OrderedVocab you are attempting to save contains a hole for index 1065, your vocabulary could be corrupted !\n",
      "The OrderedVocab you are attempting to save contains a hole for index 1066, your vocabulary could be corrupted !\n",
      "The OrderedVocab you are attempting to save contains a hole for index 1067, your vocabulary could be corrupted !\n",
      "The OrderedVocab you are attempting to save contains a hole for index 1068, your vocabulary could be corrupted !\n",
      "The OrderedVocab you are attempting to save contains a hole for index 1069, your vocabulary could be corrupted !\n",
      "The OrderedVocab you are attempting to save contains a hole for index 1070, your vocabulary could be corrupted !\n",
      "The OrderedVocab you are attempting to save contains a hole for index 1071, your vocabulary could be corrupted !\n",
      "The OrderedVocab you are attempting to save contains a hole for index 1072, your vocabulary could be corrupted !\n",
      "The OrderedVocab you are attempting to save contains a hole for index 1073, your vocabulary could be corrupted !\n",
      "The OrderedVocab you are attempting to save contains a hole for index 1074, your vocabulary could be corrupted !\n",
      "The OrderedVocab you are attempting to save contains a hole for index 1075, your vocabulary could be corrupted !\n",
      "The OrderedVocab you are attempting to save contains a hole for index 1076, your vocabulary could be corrupted !\n",
      "The OrderedVocab you are attempting to save contains a hole for index 1077, your vocabulary could be corrupted !\n",
      "The OrderedVocab you are attempting to save contains a hole for index 1079, your vocabulary could be corrupted !\n",
      "The OrderedVocab you are attempting to save contains a hole for index 1080, your vocabulary could be corrupted !\n",
      "The OrderedVocab you are attempting to save contains a hole for index 1081, your vocabulary could be corrupted !\n",
      "The OrderedVocab you are attempting to save contains a hole for index 1082, your vocabulary could be corrupted !\n",
      "The OrderedVocab you are attempting to save contains a hole for index 1083, your vocabulary could be corrupted !\n",
      "The OrderedVocab you are attempting to save contains a hole for index 1084, your vocabulary could be corrupted !\n",
      "The OrderedVocab you are attempting to save contains a hole for index 1085, your vocabulary could be corrupted !\n",
      "The OrderedVocab you are attempting to save contains a hole for index 1086, your vocabulary could be corrupted !\n",
      "The OrderedVocab you are attempting to save contains a hole for index 1087, your vocabulary could be corrupted !\n",
      "The OrderedVocab you are attempting to save contains a hole for index 1088, your vocabulary could be corrupted !\n",
      "The OrderedVocab you are attempting to save contains a hole for index 1089, your vocabulary could be corrupted !\n",
      "The OrderedVocab you are attempting to save contains a hole for index 1090, your vocabulary could be corrupted !\n",
      "The OrderedVocab you are attempting to save contains a hole for index 1091, your vocabulary could be corrupted !\n",
      "The OrderedVocab you are attempting to save contains a hole for index 1092, your vocabulary could be corrupted !\n",
      "The OrderedVocab you are attempting to save contains a hole for index 1093, your vocabulary could be corrupted !\n",
      "The OrderedVocab you are attempting to save contains a hole for index 1094, your vocabulary could be corrupted !\n",
      "The OrderedVocab you are attempting to save contains a hole for index 1095, your vocabulary could be corrupted !\n",
      "The OrderedVocab you are attempting to save contains a hole for index 1099, your vocabulary could be corrupted !\n",
      "The OrderedVocab you are attempting to save contains a hole for index 1101, your vocabulary could be corrupted !\n",
      "The OrderedVocab you are attempting to save contains a hole for index 1112, your vocabulary could be corrupted !\n",
      "The OrderedVocab you are attempting to save contains a hole for index 1113, your vocabulary could be corrupted !\n",
      "The OrderedVocab you are attempting to save contains a hole for index 1556, your vocabulary could be corrupted !\n",
      "The OrderedVocab you are attempting to save contains a hole for index 1557, your vocabulary could be corrupted !\n",
      "The OrderedVocab you are attempting to save contains a hole for index 1568, your vocabulary could be corrupted !\n"
     ]
    },
    {
     "name": "stderr",
     "output_type": "stream",
     "text": [
      "[INFO|trainer.py:2932] 2023-09-03 09:05:37,599 >> Deleting older checkpoint [output/checkpoint-11000] due to args.save_total_limit\n",
      "[INFO|trainer.py:750] 2023-09-03 09:06:46,086 >> The following columns in the evaluation set don't have a corresponding argument in `BertForSequenceClassification.forward` and have been ignored: text, id. If text, id are not expected by `BertForSequenceClassification.forward`,  you can safely ignore this message.\n",
      "[INFO|trainer.py:3119] 2023-09-03 09:06:46,090 >> ***** Running Evaluation *****\n",
      "[INFO|trainer.py:3121] 2023-09-03 09:06:46,091 >>   Num examples = 3934\n",
      "[INFO|trainer.py:3124] 2023-09-03 09:06:46,092 >>   Batch size = 8\n",
      "[INFO|trainer.py:2845] 2023-09-03 09:07:04,274 >> Saving model checkpoint to ./output/checkpoint-12500\n",
      "[INFO|configuration_utils.py:460] 2023-09-03 09:07:04,277 >> Configuration saved in ./output/checkpoint-12500/config.json\n",
      "[INFO|modeling_utils.py:1953] 2023-09-03 09:07:05,395 >> Model weights saved in ./output/checkpoint-12500/pytorch_model.bin\n",
      "[INFO|tokenization_utils_base.py:2235] 2023-09-03 09:07:05,397 >> tokenizer config file saved in ./output/checkpoint-12500/tokenizer_config.json\n",
      "[INFO|tokenization_utils_base.py:2242] 2023-09-03 09:07:05,399 >> Special tokens file saved in ./output/checkpoint-12500/special_tokens_map.json\n"
     ]
    },
    {
     "name": "stdout",
     "output_type": "stream",
     "text": [
      "The OrderedVocab you are attempting to save contains a hole for index 1015, your vocabulary could be corrupted !\n",
      "The OrderedVocab you are attempting to save contains a hole for index 1016, your vocabulary could be corrupted !\n",
      "The OrderedVocab you are attempting to save contains a hole for index 1017, your vocabulary could be corrupted !\n",
      "The OrderedVocab you are attempting to save contains a hole for index 1018, your vocabulary could be corrupted !\n",
      "The OrderedVocab you are attempting to save contains a hole for index 1053, your vocabulary could be corrupted !\n",
      "The OrderedVocab you are attempting to save contains a hole for index 1054, your vocabulary could be corrupted !\n",
      "The OrderedVocab you are attempting to save contains a hole for index 1055, your vocabulary could be corrupted !\n",
      "The OrderedVocab you are attempting to save contains a hole for index 1056, your vocabulary could be corrupted !\n",
      "The OrderedVocab you are attempting to save contains a hole for index 1057, your vocabulary could be corrupted !\n",
      "The OrderedVocab you are attempting to save contains a hole for index 1060, your vocabulary could be corrupted !\n",
      "The OrderedVocab you are attempting to save contains a hole for index 1061, your vocabulary could be corrupted !\n",
      "The OrderedVocab you are attempting to save contains a hole for index 1062, your vocabulary could be corrupted !\n",
      "The OrderedVocab you are attempting to save contains a hole for index 1064, your vocabulary could be corrupted !\n",
      "The OrderedVocab you are attempting to save contains a hole for index 1065, your vocabulary could be corrupted !\n",
      "The OrderedVocab you are attempting to save contains a hole for index 1066, your vocabulary could be corrupted !\n",
      "The OrderedVocab you are attempting to save contains a hole for index 1067, your vocabulary could be corrupted !\n",
      "The OrderedVocab you are attempting to save contains a hole for index 1068, your vocabulary could be corrupted !\n",
      "The OrderedVocab you are attempting to save contains a hole for index 1069, your vocabulary could be corrupted !\n",
      "The OrderedVocab you are attempting to save contains a hole for index 1070, your vocabulary could be corrupted !\n",
      "The OrderedVocab you are attempting to save contains a hole for index 1071, your vocabulary could be corrupted !\n",
      "The OrderedVocab you are attempting to save contains a hole for index 1072, your vocabulary could be corrupted !\n",
      "The OrderedVocab you are attempting to save contains a hole for index 1073, your vocabulary could be corrupted !\n",
      "The OrderedVocab you are attempting to save contains a hole for index 1074, your vocabulary could be corrupted !\n",
      "The OrderedVocab you are attempting to save contains a hole for index 1075, your vocabulary could be corrupted !\n",
      "The OrderedVocab you are attempting to save contains a hole for index 1076, your vocabulary could be corrupted !\n",
      "The OrderedVocab you are attempting to save contains a hole for index 1077, your vocabulary could be corrupted !\n",
      "The OrderedVocab you are attempting to save contains a hole for index 1079, your vocabulary could be corrupted !\n",
      "The OrderedVocab you are attempting to save contains a hole for index 1080, your vocabulary could be corrupted !\n",
      "The OrderedVocab you are attempting to save contains a hole for index 1081, your vocabulary could be corrupted !\n",
      "The OrderedVocab you are attempting to save contains a hole for index 1082, your vocabulary could be corrupted !\n",
      "The OrderedVocab you are attempting to save contains a hole for index 1083, your vocabulary could be corrupted !\n",
      "The OrderedVocab you are attempting to save contains a hole for index 1084, your vocabulary could be corrupted !\n",
      "The OrderedVocab you are attempting to save contains a hole for index 1085, your vocabulary could be corrupted !\n",
      "The OrderedVocab you are attempting to save contains a hole for index 1086, your vocabulary could be corrupted !\n",
      "The OrderedVocab you are attempting to save contains a hole for index 1087, your vocabulary could be corrupted !\n",
      "The OrderedVocab you are attempting to save contains a hole for index 1088, your vocabulary could be corrupted !\n",
      "The OrderedVocab you are attempting to save contains a hole for index 1089, your vocabulary could be corrupted !\n",
      "The OrderedVocab you are attempting to save contains a hole for index 1090, your vocabulary could be corrupted !\n",
      "The OrderedVocab you are attempting to save contains a hole for index 1091, your vocabulary could be corrupted !\n",
      "The OrderedVocab you are attempting to save contains a hole for index 1092, your vocabulary could be corrupted !\n",
      "The OrderedVocab you are attempting to save contains a hole for index 1093, your vocabulary could be corrupted !\n",
      "The OrderedVocab you are attempting to save contains a hole for index 1094, your vocabulary could be corrupted !\n",
      "The OrderedVocab you are attempting to save contains a hole for index 1095, your vocabulary could be corrupted !\n",
      "The OrderedVocab you are attempting to save contains a hole for index 1099, your vocabulary could be corrupted !\n",
      "The OrderedVocab you are attempting to save contains a hole for index 1101, your vocabulary could be corrupted !\n",
      "The OrderedVocab you are attempting to save contains a hole for index 1112, your vocabulary could be corrupted !\n",
      "The OrderedVocab you are attempting to save contains a hole for index 1113, your vocabulary could be corrupted !\n",
      "The OrderedVocab you are attempting to save contains a hole for index 1556, your vocabulary could be corrupted !\n",
      "The OrderedVocab you are attempting to save contains a hole for index 1557, your vocabulary could be corrupted !\n",
      "The OrderedVocab you are attempting to save contains a hole for index 1568, your vocabulary could be corrupted !\n"
     ]
    },
    {
     "name": "stderr",
     "output_type": "stream",
     "text": [
      "[INFO|trainer.py:2932] 2023-09-03 09:07:09,755 >> Deleting older checkpoint [output/checkpoint-11500] due to args.save_total_limit\n",
      "[INFO|trainer.py:750] 2023-09-03 09:08:18,275 >> The following columns in the evaluation set don't have a corresponding argument in `BertForSequenceClassification.forward` and have been ignored: text, id. If text, id are not expected by `BertForSequenceClassification.forward`,  you can safely ignore this message.\n",
      "[INFO|trainer.py:3119] 2023-09-03 09:08:18,278 >> ***** Running Evaluation *****\n",
      "[INFO|trainer.py:3121] 2023-09-03 09:08:18,279 >>   Num examples = 3934\n",
      "[INFO|trainer.py:3124] 2023-09-03 09:08:18,280 >>   Batch size = 8\n",
      "[INFO|trainer.py:2845] 2023-09-03 09:08:36,472 >> Saving model checkpoint to ./output/checkpoint-13000\n",
      "[INFO|configuration_utils.py:460] 2023-09-03 09:08:36,476 >> Configuration saved in ./output/checkpoint-13000/config.json\n",
      "[INFO|modeling_utils.py:1953] 2023-09-03 09:08:37,544 >> Model weights saved in ./output/checkpoint-13000/pytorch_model.bin\n",
      "[INFO|tokenization_utils_base.py:2235] 2023-09-03 09:08:37,545 >> tokenizer config file saved in ./output/checkpoint-13000/tokenizer_config.json\n",
      "[INFO|tokenization_utils_base.py:2242] 2023-09-03 09:08:37,548 >> Special tokens file saved in ./output/checkpoint-13000/special_tokens_map.json\n"
     ]
    },
    {
     "name": "stdout",
     "output_type": "stream",
     "text": [
      "The OrderedVocab you are attempting to save contains a hole for index 1015, your vocabulary could be corrupted !\n",
      "The OrderedVocab you are attempting to save contains a hole for index 1016, your vocabulary could be corrupted !\n",
      "The OrderedVocab you are attempting to save contains a hole for index 1017, your vocabulary could be corrupted !\n",
      "The OrderedVocab you are attempting to save contains a hole for index 1018, your vocabulary could be corrupted !\n",
      "The OrderedVocab you are attempting to save contains a hole for index 1053, your vocabulary could be corrupted !\n",
      "The OrderedVocab you are attempting to save contains a hole for index 1054, your vocabulary could be corrupted !\n",
      "The OrderedVocab you are attempting to save contains a hole for index 1055, your vocabulary could be corrupted !\n",
      "The OrderedVocab you are attempting to save contains a hole for index 1056, your vocabulary could be corrupted !\n",
      "The OrderedVocab you are attempting to save contains a hole for index 1057, your vocabulary could be corrupted !\n",
      "The OrderedVocab you are attempting to save contains a hole for index 1060, your vocabulary could be corrupted !\n",
      "The OrderedVocab you are attempting to save contains a hole for index 1061, your vocabulary could be corrupted !\n",
      "The OrderedVocab you are attempting to save contains a hole for index 1062, your vocabulary could be corrupted !\n",
      "The OrderedVocab you are attempting to save contains a hole for index 1064, your vocabulary could be corrupted !\n",
      "The OrderedVocab you are attempting to save contains a hole for index 1065, your vocabulary could be corrupted !\n",
      "The OrderedVocab you are attempting to save contains a hole for index 1066, your vocabulary could be corrupted !\n",
      "The OrderedVocab you are attempting to save contains a hole for index 1067, your vocabulary could be corrupted !\n",
      "The OrderedVocab you are attempting to save contains a hole for index 1068, your vocabulary could be corrupted !\n",
      "The OrderedVocab you are attempting to save contains a hole for index 1069, your vocabulary could be corrupted !\n",
      "The OrderedVocab you are attempting to save contains a hole for index 1070, your vocabulary could be corrupted !\n",
      "The OrderedVocab you are attempting to save contains a hole for index 1071, your vocabulary could be corrupted !\n",
      "The OrderedVocab you are attempting to save contains a hole for index 1072, your vocabulary could be corrupted !\n",
      "The OrderedVocab you are attempting to save contains a hole for index 1073, your vocabulary could be corrupted !\n",
      "The OrderedVocab you are attempting to save contains a hole for index 1074, your vocabulary could be corrupted !\n",
      "The OrderedVocab you are attempting to save contains a hole for index 1075, your vocabulary could be corrupted !\n",
      "The OrderedVocab you are attempting to save contains a hole for index 1076, your vocabulary could be corrupted !\n",
      "The OrderedVocab you are attempting to save contains a hole for index 1077, your vocabulary could be corrupted !\n",
      "The OrderedVocab you are attempting to save contains a hole for index 1079, your vocabulary could be corrupted !\n",
      "The OrderedVocab you are attempting to save contains a hole for index 1080, your vocabulary could be corrupted !\n",
      "The OrderedVocab you are attempting to save contains a hole for index 1081, your vocabulary could be corrupted !\n",
      "The OrderedVocab you are attempting to save contains a hole for index 1082, your vocabulary could be corrupted !\n",
      "The OrderedVocab you are attempting to save contains a hole for index 1083, your vocabulary could be corrupted !\n",
      "The OrderedVocab you are attempting to save contains a hole for index 1084, your vocabulary could be corrupted !\n",
      "The OrderedVocab you are attempting to save contains a hole for index 1085, your vocabulary could be corrupted !\n",
      "The OrderedVocab you are attempting to save contains a hole for index 1086, your vocabulary could be corrupted !\n",
      "The OrderedVocab you are attempting to save contains a hole for index 1087, your vocabulary could be corrupted !\n",
      "The OrderedVocab you are attempting to save contains a hole for index 1088, your vocabulary could be corrupted !\n",
      "The OrderedVocab you are attempting to save contains a hole for index 1089, your vocabulary could be corrupted !\n",
      "The OrderedVocab you are attempting to save contains a hole for index 1090, your vocabulary could be corrupted !\n",
      "The OrderedVocab you are attempting to save contains a hole for index 1091, your vocabulary could be corrupted !\n",
      "The OrderedVocab you are attempting to save contains a hole for index 1092, your vocabulary could be corrupted !\n",
      "The OrderedVocab you are attempting to save contains a hole for index 1093, your vocabulary could be corrupted !\n",
      "The OrderedVocab you are attempting to save contains a hole for index 1094, your vocabulary could be corrupted !\n",
      "The OrderedVocab you are attempting to save contains a hole for index 1095, your vocabulary could be corrupted !\n",
      "The OrderedVocab you are attempting to save contains a hole for index 1099, your vocabulary could be corrupted !\n",
      "The OrderedVocab you are attempting to save contains a hole for index 1101, your vocabulary could be corrupted !\n",
      "The OrderedVocab you are attempting to save contains a hole for index 1112, your vocabulary could be corrupted !\n",
      "The OrderedVocab you are attempting to save contains a hole for index 1113, your vocabulary could be corrupted !\n",
      "The OrderedVocab you are attempting to save contains a hole for index 1556, your vocabulary could be corrupted !\n",
      "The OrderedVocab you are attempting to save contains a hole for index 1557, your vocabulary could be corrupted !\n",
      "The OrderedVocab you are attempting to save contains a hole for index 1568, your vocabulary could be corrupted !\n"
     ]
    },
    {
     "name": "stderr",
     "output_type": "stream",
     "text": [
      "[INFO|trainer.py:2932] 2023-09-03 09:08:40,894 >> Deleting older checkpoint [output/checkpoint-12000] due to args.save_total_limit\n",
      "[INFO|trainer.py:1962] 2023-09-03 09:09:12,180 >> \n",
      "\n",
      "Training completed. Do not forget to share your model on huggingface.co/models =)\n",
      "\n",
      "\n",
      "[INFO|trainer.py:2124] 2023-09-03 09:09:12,181 >> Loading best model from ./output/checkpoint-8500 (score: 0.7999510169029236).\n"
     ]
    }
   ],
   "source": [
    "train_result = trainer.train()"
   ]
  },
  {
   "cell_type": "code",
   "execution_count": null,
   "id": "912fcb5d",
   "metadata": {
    "papermill": {
     "duration": 0.111845,
     "end_time": "2023-09-03T09:09:16.098684",
     "exception": false,
     "start_time": "2023-09-03T09:09:15.986839",
     "status": "completed"
    },
    "tags": []
   },
   "outputs": [],
   "source": []
  },
  {
   "cell_type": "code",
   "execution_count": 57,
   "id": "f4a1e4cb",
   "metadata": {
    "execution": {
     "iopub.execute_input": "2023-09-03T09:09:16.328846Z",
     "iopub.status.busy": "2023-09-03T09:09:16.328287Z",
     "iopub.status.idle": "2023-09-03T09:09:16.334285Z",
     "shell.execute_reply": "2023-09-03T09:09:16.333453Z"
    },
    "id": "sKctejTGjDWO",
    "papermill": {
     "duration": 0.126829,
     "end_time": "2023-09-03T09:09:16.338435",
     "exception": false,
     "start_time": "2023-09-03T09:09:16.211606",
     "status": "completed"
    },
    "tags": []
   },
   "outputs": [],
   "source": [
    "metrics = train_result.metrics\n",
    "max_train_samples = (\n",
    "    max_train_samples if max_train_samples is not None else len(train_dataset)\n",
    ")\n",
    "metrics[\"train_samples\"] = min(max_train_samples, len(train_dataset))"
   ]
  },
  {
   "cell_type": "code",
   "execution_count": 58,
   "id": "62f0dc99",
   "metadata": {
    "execution": {
     "iopub.execute_input": "2023-09-03T09:09:16.582600Z",
     "iopub.status.busy": "2023-09-03T09:09:16.582067Z",
     "iopub.status.idle": "2023-09-03T09:09:18.199588Z",
     "shell.execute_reply": "2023-09-03T09:09:18.197785Z"
    },
    "id": "UBwo_oMIjFMK",
    "outputId": "c1a4f275-19cf-4482-b9e3-a39dabb7b42e",
    "papermill": {
     "duration": 1.741237,
     "end_time": "2023-09-03T09:09:18.203093",
     "exception": false,
     "start_time": "2023-09-03T09:09:16.461856",
     "status": "completed"
    },
    "tags": []
   },
   "outputs": [
    {
     "name": "stderr",
     "output_type": "stream",
     "text": [
      "[INFO|trainer.py:2845] 2023-09-03 09:09:16,585 >> Saving model checkpoint to ./output\n",
      "[INFO|configuration_utils.py:460] 2023-09-03 09:09:16,588 >> Configuration saved in ./output/config.json\n",
      "[INFO|modeling_utils.py:1953] 2023-09-03 09:09:17,856 >> Model weights saved in ./output/pytorch_model.bin\n",
      "[INFO|tokenization_utils_base.py:2235] 2023-09-03 09:09:17,858 >> tokenizer config file saved in ./output/tokenizer_config.json\n",
      "[INFO|tokenization_utils_base.py:2242] 2023-09-03 09:09:17,861 >> Special tokens file saved in ./output/special_tokens_map.json\n"
     ]
    },
    {
     "name": "stdout",
     "output_type": "stream",
     "text": [
      "The OrderedVocab you are attempting to save contains a hole for index 1015, your vocabulary could be corrupted !\n",
      "The OrderedVocab you are attempting to save contains a hole for index 1016, your vocabulary could be corrupted !\n",
      "The OrderedVocab you are attempting to save contains a hole for index 1017, your vocabulary could be corrupted !\n",
      "The OrderedVocab you are attempting to save contains a hole for index 1018, your vocabulary could be corrupted !\n",
      "The OrderedVocab you are attempting to save contains a hole for index 1053, your vocabulary could be corrupted !\n",
      "***** train metrics *****\n",
      "  epoch                    =        3.0\n",
      "  total_flos               =  6481277GF\n",
      "  train_loss               =     0.6633\n",
      "  train_runtime            = 0:40:22.15\n",
      "  train_samples            =      35266\n",
      "  train_samples_per_second =     43.679\n",
      "  train_steps_per_second   =      5.461\n",
      "The OrderedVocab you are attempting to save contains a hole for index 1054, your vocabulary could be corrupted !\n",
      "The OrderedVocab you are attempting to save contains a hole for index 1055, your vocabulary could be corrupted !\n",
      "The OrderedVocab you are attempting to save contains a hole for index 1056, your vocabulary could be corrupted !\n",
      "The OrderedVocab you are attempting to save contains a hole for index 1057, your vocabulary could be corrupted !\n",
      "The OrderedVocab you are attempting to save contains a hole for index 1060, your vocabulary could be corrupted !\n",
      "The OrderedVocab you are attempting to save contains a hole for index 1061, your vocabulary could be corrupted !\n",
      "The OrderedVocab you are attempting to save contains a hole for index 1062, your vocabulary could be corrupted !\n",
      "The OrderedVocab you are attempting to save contains a hole for index 1064, your vocabulary could be corrupted !\n",
      "The OrderedVocab you are attempting to save contains a hole for index 1065, your vocabulary could be corrupted !\n",
      "The OrderedVocab you are attempting to save contains a hole for index 1066, your vocabulary could be corrupted !\n",
      "The OrderedVocab you are attempting to save contains a hole for index 1067, your vocabulary could be corrupted !\n",
      "The OrderedVocab you are attempting to save contains a hole for index 1068, your vocabulary could be corrupted !\n",
      "The OrderedVocab you are attempting to save contains a hole for index 1069, your vocabulary could be corrupted !\n",
      "The OrderedVocab you are attempting to save contains a hole for index 1070, your vocabulary could be corrupted !\n",
      "The OrderedVocab you are attempting to save contains a hole for index 1071, your vocabulary could be corrupted !\n",
      "The OrderedVocab you are attempting to save contains a hole for index 1072, your vocabulary could be corrupted !\n",
      "The OrderedVocab you are attempting to save contains a hole for index 1073, your vocabulary could be corrupted !\n",
      "The OrderedVocab you are attempting to save contains a hole for index 1074, your vocabulary could be corrupted !\n",
      "The OrderedVocab you are attempting to save contains a hole for index 1075, your vocabulary could be corrupted !\n",
      "The OrderedVocab you are attempting to save contains a hole for index 1076, your vocabulary could be corrupted !\n",
      "The OrderedVocab you are attempting to save contains a hole for index 1077, your vocabulary could be corrupted !\n",
      "The OrderedVocab you are attempting to save contains a hole for index 1079, your vocabulary could be corrupted !\n",
      "The OrderedVocab you are attempting to save contains a hole for index 1080, your vocabulary could be corrupted !\n",
      "The OrderedVocab you are attempting to save contains a hole for index 1081, your vocabulary could be corrupted !\n",
      "The OrderedVocab you are attempting to save contains a hole for index 1082, your vocabulary could be corrupted !\n",
      "The OrderedVocab you are attempting to save contains a hole for index 1083, your vocabulary could be corrupted !\n",
      "The OrderedVocab you are attempting to save contains a hole for index 1084, your vocabulary could be corrupted !\n",
      "The OrderedVocab you are attempting to save contains a hole for index 1085, your vocabulary could be corrupted !\n",
      "The OrderedVocab you are attempting to save contains a hole for index 1086, your vocabulary could be corrupted !\n",
      "The OrderedVocab you are attempting to save contains a hole for index 1087, your vocabulary could be corrupted !\n",
      "The OrderedVocab you are attempting to save contains a hole for index 1088, your vocabulary could be corrupted !\n",
      "The OrderedVocab you are attempting to save contains a hole for index 1089, your vocabulary could be corrupted !\n",
      "The OrderedVocab you are attempting to save contains a hole for index 1090, your vocabulary could be corrupted !\n",
      "The OrderedVocab you are attempting to save contains a hole for index 1091, your vocabulary could be corrupted !\n",
      "The OrderedVocab you are attempting to save contains a hole for index 1092, your vocabulary could be corrupted !\n",
      "The OrderedVocab you are attempting to save contains a hole for index 1093, your vocabulary could be corrupted !\n",
      "The OrderedVocab you are attempting to save contains a hole for index 1094, your vocabulary could be corrupted !\n",
      "The OrderedVocab you are attempting to save contains a hole for index 1095, your vocabulary could be corrupted !\n",
      "The OrderedVocab you are attempting to save contains a hole for index 1099, your vocabulary could be corrupted !\n",
      "The OrderedVocab you are attempting to save contains a hole for index 1101, your vocabulary could be corrupted !\n",
      "The OrderedVocab you are attempting to save contains a hole for index 1112, your vocabulary could be corrupted !\n",
      "The OrderedVocab you are attempting to save contains a hole for index 1113, your vocabulary could be corrupted !\n",
      "The OrderedVocab you are attempting to save contains a hole for index 1556, your vocabulary could be corrupted !\n",
      "The OrderedVocab you are attempting to save contains a hole for index 1557, your vocabulary could be corrupted !\n",
      "The OrderedVocab you are attempting to save contains a hole for index 1568, your vocabulary could be corrupted !\n"
     ]
    }
   ],
   "source": [
    "trainer.save_model()\n",
    "trainer.log_metrics(\"train\", metrics)\n",
    "trainer.save_metrics(\"train\", metrics)\n",
    "trainer.save_state()"
   ]
  },
  {
   "cell_type": "code",
   "execution_count": 59,
   "id": "72794b35",
   "metadata": {
    "execution": {
     "iopub.execute_input": "2023-09-03T09:09:18.361895Z",
     "iopub.status.busy": "2023-09-03T09:09:18.361499Z",
     "iopub.status.idle": "2023-09-03T09:09:36.650230Z",
     "shell.execute_reply": "2023-09-03T09:09:36.648979Z"
    },
    "id": "Rk-6nzj2jICF",
    "outputId": "f253b8cb-c326-4583-f341-3178ca61cf96",
    "papermill": {
     "duration": 18.369224,
     "end_time": "2023-09-03T09:09:36.652419",
     "exception": false,
     "start_time": "2023-09-03T09:09:18.283195",
     "status": "completed"
    },
    "tags": []
   },
   "outputs": [
    {
     "name": "stderr",
     "output_type": "stream",
     "text": [
      "[INFO|trainer.py:750] 2023-09-03 09:09:18,364 >> The following columns in the evaluation set don't have a corresponding argument in `BertForSequenceClassification.forward` and have been ignored: text, id. If text, id are not expected by `BertForSequenceClassification.forward`,  you can safely ignore this message.\n",
      "[INFO|trainer.py:3119] 2023-09-03 09:09:18,368 >> ***** Running Evaluation *****\n",
      "[INFO|trainer.py:3121] 2023-09-03 09:09:18,369 >>   Num examples = 3934\n",
      "[INFO|trainer.py:3124] 2023-09-03 09:09:18,370 >>   Batch size = 8\n"
     ]
    },
    {
     "data": {
      "text/html": [],
      "text/plain": [
       "<IPython.core.display.HTML object>"
      ]
     },
     "metadata": {},
     "output_type": "display_data"
    },
    {
     "name": "stdout",
     "output_type": "stream",
     "text": [
      "***** eval metrics *****\n",
      "  epoch                   =        3.0\n",
      "  eval_accuracy           =     0.6746\n",
      "  eval_loss               =        0.8\n",
      "  eval_micro_f1_score     =     0.6746\n",
      "  eval_runtime            = 0:00:18.27\n",
      "  eval_samples            =       3934\n",
      "  eval_samples_per_second =    215.321\n",
      "  eval_steps_per_second   =     26.929\n"
     ]
    }
   ],
   "source": [
    "logger.info(\"*** Evaluate ***\")\n",
    "\n",
    "metrics = trainer.evaluate(eval_dataset=eval_dataset)\n",
    "\n",
    "max_eval_samples = (\n",
    "    max_eval_samples if max_eval_samples is not None else len(eval_dataset)\n",
    ")\n",
    "metrics[\"eval_samples\"] = min(max_eval_samples, len(eval_dataset))\n",
    "\n",
    "trainer.log_metrics(\"eval\", metrics)\n",
    "trainer.save_metrics(\"eval\", metrics)"
   ]
  },
  {
   "cell_type": "code",
   "execution_count": 60,
   "id": "9808cce0",
   "metadata": {
    "execution": {
     "iopub.execute_input": "2023-09-03T09:09:36.812448Z",
     "iopub.status.busy": "2023-09-03T09:09:36.812083Z",
     "iopub.status.idle": "2023-09-03T09:10:09.486122Z",
     "shell.execute_reply": "2023-09-03T09:10:09.484730Z"
    },
    "id": "uDueODTApwWp",
    "papermill": {
     "duration": 32.755431,
     "end_time": "2023-09-03T09:10:09.488195",
     "exception": false,
     "start_time": "2023-09-03T09:09:36.732764",
     "status": "completed"
    },
    "tags": []
   },
   "outputs": [
    {
     "name": "stderr",
     "output_type": "stream",
     "text": [
      "[INFO|trainer.py:750] 2023-09-03 09:09:36,814 >> The following columns in the test set don't have a corresponding argument in `BertForSequenceClassification.forward` and have been ignored: text, id. If text, id are not expected by `BertForSequenceClassification.forward`,  you can safely ignore this message.\n",
      "[INFO|trainer.py:3119] 2023-09-03 09:09:36,818 >> ***** Running Prediction *****\n",
      "[INFO|trainer.py:3121] 2023-09-03 09:09:36,819 >>   Num examples = 6707\n",
      "[INFO|trainer.py:3124] 2023-09-03 09:09:36,820 >>   Batch size = 8\n"
     ]
    },
    {
     "name": "stdout",
     "output_type": "stream",
     "text": [
      "Test Accuracy: 0.6406739227672581\n"
     ]
    }
   ],
   "source": [
    "from sklearn.metrics import accuracy_score\n",
    "predictions = trainer.predict(predict_dataset).predictions\n",
    "predicted_labels = predictions.argmax(axis=1)\n",
    "actual_labels = predict_dataset['label']\n",
    "accuracy = accuracy_score(actual_labels, predicted_labels)\n",
    "print(\"Test Accuracy:\", accuracy)"
   ]
  },
  {
   "cell_type": "code",
   "execution_count": 61,
   "id": "ae26ee07",
   "metadata": {
    "execution": {
     "iopub.execute_input": "2023-09-03T09:10:09.645362Z",
     "iopub.status.busy": "2023-09-03T09:10:09.644932Z",
     "iopub.status.idle": "2023-09-03T09:10:09.721094Z",
     "shell.execute_reply": "2023-09-03T09:10:09.719994Z"
    },
    "id": "QHDe_MM_pyNi",
    "papermill": {
     "duration": 0.158093,
     "end_time": "2023-09-03T09:10:09.723815",
     "exception": false,
     "start_time": "2023-09-03T09:10:09.565722",
     "status": "completed"
    },
    "tags": []
   },
   "outputs": [
    {
     "name": "stdout",
     "output_type": "stream",
     "text": [
      "Classification Report:\n",
      "               precision    recall  f1-score   support\n",
      "\n",
      "     Class 0       0.71      0.72      0.71      3338\n",
      "     Class 1       0.44      0.38      0.41      1277\n",
      "     Class 2       0.63      0.67      0.65      2092\n",
      "\n",
      "    accuracy                           0.64      6707\n",
      "   macro avg       0.60      0.59      0.59      6707\n",
      "weighted avg       0.64      0.64      0.64      6707\n",
      "\n",
      "Macro F1 Score: 0.5922843491370555\n",
      "Micro F1 Score: 0.6406739227672581\n",
      "Precision: 0.6352658030514552\n",
      "Recall: 0.6406739227672581\n"
     ]
    }
   ],
   "source": [
    "import numpy as np\n",
    "from sklearn.metrics import classification_report, f1_score, precision_score, recall_score\n",
    "\n",
    "\n",
    "true_labels = predict_dataset[\"label\"]\n",
    "\n",
    "\n",
    "classification_rep = classification_report(true_labels, predicted_labels, target_names=[\"Class 0\", \"Class 1\", \"Class 2\"])\n",
    "print(\"Classification Report:\\n\", classification_rep)\n",
    "\n",
    "macro_f1 = f1_score(true_labels, predicted_labels, average=\"macro\")\n",
    "micro_f1 = f1_score(true_labels, predicted_labels, average=\"micro\")\n",
    "print(f\"Macro F1 Score: {macro_f1}\")\n",
    "print(f\"Micro F1 Score: {micro_f1}\")\n",
    "\n",
    "precision = precision_score(true_labels, predicted_labels, average=\"weighted\")  # For binary classification\n",
    "recall = recall_score(true_labels, predicted_labels, average=\"weighted\")  # For binary classification\n",
    "print(f\"Precision: {precision}\")\n",
    "print(f\"Recall: {recall}\")"
   ]
  },
  {
   "cell_type": "code",
   "execution_count": 62,
   "id": "038c8801",
   "metadata": {
    "execution": {
     "iopub.execute_input": "2023-09-03T09:10:09.886212Z",
     "iopub.status.busy": "2023-09-03T09:10:09.884349Z",
     "iopub.status.idle": "2023-09-03T09:10:10.595056Z",
     "shell.execute_reply": "2023-09-03T09:10:10.594104Z"
    },
    "id": "isID9mm5p0AS",
    "papermill": {
     "duration": 0.79182,
     "end_time": "2023-09-03T09:10:10.597223",
     "exception": false,
     "start_time": "2023-09-03T09:10:09.805403",
     "status": "completed"
    },
    "tags": []
   },
   "outputs": [
    {
     "data": {
      "image/png": "[encoded data removed]",
      "text/plain": [
       "<Figure size 800x600 with 2 Axes>"
      ]
     },
     "metadata": {},
     "output_type": "display_data"
    }
   ],
   "source": [
    "from sklearn.metrics import confusion_matrix\n",
    "import seaborn as sns\n",
    "import matplotlib.pyplot as plt\n",
    "\n",
    "confusion = confusion_matrix(actual_labels, predicted_labels)\n",
    "\n",
    "plt.figure(figsize=(8, 6))\n",
    "sns.heatmap(confusion, annot=True, fmt='d', cmap='Blues', xticklabels=True, yticklabels=True)\n",
    "plt.xlabel('Predicted')\n",
    "plt.ylabel('Actual')\n",
    "plt.title('Confusion Matrix')\n",
    "plt.show()"
   ]
  }
 ],
 "kernelspec": {
  "display_name": "Python 3",
  "language": "python",
  "name": "python3"
 },
 "language_info": {
  "codemirror_mode": {
   "name": "ipython",
   "version": 3
  },
  "file_extension": ".py",
  "mimetype": "text/x-python",
  "name": "python",
  "nbconvert_exporter": "python",
  "pygments_lexer": "ipython3",
  "version": "3.6.4"
 },
 "metadata": {
  "accelerator": "GPU",
  "colab": {
   "gpuType": "T4",
   "provenance": []
  },
  "kernelspec": {
   "display_name": "Python 3",
   "language": "python",
   "name": "python3"
  },
  "language_info": {
   "codemirror_mode": {
    "name": "ipython",
    "version": 3
   },
   "file_extension": ".py",
   "mimetype": "text/x-python",
   "name": "python",
   "nbconvert_exporter": "python",
   "pygments_lexer": "ipython3",
   "version": "3.10.12"
  },
  "papermill": {
   "default_parameters": {},
   "duration": 2608.904113,
   "end_time": "2023-09-03T09:10:14.114520",
   "environment_variables": {},
   "exception": null,
   "input_path": "__notebook__.ipynb",
   "output_path": "__notebook__.ipynb",
   "parameters": {},
   "start_time": "2023-09-03T08:26:45.210407",
   "version": "2.4.0"
  },
  "widgets": {
   "application/vnd.jupyter.widget-state+json": {
    "state": {
     "00efd5d0e3dc4a17ae86c4405a322839": {
      "model_module": "@jupyter-widgets/controls",
      "model_module_version": "1.5.0",
      "model_name": "HBoxModel",
      "state": {
       "_dom_classes": [],
       "_model_module": "@jupyter-widgets/controls",
       "_model_module_version": "1.5.0",
       "_model_name": "HBoxModel",
       "_view_count": null,
       "_view_module": "@jupyter-widgets/controls",
       "_view_module_version": "1.5.0",
       "_view_name": "HBoxView",
       "box_style": "",
       "children": [
        "IPY_MODEL_a0deee893beb4eda8f5fa165c6b8632d",
        "IPY_MODEL_1373e4dd3d144a628279d93f0ad61757",
        "IPY_MODEL_ab26622488554197ab0956a86828417f"
       ],
       "layout": "IPY_MODEL_7b54834b51cb43b8a663673923884785"
      }
     },
     "027bda1741fc43cba63e995669bade5d": {
      "model_module": "@jupyter-widgets/controls",
      "model_module_version": "1.5.0",
      "model_name": "HTMLModel",
      "state": {
       "_dom_classes": [],
       "_model_module": "@jupyter-widgets/controls",
       "_model_module_version": "1.5.0",
       "_model_name": "HTMLModel",
       "_view_count": null,
       "_view_module": "@jupyter-widgets/controls",
       "_view_module_version": "1.5.0",
       "_view_name": "HTMLView",
       "description": "",
       "description_tooltip": null,
       "layout": "IPY_MODEL_5f0422d10e124ddf9716de101594fbf0",
       "placeholder": "​",
       "style": "IPY_MODEL_c94e376d738b4c2db4678bc04f64adc1",
       "value": " 4/4 [00:00&lt;00:00,  5.02ba/s]"
      }
     },
     "03d125dd4c9947a6a7ee06cb41c6a9b1": {
      "model_module": "@jupyter-widgets/controls",
      "model_module_version": "1.5.0",
      "model_name": "DescriptionStyleModel",
      "state": {
       "_model_module": "@jupyter-widgets/controls",
       "_model_module_version": "1.5.0",
       "_model_name": "DescriptionStyleModel",
       "_view_count": null,
       "_view_module": "@jupyter-widgets/base",
       "_view_module_version": "1.2.0",
       "_view_name": "StyleView",
       "description_width": ""
      }
     },
     "0930b2f79f1c42078d653b2acb4bb5d4": {
      "model_module": "@jupyter-widgets/base",
      "model_module_version": "1.2.0",
      "model_name": "LayoutModel",
      "state": {
       "_model_module": "@jupyter-widgets/base",
       "_model_module_version": "1.2.0",
       "_model_name": "LayoutModel",
       "_view_count": null,
       "_view_module": "@jupyter-widgets/base",
       "_view_module_version": "1.2.0",
       "_view_name": "LayoutView",
       "align_content": null,
       "align_items": null,
       "align_self": null,
       "border": null,
       "bottom": null,
       "display": null,
       "flex": null,
       "flex_flow": null,
       "grid_area": null,
       "grid_auto_columns": null,
       "grid_auto_flow": null,
       "grid_auto_rows": null,
       "grid_column": null,
       "grid_gap": null,
       "grid_row": null,
       "grid_template_areas": null,
       "grid_template_columns": null,
       "grid_template_rows": null,
       "height": null,
       "justify_content": null,
       "justify_items": null,
       "left": null,
       "margin": null,
       "max_height": null,
       "max_width": null,
       "min_height": null,
       "min_width": null,
       "object_fit": null,
       "object_position": null,
       "order": null,
       "overflow": null,
       "overflow_x": null,
       "overflow_y": null,
       "padding": null,
       "right": null,
       "top": null,
       "visibility": null,
       "width": null
      }
     },
     "0b5d563961454d87a39775b0319fc1bd": {
      "model_module": "@jupyter-widgets/base",
      "model_module_version": "1.2.0",
      "model_name": "LayoutModel",
      "state": {
       "_model_module": "@jupyter-widgets/base",
       "_model_module_version": "1.2.0",
       "_model_name": "LayoutModel",
       "_view_count": null,
       "_view_module": "@jupyter-widgets/base",
       "_view_module_version": "1.2.0",
       "_view_name": "LayoutView",
       "align_content": null,
       "align_items": null,
       "align_self": null,
       "border": null,
       "bottom": null,
       "display": null,
       "flex": null,
       "flex_flow": null,
       "grid_area": null,
       "grid_auto_columns": null,
       "grid_auto_flow": null,
       "grid_auto_rows": null,
       "grid_column": null,
       "grid_gap": null,
       "grid_row": null,
       "grid_template_areas": null,
       "grid_template_columns": null,
       "grid_template_rows": null,
       "height": null,
       "justify_content": null,
       "justify_items": null,
       "left": null,
       "margin": null,
       "max_height": null,
       "max_width": null,
       "min_height": null,
       "min_width": null,
       "object_fit": null,
       "object_position": null,
       "order": null,
       "overflow": null,
       "overflow_x": null,
       "overflow_y": null,
       "padding": null,
       "right": null,
       "top": null,
       "visibility": null,
       "width": null
      }
     },
     "0b8a38f798f8441ca20a13052d2c5134": {
      "model_module": "@jupyter-widgets/controls",
      "model_module_version": "1.5.0",
      "model_name": "FloatProgressModel",
      "state": {
       "_dom_classes": [],
       "_model_module": "@jupyter-widgets/controls",
       "_model_module_version": "1.5.0",
       "_model_name": "FloatProgressModel",
       "_view_count": null,
       "_view_module": "@jupyter-widgets/controls",
       "_view_module_version": "1.5.0",
       "_view_name": "ProgressView",
       "bar_style": "success",
       "description": "",
       "description_tooltip": null,
       "layout": "IPY_MODEL_74c9d687715c4ee8be7437591d4681ac",
       "max": 4.0,
       "min": 0.0,
       "orientation": "horizontal",
       "style": "IPY_MODEL_dccd72bec6524ffc965ecf7a60caa509",
       "value": 4.0
      }
     },
     "0f802cb322c146bfb0d8f2e508454b24": {
      "model_module": "@jupyter-widgets/controls",
      "model_module_version": "1.5.0",
      "model_name": "ProgressStyleModel",
      "state": {
       "_model_module": "@jupyter-widgets/controls",
       "_model_module_version": "1.5.0",
       "_model_name": "ProgressStyleModel",
       "_view_count": null,
       "_view_module": "@jupyter-widgets/base",
       "_view_module_version": "1.2.0",
       "_view_name": "StyleView",
       "bar_color": null,
       "description_width": ""
      }
     },
     "10b8867b0d744d049e60c735dc873bff": {
      "model_module": "@jupyter-widgets/controls",
      "model_module_version": "1.5.0",
      "model_name": "DescriptionStyleModel",
      "state": {
       "_model_module": "@jupyter-widgets/controls",
       "_model_module_version": "1.5.0",
       "_model_name": "DescriptionStyleModel",
       "_view_count": null,
       "_view_module": "@jupyter-widgets/base",
       "_view_module_version": "1.2.0",
       "_view_name": "StyleView",
       "description_width": ""
      }
     },
     "11c28e8c24f84e8bae485d21661d6fb9": {
      "model_module": "@jupyter-widgets/controls",
      "model_module_version": "1.5.0",
      "model_name": "ProgressStyleModel",
      "state": {
       "_model_module": "@jupyter-widgets/controls",
       "_model_module_version": "1.5.0",
       "_model_name": "ProgressStyleModel",
       "_view_count": null,
       "_view_module": "@jupyter-widgets/base",
       "_view_module_version": "1.2.0",
       "_view_name": "StyleView",
       "bar_color": null,
       "description_width": ""
      }
     },
     "1373e4dd3d144a628279d93f0ad61757": {
      "model_module": "@jupyter-widgets/controls",
      "model_module_version": "1.5.0",
      "model_name": "FloatProgressModel",
      "state": {
       "_dom_classes": [],
       "_model_module": "@jupyter-widgets/controls",
       "_model_module_version": "1.5.0",
       "_model_name": "FloatProgressModel",
       "_view_count": null,
       "_view_module": "@jupyter-widgets/controls",
       "_view_module_version": "1.5.0",
       "_view_name": "ProgressView",
       "bar_style": "success",
       "description": "",
       "description_tooltip": null,
       "layout": "IPY_MODEL_1392d9f5524742028f53ac7e6bb2dd8c",
       "max": 4203.0,
       "min": 0.0,
       "orientation": "horizontal",
       "style": "IPY_MODEL_0f802cb322c146bfb0d8f2e508454b24",
       "value": 4203.0
      }
     },
     "1392d9f5524742028f53ac7e6bb2dd8c": {
      "model_module": "@jupyter-widgets/base",
      "model_module_version": "1.2.0",
      "model_name": "LayoutModel",
      "state": {
       "_model_module": "@jupyter-widgets/base",
       "_model_module_version": "1.2.0",
       "_model_name": "LayoutModel",
       "_view_count": null,
       "_view_module": "@jupyter-widgets/base",
       "_view_module_version": "1.2.0",
       "_view_name": "LayoutView",
       "align_content": null,
       "align_items": null,
       "align_self": null,
       "border": null,
       "bottom": null,
       "display": null,
       "flex": null,
       "flex_flow": null,
       "grid_area": null,
       "grid_auto_columns": null,
       "grid_auto_flow": null,
       "grid_auto_rows": null,
       "grid_column": null,
       "grid_gap": null,
       "grid_row": null,
       "grid_template_areas": null,
       "grid_template_columns": null,
       "grid_template_rows": null,
       "height": null,
       "justify_content": null,
       "justify_items": null,
       "left": null,
       "margin": null,
       "max_height": null,
       "max_width": null,
       "min_height": null,
       "min_width": null,
       "object_fit": null,
       "object_position": null,
       "order": null,
       "overflow": null,
       "overflow_x": null,
       "overflow_y": null,
       "padding": null,
       "right": null,
       "top": null,
       "visibility": null,
       "width": null
      }
     },
     "1d39c6b8fdf64c0abfcb7e0a451bd2be": {
      "model_module": "@jupyter-widgets/base",
      "model_module_version": "1.2.0",
      "model_name": "LayoutModel",
      "state": {
       "_model_module": "@jupyter-widgets/base",
       "_model_module_version": "1.2.0",
       "_model_name": "LayoutModel",
       "_view_count": null,
       "_view_module": "@jupyter-widgets/base",
       "_view_module_version": "1.2.0",
       "_view_name": "LayoutView",
       "align_content": null,
       "align_items": null,
       "align_self": null,
       "border": null,
       "bottom": null,
       "display": null,
       "flex": null,
       "flex_flow": null,
       "grid_area": null,
       "grid_auto_columns": null,
       "grid_auto_flow": null,
       "grid_auto_rows": null,
       "grid_column": null,
       "grid_gap": null,
       "grid_row": null,
       "grid_template_areas": null,
       "grid_template_columns": null,
       "grid_template_rows": null,
       "height": null,
       "justify_content": null,
       "justify_items": null,
       "left": null,
       "margin": null,
       "max_height": null,
       "max_width": null,
       "min_height": null,
       "min_width": null,
       "object_fit": null,
       "object_position": null,
       "order": null,
       "overflow": null,
       "overflow_x": null,
       "overflow_y": null,
       "padding": null,
       "right": null,
       "top": null,
       "visibility": null,
       "width": null
      }
     },
     "21817a0a43304e4ab651935a3117a0b2": {
      "model_module": "@jupyter-widgets/controls",
      "model_module_version": "1.5.0",
      "model_name": "HTMLModel",
      "state": {
       "_dom_classes": [],
       "_model_module": "@jupyter-widgets/controls",
       "_model_module_version": "1.5.0",
       "_model_name": "HTMLModel",
       "_view_count": null,
       "_view_module": "@jupyter-widgets/controls",
       "_view_module_version": "1.5.0",
       "_view_name": "HTMLView",
       "description": "",
       "description_tooltip": null,
       "layout": "IPY_MODEL_51e7b0e189b048f4b0785994224877ba",
       "placeholder": "​",
       "style": "IPY_MODEL_df5652e6d96843f4ad6d69a764c3c300",
       "value": " 660M/660M [00:01&lt;00:00, 352MB/s]"
      }
     },
     "23e1ba194a784c309b07ad16ebc933e3": {
      "model_module": "@jupyter-widgets/base",
      "model_module_version": "1.2.0",
      "model_name": "LayoutModel",
      "state": {
       "_model_module": "@jupyter-widgets/base",
       "_model_module_version": "1.2.0",
       "_model_name": "LayoutModel",
       "_view_count": null,
       "_view_module": "@jupyter-widgets/base",
       "_view_module_version": "1.2.0",
       "_view_name": "LayoutView",
       "align_content": null,
       "align_items": null,
       "align_self": null,
       "border": null,
       "bottom": null,
       "display": null,
       "flex": null,
       "flex_flow": null,
       "grid_area": null,
       "grid_auto_columns": null,
       "grid_auto_flow": null,
       "grid_auto_rows": null,
       "grid_column": null,
       "grid_gap": null,
       "grid_row": null,
       "grid_template_areas": null,
       "grid_template_columns": null,
       "grid_template_rows": null,
       "height": null,
       "justify_content": null,
       "justify_items": null,
       "left": null,
       "margin": null,
       "max_height": null,
       "max_width": null,
       "min_height": null,
       "min_width": null,
       "object_fit": null,
       "object_position": null,
       "order": null,
       "overflow": null,
       "overflow_x": null,
       "overflow_y": null,
       "padding": null,
       "right": null,
       "top": null,
       "visibility": null,
       "width": null
      }
     },
     "2e1f147da2d24388a4e170bbb9de3ea3": {
      "model_module": "@jupyter-widgets/controls",
      "model_module_version": "1.5.0",
      "model_name": "HBoxModel",
      "state": {
       "_dom_classes": [],
       "_model_module": "@jupyter-widgets/controls",
       "_model_module_version": "1.5.0",
       "_model_name": "HBoxModel",
       "_view_count": null,
       "_view_module": "@jupyter-widgets/controls",
       "_view_module_version": "1.5.0",
       "_view_name": "HBoxView",
       "box_style": "",
       "children": [
        "IPY_MODEL_dc06475cbce94002845337c3c8c631ec",
        "IPY_MODEL_0b8a38f798f8441ca20a13052d2c5134",
        "IPY_MODEL_027bda1741fc43cba63e995669bade5d"
       ],
       "layout": "IPY_MODEL_0b5d563961454d87a39775b0319fc1bd"
      }
     },
     "2e5d37beea154cffb25eee2495b02e2c": {
      "model_module": "@jupyter-widgets/controls",
      "model_module_version": "1.5.0",
      "model_name": "DescriptionStyleModel",
      "state": {
       "_model_module": "@jupyter-widgets/controls",
       "_model_module_version": "1.5.0",
       "_model_name": "DescriptionStyleModel",
       "_view_count": null,
       "_view_module": "@jupyter-widgets/base",
       "_view_module_version": "1.2.0",
       "_view_name": "StyleView",
       "description_width": ""
      }
     },
     "302f7b8767364458997c52bbf46892ca": {
      "model_module": "@jupyter-widgets/controls",
      "model_module_version": "1.5.0",
      "model_name": "FloatProgressModel",
      "state": {
       "_dom_classes": [],
       "_model_module": "@jupyter-widgets/controls",
       "_model_module_version": "1.5.0",
       "_model_name": "FloatProgressModel",
       "_view_count": null,
       "_view_module": "@jupyter-widgets/controls",
       "_view_module_version": "1.5.0",
       "_view_name": "ProgressView",
       "bar_style": "success",
       "description": "",
       "description_tooltip": null,
       "layout": "IPY_MODEL_61f51f3c0f6f4f85a5a45d3ea2bc4ba1",
       "max": 491.0,
       "min": 0.0,
       "orientation": "horizontal",
       "style": "IPY_MODEL_683e13115e6e42c984e6aebfd170d900",
       "value": 491.0
      }
     },
     "308a8e1046cc4c54aae0e51aae6ead7a": {
      "model_module": "@jupyter-widgets/controls",
      "model_module_version": "1.5.0",
      "model_name": "HBoxModel",
      "state": {
       "_dom_classes": [],
       "_model_module": "@jupyter-widgets/controls",
       "_model_module_version": "1.5.0",
       "_model_name": "HBoxModel",
       "_view_count": null,
       "_view_module": "@jupyter-widgets/controls",
       "_view_module_version": "1.5.0",
       "_view_name": "HBoxView",
       "box_style": "",
       "children": [
        "IPY_MODEL_9a76c6284d1441b699673d2dad3e979e",
        "IPY_MODEL_302f7b8767364458997c52bbf46892ca",
        "IPY_MODEL_6a71d229267b4c05953e3399cef7915a"
       ],
       "layout": "IPY_MODEL_ae3d5151a7e04474b567d0a73c4c9e60"
      }
     },
     "333c4a91de744bbfb095f258960580c7": {
      "model_module": "@jupyter-widgets/controls",
      "model_module_version": "1.5.0",
      "model_name": "FloatProgressModel",
      "state": {
       "_dom_classes": [],
       "_model_module": "@jupyter-widgets/controls",
       "_model_module_version": "1.5.0",
       "_model_name": "FloatProgressModel",
       "_view_count": null,
       "_view_module": "@jupyter-widgets/controls",
       "_view_module_version": "1.5.0",
       "_view_name": "ProgressView",
       "bar_style": "success",
       "description": "",
       "description_tooltip": null,
       "layout": "IPY_MODEL_43c26da02c894e2fabc4db4dff7fd6ad",
       "max": 7.0,
       "min": 0.0,
       "orientation": "horizontal",
       "style": "IPY_MODEL_11c28e8c24f84e8bae485d21661d6fb9",
       "value": 7.0
      }
     },
     "3f03d9307bcd48ca87639fd0f5644ca2": {
      "model_module": "@jupyter-widgets/controls",
      "model_module_version": "1.5.0",
      "model_name": "HTMLModel",
      "state": {
       "_dom_classes": [],
       "_model_module": "@jupyter-widgets/controls",
       "_model_module_version": "1.5.0",
       "_model_name": "HTMLModel",
       "_view_count": null,
       "_view_module": "@jupyter-widgets/controls",
       "_view_module_version": "1.5.0",
       "_view_name": "HTMLView",
       "description": "",
       "description_tooltip": null,
       "layout": "IPY_MODEL_0930b2f79f1c42078d653b2acb4bb5d4",
       "placeholder": "​",
       "style": "IPY_MODEL_634c5da6d35f40538d96a9d82ded18a5",
       "value": "Running tokenizer on dataset: 100%"
      }
     },
     "4346aedad1084ed18a0f047b2f988cbf": {
      "model_module": "@jupyter-widgets/base",
      "model_module_version": "1.2.0",
      "model_name": "LayoutModel",
      "state": {
       "_model_module": "@jupyter-widgets/base",
       "_model_module_version": "1.2.0",
       "_model_name": "LayoutModel",
       "_view_count": null,
       "_view_module": "@jupyter-widgets/base",
       "_view_module_version": "1.2.0",
       "_view_name": "LayoutView",
       "align_content": null,
       "align_items": null,
       "align_self": null,
       "border": null,
       "bottom": null,
       "display": null,
       "flex": null,
       "flex_flow": null,
       "grid_area": null,
       "grid_auto_columns": null,
       "grid_auto_flow": null,
       "grid_auto_rows": null,
       "grid_column": null,
       "grid_gap": null,
       "grid_row": null,
       "grid_template_areas": null,
       "grid_template_columns": null,
       "grid_template_rows": null,
       "height": null,
       "justify_content": null,
       "justify_items": null,
       "left": null,
       "margin": null,
       "max_height": null,
       "max_width": null,
       "min_height": null,
       "min_width": null,
       "object_fit": null,
       "object_position": null,
       "order": null,
       "overflow": null,
       "overflow_x": null,
       "overflow_y": null,
       "padding": null,
       "right": null,
       "top": null,
       "visibility": null,
       "width": null
      }
     },
     "43c26da02c894e2fabc4db4dff7fd6ad": {
      "model_module": "@jupyter-widgets/base",
      "model_module_version": "1.2.0",
      "model_name": "LayoutModel",
      "state": {
       "_model_module": "@jupyter-widgets/base",
       "_model_module_version": "1.2.0",
       "_model_name": "LayoutModel",
       "_view_count": null,
       "_view_module": "@jupyter-widgets/base",
       "_view_module_version": "1.2.0",
       "_view_name": "LayoutView",
       "align_content": null,
       "align_items": null,
       "align_self": null,
       "border": null,
       "bottom": null,
       "display": null,
       "flex": null,
       "flex_flow": null,
       "grid_area": null,
       "grid_auto_columns": null,
       "grid_auto_flow": null,
       "grid_auto_rows": null,
       "grid_column": null,
       "grid_gap": null,
       "grid_row": null,
       "grid_template_areas": null,
       "grid_template_columns": null,
       "grid_template_rows": null,
       "height": null,
       "justify_content": null,
       "justify_items": null,
       "left": null,
       "margin": null,
       "max_height": null,
       "max_width": null,
       "min_height": null,
       "min_width": null,
       "object_fit": null,
       "object_position": null,
       "order": null,
       "overflow": null,
       "overflow_x": null,
       "overflow_y": null,
       "padding": null,
       "right": null,
       "top": null,
       "visibility": null,
       "width": null
      }
     },
     "447e588e0a99444c8dc1e3850a238b86": {
      "model_module": "@jupyter-widgets/controls",
      "model_module_version": "1.5.0",
      "model_name": "DescriptionStyleModel",
      "state": {
       "_model_module": "@jupyter-widgets/controls",
       "_model_module_version": "1.5.0",
       "_model_name": "DescriptionStyleModel",
       "_view_count": null,
       "_view_module": "@jupyter-widgets/base",
       "_view_module_version": "1.2.0",
       "_view_name": "StyleView",
       "description_width": ""
      }
     },
     "4554e57d0bb4464ca1ce87ef5225cb70": {
      "model_module": "@jupyter-widgets/base",
      "model_module_version": "1.2.0",
      "model_name": "LayoutModel",
      "state": {
       "_model_module": "@jupyter-widgets/base",
       "_model_module_version": "1.2.0",
       "_model_name": "LayoutModel",
       "_view_count": null,
       "_view_module": "@jupyter-widgets/base",
       "_view_module_version": "1.2.0",
       "_view_name": "LayoutView",
       "align_content": null,
       "align_items": null,
       "align_self": null,
       "border": null,
       "bottom": null,
       "display": null,
       "flex": null,
       "flex_flow": null,
       "grid_area": null,
       "grid_auto_columns": null,
       "grid_auto_flow": null,
       "grid_auto_rows": null,
       "grid_column": null,
       "grid_gap": null,
       "grid_row": null,
       "grid_template_areas": null,
       "grid_template_columns": null,
       "grid_template_rows": null,
       "height": null,
       "justify_content": null,
       "justify_items": null,
       "left": null,
       "margin": null,
       "max_height": null,
       "max_width": null,
       "min_height": null,
       "min_width": null,
       "object_fit": null,
       "object_position": null,
       "order": null,
       "overflow": null,
       "overflow_x": null,
       "overflow_y": null,
       "padding": null,
       "right": null,
       "top": null,
       "visibility": null,
       "width": null
      }
     },
     "4953854120fc408e924fc300dfbdd1fe": {
      "model_module": "@jupyter-widgets/base",
      "model_module_version": "1.2.0",
      "model_name": "LayoutModel",
      "state": {
       "_model_module": "@jupyter-widgets/base",
       "_model_module_version": "1.2.0",
       "_model_name": "LayoutModel",
       "_view_count": null,
       "_view_module": "@jupyter-widgets/base",
       "_view_module_version": "1.2.0",
       "_view_name": "LayoutView",
       "align_content": null,
       "align_items": null,
       "align_self": null,
       "border": null,
       "bottom": null,
       "display": null,
       "flex": null,
       "flex_flow": null,
       "grid_area": null,
       "grid_auto_columns": null,
       "grid_auto_flow": null,
       "grid_auto_rows": null,
       "grid_column": null,
       "grid_gap": null,
       "grid_row": null,
       "grid_template_areas": null,
       "grid_template_columns": null,
       "grid_template_rows": null,
       "height": null,
       "justify_content": null,
       "justify_items": null,
       "left": null,
       "margin": null,
       "max_height": null,
       "max_width": null,
       "min_height": null,
       "min_width": null,
       "object_fit": null,
       "object_position": null,
       "order": null,
       "overflow": null,
       "overflow_x": null,
       "overflow_y": null,
       "padding": null,
       "right": null,
       "top": null,
       "visibility": null,
       "width": null
      }
     },
     "51e7b0e189b048f4b0785994224877ba": {
      "model_module": "@jupyter-widgets/base",
      "model_module_version": "1.2.0",
      "model_name": "LayoutModel",
      "state": {
       "_model_module": "@jupyter-widgets/base",
       "_model_module_version": "1.2.0",
       "_model_name": "LayoutModel",
       "_view_count": null,
       "_view_module": "@jupyter-widgets/base",
       "_view_module_version": "1.2.0",
       "_view_name": "LayoutView",
       "align_content": null,
       "align_items": null,
       "align_self": null,
       "border": null,
       "bottom": null,
       "display": null,
       "flex": null,
       "flex_flow": null,
       "grid_area": null,
       "grid_auto_columns": null,
       "grid_auto_flow": null,
       "grid_auto_rows": null,
       "grid_column": null,
       "grid_gap": null,
       "grid_row": null,
       "grid_template_areas": null,
       "grid_template_columns": null,
       "grid_template_rows": null,
       "height": null,
       "justify_content": null,
       "justify_items": null,
       "left": null,
       "margin": null,
       "max_height": null,
       "max_width": null,
       "min_height": null,
       "min_width": null,
       "object_fit": null,
       "object_position": null,
       "order": null,
       "overflow": null,
       "overflow_x": null,
       "overflow_y": null,
       "padding": null,
       "right": null,
       "top": null,
       "visibility": null,
       "width": null
      }
     },
     "5774a35c411b4393bfd0187eb8417863": {
      "model_module": "@jupyter-widgets/base",
      "model_module_version": "1.2.0",
      "model_name": "LayoutModel",
      "state": {
       "_model_module": "@jupyter-widgets/base",
       "_model_module_version": "1.2.0",
       "_model_name": "LayoutModel",
       "_view_count": null,
       "_view_module": "@jupyter-widgets/base",
       "_view_module_version": "1.2.0",
       "_view_name": "LayoutView",
       "align_content": null,
       "align_items": null,
       "align_self": null,
       "border": null,
       "bottom": null,
       "display": null,
       "flex": null,
       "flex_flow": null,
       "grid_area": null,
       "grid_auto_columns": null,
       "grid_auto_flow": null,
       "grid_auto_rows": null,
       "grid_column": null,
       "grid_gap": null,
       "grid_row": null,
       "grid_template_areas": null,
       "grid_template_columns": null,
       "grid_template_rows": null,
       "height": null,
       "justify_content": null,
       "justify_items": null,
       "left": null,
       "margin": null,
       "max_height": null,
       "max_width": null,
       "min_height": null,
       "min_width": null,
       "object_fit": null,
       "object_position": null,
       "order": null,
       "overflow": null,
       "overflow_x": null,
       "overflow_y": null,
       "padding": null,
       "right": null,
       "top": null,
       "visibility": null,
       "width": null
      }
     },
     "5aa34c921b7c4c00ae439c0259d0fc29": {
      "model_module": "@jupyter-widgets/controls",
      "model_module_version": "1.5.0",
      "model_name": "HBoxModel",
      "state": {
       "_dom_classes": [],
       "_model_module": "@jupyter-widgets/controls",
       "_model_module_version": "1.5.0",
       "_model_name": "HBoxModel",
       "_view_count": null,
       "_view_module": "@jupyter-widgets/controls",
       "_view_module_version": "1.5.0",
       "_view_name": "HBoxView",
       "box_style": "",
       "children": [
        "IPY_MODEL_807eefbcfbe74609bd73dd353cfdc1d9",
        "IPY_MODEL_7cb2e483a4bc45aab21f434c368d140a",
        "IPY_MODEL_67a6749fceb242999e5e0fb2bfbdffd6"
       ],
       "layout": "IPY_MODEL_6cf9439358dc4047920f32328ceb30fe"
      }
     },
     "5ed33193d93b4aa5bd374ccec2dc06e8": {
      "model_module": "@jupyter-widgets/base",
      "model_module_version": "1.2.0",
      "model_name": "LayoutModel",
      "state": {
       "_model_module": "@jupyter-widgets/base",
       "_model_module_version": "1.2.0",
       "_model_name": "LayoutModel",
       "_view_count": null,
       "_view_module": "@jupyter-widgets/base",
       "_view_module_version": "1.2.0",
       "_view_name": "LayoutView",
       "align_content": null,
       "align_items": null,
       "align_self": null,
       "border": null,
       "bottom": null,
       "display": null,
       "flex": null,
       "flex_flow": null,
       "grid_area": null,
       "grid_auto_columns": null,
       "grid_auto_flow": null,
       "grid_auto_rows": null,
       "grid_column": null,
       "grid_gap": null,
       "grid_row": null,
       "grid_template_areas": null,
       "grid_template_columns": null,
       "grid_template_rows": null,
       "height": null,
       "justify_content": null,
       "justify_items": null,
       "left": null,
       "margin": null,
       "max_height": null,
       "max_width": null,
       "min_height": null,
       "min_width": null,
       "object_fit": null,
       "object_position": null,
       "order": null,
       "overflow": null,
       "overflow_x": null,
       "overflow_y": null,
       "padding": null,
       "right": null,
       "top": null,
       "visibility": null,
       "width": null
      }
     },
     "5f0422d10e124ddf9716de101594fbf0": {
      "model_module": "@jupyter-widgets/base",
      "model_module_version": "1.2.0",
      "model_name": "LayoutModel",
      "state": {
       "_model_module": "@jupyter-widgets/base",
       "_model_module_version": "1.2.0",
       "_model_name": "LayoutModel",
       "_view_count": null,
       "_view_module": "@jupyter-widgets/base",
       "_view_module_version": "1.2.0",
       "_view_name": "LayoutView",
       "align_content": null,
       "align_items": null,
       "align_self": null,
       "border": null,
       "bottom": null,
       "display": null,
       "flex": null,
       "flex_flow": null,
       "grid_area": null,
       "grid_auto_columns": null,
       "grid_auto_flow": null,
       "grid_auto_rows": null,
       "grid_column": null,
       "grid_gap": null,
       "grid_row": null,
       "grid_template_areas": null,
       "grid_template_columns": null,
       "grid_template_rows": null,
       "height": null,
       "justify_content": null,
       "justify_items": null,
       "left": null,
       "margin": null,
       "max_height": null,
       "max_width": null,
       "min_height": null,
       "min_width": null,
       "object_fit": null,
       "object_position": null,
       "order": null,
       "overflow": null,
       "overflow_x": null,
       "overflow_y": null,
       "padding": null,
       "right": null,
       "top": null,
       "visibility": null,
       "width": null
      }
     },
     "605c8661cede4fdda08980753c6e08bd": {
      "model_module": "@jupyter-widgets/controls",
      "model_module_version": "1.5.0",
      "model_name": "HTMLModel",
      "state": {
       "_dom_classes": [],
       "_model_module": "@jupyter-widgets/controls",
       "_model_module_version": "1.5.0",
       "_model_name": "HTMLModel",
       "_view_count": null,
       "_view_module": "@jupyter-widgets/controls",
       "_view_module_version": "1.5.0",
       "_view_name": "HTMLView",
       "description": "",
       "description_tooltip": null,
       "layout": "IPY_MODEL_4554e57d0bb4464ca1ce87ef5225cb70",
       "placeholder": "​",
       "style": "IPY_MODEL_d45a74c77ad44f78abb068f0d1f4ac13",
       "value": " 36/36 [00:07&lt;00:00,  5.10ba/s]"
      }
     },
     "61f51f3c0f6f4f85a5a45d3ea2bc4ba1": {
      "model_module": "@jupyter-widgets/base",
      "model_module_version": "1.2.0",
      "model_name": "LayoutModel",
      "state": {
       "_model_module": "@jupyter-widgets/base",
       "_model_module_version": "1.2.0",
       "_model_name": "LayoutModel",
       "_view_count": null,
       "_view_module": "@jupyter-widgets/base",
       "_view_module_version": "1.2.0",
       "_view_name": "LayoutView",
       "align_content": null,
       "align_items": null,
       "align_self": null,
       "border": null,
       "bottom": null,
       "display": null,
       "flex": null,
       "flex_flow": null,
       "grid_area": null,
       "grid_auto_columns": null,
       "grid_auto_flow": null,
       "grid_auto_rows": null,
       "grid_column": null,
       "grid_gap": null,
       "grid_row": null,
       "grid_template_areas": null,
       "grid_template_columns": null,
       "grid_template_rows": null,
       "height": null,
       "justify_content": null,
       "justify_items": null,
       "left": null,
       "margin": null,
       "max_height": null,
       "max_width": null,
       "min_height": null,
       "min_width": null,
       "object_fit": null,
       "object_position": null,
       "order": null,
       "overflow": null,
       "overflow_x": null,
       "overflow_y": null,
       "padding": null,
       "right": null,
       "top": null,
       "visibility": null,
       "width": null
      }
     },
     "634c5da6d35f40538d96a9d82ded18a5": {
      "model_module": "@jupyter-widgets/controls",
      "model_module_version": "1.5.0",
      "model_name": "DescriptionStyleModel",
      "state": {
       "_model_module": "@jupyter-widgets/controls",
       "_model_module_version": "1.5.0",
       "_model_name": "DescriptionStyleModel",
       "_view_count": null,
       "_view_module": "@jupyter-widgets/base",
       "_view_module_version": "1.2.0",
       "_view_name": "StyleView",
       "description_width": ""
      }
     },
     "67a6749fceb242999e5e0fb2bfbdffd6": {
      "model_module": "@jupyter-widgets/controls",
      "model_module_version": "1.5.0",
      "model_name": "HTMLModel",
      "state": {
       "_dom_classes": [],
       "_model_module": "@jupyter-widgets/controls",
       "_model_module_version": "1.5.0",
       "_model_name": "HTMLModel",
       "_view_count": null,
       "_view_module": "@jupyter-widgets/controls",
       "_view_module_version": "1.5.0",
       "_view_name": "HTMLView",
       "description": "",
       "description_tooltip": null,
       "layout": "IPY_MODEL_7c85140e26c34d37b091ff34a6c35bd8",
       "placeholder": "​",
       "style": "IPY_MODEL_447e588e0a99444c8dc1e3850a238b86",
       "value": " 2.24M/2.24M [00:00&lt;00:00, 8.42MB/s]"
      }
     },
     "683e13115e6e42c984e6aebfd170d900": {
      "model_module": "@jupyter-widgets/controls",
      "model_module_version": "1.5.0",
      "model_name": "ProgressStyleModel",
      "state": {
       "_model_module": "@jupyter-widgets/controls",
       "_model_module_version": "1.5.0",
       "_model_name": "ProgressStyleModel",
       "_view_count": null,
       "_view_module": "@jupyter-widgets/base",
       "_view_module_version": "1.2.0",
       "_view_name": "StyleView",
       "bar_color": null,
       "description_width": ""
      }
     },
     "6a71d229267b4c05953e3399cef7915a": {
      "model_module": "@jupyter-widgets/controls",
      "model_module_version": "1.5.0",
      "model_name": "HTMLModel",
      "state": {
       "_dom_classes": [],
       "_model_module": "@jupyter-widgets/controls",
       "_model_module_version": "1.5.0",
       "_model_name": "HTMLModel",
       "_view_count": null,
       "_view_module": "@jupyter-widgets/controls",
       "_view_module_version": "1.5.0",
       "_view_name": "HTMLView",
       "description": "",
       "description_tooltip": null,
       "layout": "IPY_MODEL_23e1ba194a784c309b07ad16ebc933e3",
       "placeholder": "​",
       "style": "IPY_MODEL_77ed83ed4ca84419ae7978103c46c62f",
       "value": " 491/491 [00:00&lt;00:00, 28.9kB/s]"
      }
     },
     "6cf9439358dc4047920f32328ceb30fe": {
      "model_module": "@jupyter-widgets/base",
      "model_module_version": "1.2.0",
      "model_name": "LayoutModel",
      "state": {
       "_model_module": "@jupyter-widgets/base",
       "_model_module_version": "1.2.0",
       "_model_name": "LayoutModel",
       "_view_count": null,
       "_view_module": "@jupyter-widgets/base",
       "_view_module_version": "1.2.0",
       "_view_name": "LayoutView",
       "align_content": null,
       "align_items": null,
       "align_self": null,
       "border": null,
       "bottom": null,
       "display": null,
       "flex": null,
       "flex_flow": null,
       "grid_area": null,
       "grid_auto_columns": null,
       "grid_auto_flow": null,
       "grid_auto_rows": null,
       "grid_column": null,
       "grid_gap": null,
       "grid_row": null,
       "grid_template_areas": null,
       "grid_template_columns": null,
       "grid_template_rows": null,
       "height": null,
       "justify_content": null,
       "justify_items": null,
       "left": null,
       "margin": null,
       "max_height": null,
       "max_width": null,
       "min_height": null,
       "min_width": null,
       "object_fit": null,
       "object_position": null,
       "order": null,
       "overflow": null,
       "overflow_x": null,
       "overflow_y": null,
       "padding": null,
       "right": null,
       "top": null,
       "visibility": null,
       "width": null
      }
     },
     "6f2536a4b1634e8485480e5ed367ab5c": {
      "model_module": "@jupyter-widgets/controls",
      "model_module_version": "1.5.0",
      "model_name": "FloatProgressModel",
      "state": {
       "_dom_classes": [],
       "_model_module": "@jupyter-widgets/controls",
       "_model_module_version": "1.5.0",
       "_model_name": "FloatProgressModel",
       "_view_count": null,
       "_view_module": "@jupyter-widgets/controls",
       "_view_module_version": "1.5.0",
       "_view_name": "ProgressView",
       "bar_style": "success",
       "description": "",
       "description_tooltip": null,
       "layout": "IPY_MODEL_a81d52c2291e497ba1bcf6eed8eb2fbf",
       "max": 36.0,
       "min": 0.0,
       "orientation": "horizontal",
       "style": "IPY_MODEL_90931ce6057d42d3a14a70d9517680ad",
       "value": 36.0
      }
     },
     "74c9d687715c4ee8be7437591d4681ac": {
      "model_module": "@jupyter-widgets/base",
      "model_module_version": "1.2.0",
      "model_name": "LayoutModel",
      "state": {
       "_model_module": "@jupyter-widgets/base",
       "_model_module_version": "1.2.0",
       "_model_name": "LayoutModel",
       "_view_count": null,
       "_view_module": "@jupyter-widgets/base",
       "_view_module_version": "1.2.0",
       "_view_name": "LayoutView",
       "align_content": null,
       "align_items": null,
       "align_self": null,
       "border": null,
       "bottom": null,
       "display": null,
       "flex": null,
       "flex_flow": null,
       "grid_area": null,
       "grid_auto_columns": null,
       "grid_auto_flow": null,
       "grid_auto_rows": null,
       "grid_column": null,
       "grid_gap": null,
       "grid_row": null,
       "grid_template_areas": null,
       "grid_template_columns": null,
       "grid_template_rows": null,
       "height": null,
       "justify_content": null,
       "justify_items": null,
       "left": null,
       "margin": null,
       "max_height": null,
       "max_width": null,
       "min_height": null,
       "min_width": null,
       "object_fit": null,
       "object_position": null,
       "order": null,
       "overflow": null,
       "overflow_x": null,
       "overflow_y": null,
       "padding": null,
       "right": null,
       "top": null,
       "visibility": null,
       "width": null
      }
     },
     "77ed83ed4ca84419ae7978103c46c62f": {
      "model_module": "@jupyter-widgets/controls",
      "model_module_version": "1.5.0",
      "model_name": "DescriptionStyleModel",
      "state": {
       "_model_module": "@jupyter-widgets/controls",
       "_model_module_version": "1.5.0",
       "_model_name": "DescriptionStyleModel",
       "_view_count": null,
       "_view_module": "@jupyter-widgets/base",
       "_view_module_version": "1.2.0",
       "_view_name": "StyleView",
       "description_width": ""
      }
     },
     "7b54834b51cb43b8a663673923884785": {
      "model_module": "@jupyter-widgets/base",
      "model_module_version": "1.2.0",
      "model_name": "LayoutModel",
      "state": {
       "_model_module": "@jupyter-widgets/base",
       "_model_module_version": "1.2.0",
       "_model_name": "LayoutModel",
       "_view_count": null,
       "_view_module": "@jupyter-widgets/base",
       "_view_module_version": "1.2.0",
       "_view_name": "LayoutView",
       "align_content": null,
       "align_items": null,
       "align_self": null,
       "border": null,
       "bottom": null,
       "display": null,
       "flex": null,
       "flex_flow": null,
       "grid_area": null,
       "grid_auto_columns": null,
       "grid_auto_flow": null,
       "grid_auto_rows": null,
       "grid_column": null,
       "grid_gap": null,
       "grid_row": null,
       "grid_template_areas": null,
       "grid_template_columns": null,
       "grid_template_rows": null,
       "height": null,
       "justify_content": null,
       "justify_items": null,
       "left": null,
       "margin": null,
       "max_height": null,
       "max_width": null,
       "min_height": null,
       "min_width": null,
       "object_fit": null,
       "object_position": null,
       "order": null,
       "overflow": null,
       "overflow_x": null,
       "overflow_y": null,
       "padding": null,
       "right": null,
       "top": null,
       "visibility": null,
       "width": null
      }
     },
     "7c62a89c1afa44098a7ed2e3e84c60e7": {
      "model_module": "@jupyter-widgets/controls",
      "model_module_version": "1.5.0",
      "model_name": "HBoxModel",
      "state": {
       "_dom_classes": [],
       "_model_module": "@jupyter-widgets/controls",
       "_model_module_version": "1.5.0",
       "_model_name": "HBoxModel",
       "_view_count": null,
       "_view_module": "@jupyter-widgets/controls",
       "_view_module_version": "1.5.0",
       "_view_name": "HBoxView",
       "box_style": "",
       "children": [
        "IPY_MODEL_c9ff675936e24fdba290aeb630d09e52",
        "IPY_MODEL_c4d2e9e8342e422db97734245365cedd",
        "IPY_MODEL_21817a0a43304e4ab651935a3117a0b2"
       ],
       "layout": "IPY_MODEL_b3201f76b6fc4f5ca9ac1b45d6926af0"
      }
     },
     "7c85140e26c34d37b091ff34a6c35bd8": {
      "model_module": "@jupyter-widgets/base",
      "model_module_version": "1.2.0",
      "model_name": "LayoutModel",
      "state": {
       "_model_module": "@jupyter-widgets/base",
       "_model_module_version": "1.2.0",
       "_model_name": "LayoutModel",
       "_view_count": null,
       "_view_module": "@jupyter-widgets/base",
       "_view_module_version": "1.2.0",
       "_view_name": "LayoutView",
       "align_content": null,
       "align_items": null,
       "align_self": null,
       "border": null,
       "bottom": null,
       "display": null,
       "flex": null,
       "flex_flow": null,
       "grid_area": null,
       "grid_auto_columns": null,
       "grid_auto_flow": null,
       "grid_auto_rows": null,
       "grid_column": null,
       "grid_gap": null,
       "grid_row": null,
       "grid_template_areas": null,
       "grid_template_columns": null,
       "grid_template_rows": null,
       "height": null,
       "justify_content": null,
       "justify_items": null,
       "left": null,
       "margin": null,
       "max_height": null,
       "max_width": null,
       "min_height": null,
       "min_width": null,
       "object_fit": null,
       "object_position": null,
       "order": null,
       "overflow": null,
       "overflow_x": null,
       "overflow_y": null,
       "padding": null,
       "right": null,
       "top": null,
       "visibility": null,
       "width": null
      }
     },
     "7cb2e483a4bc45aab21f434c368d140a": {
      "model_module": "@jupyter-widgets/controls",
      "model_module_version": "1.5.0",
      "model_name": "FloatProgressModel",
      "state": {
       "_dom_classes": [],
       "_model_module": "@jupyter-widgets/controls",
       "_model_module_version": "1.5.0",
       "_model_name": "FloatProgressModel",
       "_view_count": null,
       "_view_module": "@jupyter-widgets/controls",
       "_view_module_version": "1.5.0",
       "_view_name": "ProgressView",
       "bar_style": "success",
       "description": "",
       "description_tooltip": null,
       "layout": "IPY_MODEL_4346aedad1084ed18a0f047b2f988cbf",
       "max": 2237676.0,
       "min": 0.0,
       "orientation": "horizontal",
       "style": "IPY_MODEL_ccb22ede1904471a844708d350032e13",
       "value": 2237676.0
      }
     },
     "807eefbcfbe74609bd73dd353cfdc1d9": {
      "model_module": "@jupyter-widgets/controls",
      "model_module_version": "1.5.0",
      "model_name": "HTMLModel",
      "state": {
       "_dom_classes": [],
       "_model_module": "@jupyter-widgets/controls",
       "_model_module_version": "1.5.0",
       "_model_name": "HTMLModel",
       "_view_count": null,
       "_view_module": "@jupyter-widgets/controls",
       "_view_module_version": "1.5.0",
       "_view_name": "HTMLView",
       "description": "",
       "description_tooltip": null,
       "layout": "IPY_MODEL_f864cfff68754ccca857030784fbe37b",
       "placeholder": "​",
       "style": "IPY_MODEL_10b8867b0d744d049e60c735dc873bff",
       "value": "Downloading (…)solve/main/vocab.txt: 100%"
      }
     },
     "81f5f440544944708689b09d97ef36c9": {
      "model_module": "@jupyter-widgets/controls",
      "model_module_version": "1.5.0",
      "model_name": "DescriptionStyleModel",
      "state": {
       "_model_module": "@jupyter-widgets/controls",
       "_model_module_version": "1.5.0",
       "_model_name": "DescriptionStyleModel",
       "_view_count": null,
       "_view_module": "@jupyter-widgets/base",
       "_view_module_version": "1.2.0",
       "_view_name": "StyleView",
       "description_width": ""
      }
     },
     "86dddfe81b1248929c51af69b39cb418": {
      "model_module": "@jupyter-widgets/controls",
      "model_module_version": "1.5.0",
      "model_name": "DescriptionStyleModel",
      "state": {
       "_model_module": "@jupyter-widgets/controls",
       "_model_module_version": "1.5.0",
       "_model_name": "DescriptionStyleModel",
       "_view_count": null,
       "_view_module": "@jupyter-widgets/base",
       "_view_module_version": "1.2.0",
       "_view_name": "StyleView",
       "description_width": ""
      }
     },
     "8906c36f86e643c1ae9128780b49a77a": {
      "model_module": "@jupyter-widgets/base",
      "model_module_version": "1.2.0",
      "model_name": "LayoutModel",
      "state": {
       "_model_module": "@jupyter-widgets/base",
       "_model_module_version": "1.2.0",
       "_model_name": "LayoutModel",
       "_view_count": null,
       "_view_module": "@jupyter-widgets/base",
       "_view_module_version": "1.2.0",
       "_view_name": "LayoutView",
       "align_content": null,
       "align_items": null,
       "align_self": null,
       "border": null,
       "bottom": null,
       "display": null,
       "flex": null,
       "flex_flow": null,
       "grid_area": null,
       "grid_auto_columns": null,
       "grid_auto_flow": null,
       "grid_auto_rows": null,
       "grid_column": null,
       "grid_gap": null,
       "grid_row": null,
       "grid_template_areas": null,
       "grid_template_columns": null,
       "grid_template_rows": null,
       "height": null,
       "justify_content": null,
       "justify_items": null,
       "left": null,
       "margin": null,
       "max_height": null,
       "max_width": null,
       "min_height": null,
       "min_width": null,
       "object_fit": null,
       "object_position": null,
       "order": null,
       "overflow": null,
       "overflow_x": null,
       "overflow_y": null,
       "padding": null,
       "right": null,
       "top": null,
       "visibility": null,
       "width": null
      }
     },
     "90931ce6057d42d3a14a70d9517680ad": {
      "model_module": "@jupyter-widgets/controls",
      "model_module_version": "1.5.0",
      "model_name": "ProgressStyleModel",
      "state": {
       "_model_module": "@jupyter-widgets/controls",
       "_model_module_version": "1.5.0",
       "_model_name": "ProgressStyleModel",
       "_view_count": null,
       "_view_module": "@jupyter-widgets/base",
       "_view_module_version": "1.2.0",
       "_view_name": "StyleView",
       "bar_color": null,
       "description_width": ""
      }
     },
     "918b895f6c0548e0a5dedc47de714be4": {
      "model_module": "@jupyter-widgets/base",
      "model_module_version": "1.2.0",
      "model_name": "LayoutModel",
      "state": {
       "_model_module": "@jupyter-widgets/base",
       "_model_module_version": "1.2.0",
       "_model_name": "LayoutModel",
       "_view_count": null,
       "_view_module": "@jupyter-widgets/base",
       "_view_module_version": "1.2.0",
       "_view_name": "LayoutView",
       "align_content": null,
       "align_items": null,
       "align_self": null,
       "border": null,
       "bottom": null,
       "display": null,
       "flex": null,
       "flex_flow": null,
       "grid_area": null,
       "grid_auto_columns": null,
       "grid_auto_flow": null,
       "grid_auto_rows": null,
       "grid_column": null,
       "grid_gap": null,
       "grid_row": null,
       "grid_template_areas": null,
       "grid_template_columns": null,
       "grid_template_rows": null,
       "height": null,
       "justify_content": null,
       "justify_items": null,
       "left": null,
       "margin": null,
       "max_height": null,
       "max_width": null,
       "min_height": null,
       "min_width": null,
       "object_fit": null,
       "object_position": null,
       "order": null,
       "overflow": null,
       "overflow_x": null,
       "overflow_y": null,
       "padding": null,
       "right": null,
       "top": null,
       "visibility": null,
       "width": null
      }
     },
     "9202d3509d75427d8e5573a70ac9d48d": {
      "model_module": "@jupyter-widgets/controls",
      "model_module_version": "1.5.0",
      "model_name": "ProgressStyleModel",
      "state": {
       "_model_module": "@jupyter-widgets/controls",
       "_model_module_version": "1.5.0",
       "_model_name": "ProgressStyleModel",
       "_view_count": null,
       "_view_module": "@jupyter-widgets/base",
       "_view_module_version": "1.2.0",
       "_view_name": "StyleView",
       "bar_color": null,
       "description_width": ""
      }
     },
     "94a892231f524665b8050bb5d02b2f21": {
      "model_module": "@jupyter-widgets/controls",
      "model_module_version": "1.5.0",
      "model_name": "DescriptionStyleModel",
      "state": {
       "_model_module": "@jupyter-widgets/controls",
       "_model_module_version": "1.5.0",
       "_model_name": "DescriptionStyleModel",
       "_view_count": null,
       "_view_module": "@jupyter-widgets/base",
       "_view_module_version": "1.2.0",
       "_view_name": "StyleView",
       "description_width": ""
      }
     },
     "9a76c6284d1441b699673d2dad3e979e": {
      "model_module": "@jupyter-widgets/controls",
      "model_module_version": "1.5.0",
      "model_name": "HTMLModel",
      "state": {
       "_dom_classes": [],
       "_model_module": "@jupyter-widgets/controls",
       "_model_module_version": "1.5.0",
       "_model_name": "HTMLModel",
       "_view_count": null,
       "_view_module": "@jupyter-widgets/controls",
       "_view_module_version": "1.5.0",
       "_view_name": "HTMLView",
       "description": "",
       "description_tooltip": null,
       "layout": "IPY_MODEL_918b895f6c0548e0a5dedc47de714be4",
       "placeholder": "​",
       "style": "IPY_MODEL_9a9b25c98dd645f6bab4d5615e772e97",
       "value": "Downloading (…)lve/main/config.json: 100%"
      }
     },
     "9a9b25c98dd645f6bab4d5615e772e97": {
      "model_module": "@jupyter-widgets/controls",
      "model_module_version": "1.5.0",
      "model_name": "DescriptionStyleModel",
      "state": {
       "_model_module": "@jupyter-widgets/controls",
       "_model_module_version": "1.5.0",
       "_model_name": "DescriptionStyleModel",
       "_view_count": null,
       "_view_module": "@jupyter-widgets/base",
       "_view_module_version": "1.2.0",
       "_view_name": "StyleView",
       "description_width": ""
      }
     },
     "a0deee893beb4eda8f5fa165c6b8632d": {
      "model_module": "@jupyter-widgets/controls",
      "model_module_version": "1.5.0",
      "model_name": "HTMLModel",
      "state": {
       "_dom_classes": [],
       "_model_module": "@jupyter-widgets/controls",
       "_model_module_version": "1.5.0",
       "_model_name": "HTMLModel",
       "_view_count": null,
       "_view_module": "@jupyter-widgets/controls",
       "_view_module_version": "1.5.0",
       "_view_name": "HTMLView",
       "description": "",
       "description_tooltip": null,
       "layout": "IPY_MODEL_5774a35c411b4393bfd0187eb8417863",
       "placeholder": "​",
       "style": "IPY_MODEL_86dddfe81b1248929c51af69b39cb418",
       "value": "Downloading builder script: 100%"
      }
     },
     "a81d52c2291e497ba1bcf6eed8eb2fbf": {
      "model_module": "@jupyter-widgets/base",
      "model_module_version": "1.2.0",
      "model_name": "LayoutModel",
      "state": {
       "_model_module": "@jupyter-widgets/base",
       "_model_module_version": "1.2.0",
       "_model_name": "LayoutModel",
       "_view_count": null,
       "_view_module": "@jupyter-widgets/base",
       "_view_module_version": "1.2.0",
       "_view_name": "LayoutView",
       "align_content": null,
       "align_items": null,
       "align_self": null,
       "border": null,
       "bottom": null,
       "display": null,
       "flex": null,
       "flex_flow": null,
       "grid_area": null,
       "grid_auto_columns": null,
       "grid_auto_flow": null,
       "grid_auto_rows": null,
       "grid_column": null,
       "grid_gap": null,
       "grid_row": null,
       "grid_template_areas": null,
       "grid_template_columns": null,
       "grid_template_rows": null,
       "height": null,
       "justify_content": null,
       "justify_items": null,
       "left": null,
       "margin": null,
       "max_height": null,
       "max_width": null,
       "min_height": null,
       "min_width": null,
       "object_fit": null,
       "object_position": null,
       "order": null,
       "overflow": null,
       "overflow_x": null,
       "overflow_y": null,
       "padding": null,
       "right": null,
       "top": null,
       "visibility": null,
       "width": null
      }
     },
     "a8e177e5b1a84c5e827c0f28a9f3a63b": {
      "model_module": "@jupyter-widgets/controls",
      "model_module_version": "1.5.0",
      "model_name": "HBoxModel",
      "state": {
       "_dom_classes": [],
       "_model_module": "@jupyter-widgets/controls",
       "_model_module_version": "1.5.0",
       "_model_name": "HBoxModel",
       "_view_count": null,
       "_view_module": "@jupyter-widgets/controls",
       "_view_module_version": "1.5.0",
       "_view_name": "HBoxView",
       "box_style": "",
       "children": [
        "IPY_MODEL_3f03d9307bcd48ca87639fd0f5644ca2",
        "IPY_MODEL_6f2536a4b1634e8485480e5ed367ab5c",
        "IPY_MODEL_605c8661cede4fdda08980753c6e08bd"
       ],
       "layout": "IPY_MODEL_b1c3f937f96040d580927140e2c867bc"
      }
     },
     "ab26622488554197ab0956a86828417f": {
      "model_module": "@jupyter-widgets/controls",
      "model_module_version": "1.5.0",
      "model_name": "HTMLModel",
      "state": {
       "_dom_classes": [],
       "_model_module": "@jupyter-widgets/controls",
       "_model_module_version": "1.5.0",
       "_model_name": "HTMLModel",
       "_view_count": null,
       "_view_module": "@jupyter-widgets/controls",
       "_view_module_version": "1.5.0",
       "_view_name": "HTMLView",
       "description": "",
       "description_tooltip": null,
       "layout": "IPY_MODEL_bac29c65dc714bccb345344be63cb2d7",
       "placeholder": "​",
       "style": "IPY_MODEL_94a892231f524665b8050bb5d02b2f21",
       "value": " 4.20k/4.20k [00:00&lt;00:00, 240kB/s]"
      }
     },
     "ae3d5151a7e04474b567d0a73c4c9e60": {
      "model_module": "@jupyter-widgets/base",
      "model_module_version": "1.2.0",
      "model_name": "LayoutModel",
      "state": {
       "_model_module": "@jupyter-widgets/base",
       "_model_module_version": "1.2.0",
       "_model_name": "LayoutModel",
       "_view_count": null,
       "_view_module": "@jupyter-widgets/base",
       "_view_module_version": "1.2.0",
       "_view_name": "LayoutView",
       "align_content": null,
       "align_items": null,
       "align_self": null,
       "border": null,
       "bottom": null,
       "display": null,
       "flex": null,
       "flex_flow": null,
       "grid_area": null,
       "grid_auto_columns": null,
       "grid_auto_flow": null,
       "grid_auto_rows": null,
       "grid_column": null,
       "grid_gap": null,
       "grid_row": null,
       "grid_template_areas": null,
       "grid_template_columns": null,
       "grid_template_rows": null,
       "height": null,
       "justify_content": null,
       "justify_items": null,
       "left": null,
       "margin": null,
       "max_height": null,
       "max_width": null,
       "min_height": null,
       "min_width": null,
       "object_fit": null,
       "object_position": null,
       "order": null,
       "overflow": null,
       "overflow_x": null,
       "overflow_y": null,
       "padding": null,
       "right": null,
       "top": null,
       "visibility": null,
       "width": null
      }
     },
     "b1c3f937f96040d580927140e2c867bc": {
      "model_module": "@jupyter-widgets/base",
      "model_module_version": "1.2.0",
      "model_name": "LayoutModel",
      "state": {
       "_model_module": "@jupyter-widgets/base",
       "_model_module_version": "1.2.0",
       "_model_name": "LayoutModel",
       "_view_count": null,
       "_view_module": "@jupyter-widgets/base",
       "_view_module_version": "1.2.0",
       "_view_name": "LayoutView",
       "align_content": null,
       "align_items": null,
       "align_self": null,
       "border": null,
       "bottom": null,
       "display": null,
       "flex": null,
       "flex_flow": null,
       "grid_area": null,
       "grid_auto_columns": null,
       "grid_auto_flow": null,
       "grid_auto_rows": null,
       "grid_column": null,
       "grid_gap": null,
       "grid_row": null,
       "grid_template_areas": null,
       "grid_template_columns": null,
       "grid_template_rows": null,
       "height": null,
       "justify_content": null,
       "justify_items": null,
       "left": null,
       "margin": null,
       "max_height": null,
       "max_width": null,
       "min_height": null,
       "min_width": null,
       "object_fit": null,
       "object_position": null,
       "order": null,
       "overflow": null,
       "overflow_x": null,
       "overflow_y": null,
       "padding": null,
       "right": null,
       "top": null,
       "visibility": null,
       "width": null
      }
     },
     "b3201f76b6fc4f5ca9ac1b45d6926af0": {
      "model_module": "@jupyter-widgets/base",
      "model_module_version": "1.2.0",
      "model_name": "LayoutModel",
      "state": {
       "_model_module": "@jupyter-widgets/base",
       "_model_module_version": "1.2.0",
       "_model_name": "LayoutModel",
       "_view_count": null,
       "_view_module": "@jupyter-widgets/base",
       "_view_module_version": "1.2.0",
       "_view_name": "LayoutView",
       "align_content": null,
       "align_items": null,
       "align_self": null,
       "border": null,
       "bottom": null,
       "display": null,
       "flex": null,
       "flex_flow": null,
       "grid_area": null,
       "grid_auto_columns": null,
       "grid_auto_flow": null,
       "grid_auto_rows": null,
       "grid_column": null,
       "grid_gap": null,
       "grid_row": null,
       "grid_template_areas": null,
       "grid_template_columns": null,
       "grid_template_rows": null,
       "height": null,
       "justify_content": null,
       "justify_items": null,
       "left": null,
       "margin": null,
       "max_height": null,
       "max_width": null,
       "min_height": null,
       "min_width": null,
       "object_fit": null,
       "object_position": null,
       "order": null,
       "overflow": null,
       "overflow_x": null,
       "overflow_y": null,
       "padding": null,
       "right": null,
       "top": null,
       "visibility": null,
       "width": null
      }
     },
     "ba2adeb1f92c4574b3e785c638858e2a": {
      "model_module": "@jupyter-widgets/controls",
      "model_module_version": "1.5.0",
      "model_name": "DescriptionStyleModel",
      "state": {
       "_model_module": "@jupyter-widgets/controls",
       "_model_module_version": "1.5.0",
       "_model_name": "DescriptionStyleModel",
       "_view_count": null,
       "_view_module": "@jupyter-widgets/base",
       "_view_module_version": "1.2.0",
       "_view_name": "StyleView",
       "description_width": ""
      }
     },
     "bac29c65dc714bccb345344be63cb2d7": {
      "model_module": "@jupyter-widgets/base",
      "model_module_version": "1.2.0",
      "model_name": "LayoutModel",
      "state": {
       "_model_module": "@jupyter-widgets/base",
       "_model_module_version": "1.2.0",
       "_model_name": "LayoutModel",
       "_view_count": null,
       "_view_module": "@jupyter-widgets/base",
       "_view_module_version": "1.2.0",
       "_view_name": "LayoutView",
       "align_content": null,
       "align_items": null,
       "align_self": null,
       "border": null,
       "bottom": null,
       "display": null,
       "flex": null,
       "flex_flow": null,
       "grid_area": null,
       "grid_auto_columns": null,
       "grid_auto_flow": null,
       "grid_auto_rows": null,
       "grid_column": null,
       "grid_gap": null,
       "grid_row": null,
       "grid_template_areas": null,
       "grid_template_columns": null,
       "grid_template_rows": null,
       "height": null,
       "justify_content": null,
       "justify_items": null,
       "left": null,
       "margin": null,
       "max_height": null,
       "max_width": null,
       "min_height": null,
       "min_width": null,
       "object_fit": null,
       "object_position": null,
       "order": null,
       "overflow": null,
       "overflow_x": null,
       "overflow_y": null,
       "padding": null,
       "right": null,
       "top": null,
       "visibility": null,
       "width": null
      }
     },
     "bacdac8565f248ed84ada6771e94bbe3": {
      "model_module": "@jupyter-widgets/base",
      "model_module_version": "1.2.0",
      "model_name": "LayoutModel",
      "state": {
       "_model_module": "@jupyter-widgets/base",
       "_model_module_version": "1.2.0",
       "_model_name": "LayoutModel",
       "_view_count": null,
       "_view_module": "@jupyter-widgets/base",
       "_view_module_version": "1.2.0",
       "_view_name": "LayoutView",
       "align_content": null,
       "align_items": null,
       "align_self": null,
       "border": null,
       "bottom": null,
       "display": null,
       "flex": null,
       "flex_flow": null,
       "grid_area": null,
       "grid_auto_columns": null,
       "grid_auto_flow": null,
       "grid_auto_rows": null,
       "grid_column": null,
       "grid_gap": null,
       "grid_row": null,
       "grid_template_areas": null,
       "grid_template_columns": null,
       "grid_template_rows": null,
       "height": null,
       "justify_content": null,
       "justify_items": null,
       "left": null,
       "margin": null,
       "max_height": null,
       "max_width": null,
       "min_height": null,
       "min_width": null,
       "object_fit": null,
       "object_position": null,
       "order": null,
       "overflow": null,
       "overflow_x": null,
       "overflow_y": null,
       "padding": null,
       "right": null,
       "top": null,
       "visibility": null,
       "width": null
      }
     },
     "bd4bbf7268034a48b60e11de310c6ff4": {
      "model_module": "@jupyter-widgets/base",
      "model_module_version": "1.2.0",
      "model_name": "LayoutModel",
      "state": {
       "_model_module": "@jupyter-widgets/base",
       "_model_module_version": "1.2.0",
       "_model_name": "LayoutModel",
       "_view_count": null,
       "_view_module": "@jupyter-widgets/base",
       "_view_module_version": "1.2.0",
       "_view_name": "LayoutView",
       "align_content": null,
       "align_items": null,
       "align_self": null,
       "border": null,
       "bottom": null,
       "display": null,
       "flex": null,
       "flex_flow": null,
       "grid_area": null,
       "grid_auto_columns": null,
       "grid_auto_flow": null,
       "grid_auto_rows": null,
       "grid_column": null,
       "grid_gap": null,
       "grid_row": null,
       "grid_template_areas": null,
       "grid_template_columns": null,
       "grid_template_rows": null,
       "height": null,
       "justify_content": null,
       "justify_items": null,
       "left": null,
       "margin": null,
       "max_height": null,
       "max_width": null,
       "min_height": null,
       "min_width": null,
       "object_fit": null,
       "object_position": null,
       "order": null,
       "overflow": null,
       "overflow_x": null,
       "overflow_y": null,
       "padding": null,
       "right": null,
       "top": null,
       "visibility": null,
       "width": null
      }
     },
     "bd63bd3abf9b4dc3b604869d87923f04": {
      "model_module": "@jupyter-widgets/controls",
      "model_module_version": "1.5.0",
      "model_name": "HTMLModel",
      "state": {
       "_dom_classes": [],
       "_model_module": "@jupyter-widgets/controls",
       "_model_module_version": "1.5.0",
       "_model_name": "HTMLModel",
       "_view_count": null,
       "_view_module": "@jupyter-widgets/controls",
       "_view_module_version": "1.5.0",
       "_view_name": "HTMLView",
       "description": "",
       "description_tooltip": null,
       "layout": "IPY_MODEL_bacdac8565f248ed84ada6771e94bbe3",
       "placeholder": "​",
       "style": "IPY_MODEL_81f5f440544944708689b09d97ef36c9",
       "value": "Running tokenizer on dataset: 100%"
      }
     },
     "c4d2e9e8342e422db97734245365cedd": {
      "model_module": "@jupyter-widgets/controls",
      "model_module_version": "1.5.0",
      "model_name": "FloatProgressModel",
      "state": {
       "_dom_classes": [],
       "_model_module": "@jupyter-widgets/controls",
       "_model_module_version": "1.5.0",
       "_model_name": "FloatProgressModel",
       "_view_count": null,
       "_view_module": "@jupyter-widgets/controls",
       "_view_module_version": "1.5.0",
       "_view_name": "ProgressView",
       "bar_style": "success",
       "description": "",
       "description_tooltip": null,
       "layout": "IPY_MODEL_4953854120fc408e924fc300dfbdd1fe",
       "max": 660393036.0,
       "min": 0.0,
       "orientation": "horizontal",
       "style": "IPY_MODEL_9202d3509d75427d8e5573a70ac9d48d",
       "value": 660393036.0
      }
     },
     "c94e376d738b4c2db4678bc04f64adc1": {
      "model_module": "@jupyter-widgets/controls",
      "model_module_version": "1.5.0",
      "model_name": "DescriptionStyleModel",
      "state": {
       "_model_module": "@jupyter-widgets/controls",
       "_model_module_version": "1.5.0",
       "_model_name": "DescriptionStyleModel",
       "_view_count": null,
       "_view_module": "@jupyter-widgets/base",
       "_view_module_version": "1.2.0",
       "_view_name": "StyleView",
       "description_width": ""
      }
     },
     "c9ff675936e24fdba290aeb630d09e52": {
      "model_module": "@jupyter-widgets/controls",
      "model_module_version": "1.5.0",
      "model_name": "HTMLModel",
      "state": {
       "_dom_classes": [],
       "_model_module": "@jupyter-widgets/controls",
       "_model_module_version": "1.5.0",
       "_model_name": "HTMLModel",
       "_view_count": null,
       "_view_module": "@jupyter-widgets/controls",
       "_view_module_version": "1.5.0",
       "_view_name": "HTMLView",
       "description": "",
       "description_tooltip": null,
       "layout": "IPY_MODEL_8906c36f86e643c1ae9128780b49a77a",
       "placeholder": "​",
       "style": "IPY_MODEL_2e5d37beea154cffb25eee2495b02e2c",
       "value": "Downloading model.safetensors: 100%"
      }
     },
     "ccb22ede1904471a844708d350032e13": {
      "model_module": "@jupyter-widgets/controls",
      "model_module_version": "1.5.0",
      "model_name": "ProgressStyleModel",
      "state": {
       "_model_module": "@jupyter-widgets/controls",
       "_model_module_version": "1.5.0",
       "_model_name": "ProgressStyleModel",
       "_view_count": null,
       "_view_module": "@jupyter-widgets/base",
       "_view_module_version": "1.2.0",
       "_view_name": "StyleView",
       "bar_color": null,
       "description_width": ""
      }
     },
     "d45a74c77ad44f78abb068f0d1f4ac13": {
      "model_module": "@jupyter-widgets/controls",
      "model_module_version": "1.5.0",
      "model_name": "DescriptionStyleModel",
      "state": {
       "_model_module": "@jupyter-widgets/controls",
       "_model_module_version": "1.5.0",
       "_model_name": "DescriptionStyleModel",
       "_view_count": null,
       "_view_module": "@jupyter-widgets/base",
       "_view_module_version": "1.2.0",
       "_view_name": "StyleView",
       "description_width": ""
      }
     },
     "d59817c295f34c8c966fde5286a1cf3d": {
      "model_module": "@jupyter-widgets/controls",
      "model_module_version": "1.5.0",
      "model_name": "HBoxModel",
      "state": {
       "_dom_classes": [],
       "_model_module": "@jupyter-widgets/controls",
       "_model_module_version": "1.5.0",
       "_model_name": "HBoxModel",
       "_view_count": null,
       "_view_module": "@jupyter-widgets/controls",
       "_view_module_version": "1.5.0",
       "_view_name": "HBoxView",
       "box_style": "",
       "children": [
        "IPY_MODEL_bd63bd3abf9b4dc3b604869d87923f04",
        "IPY_MODEL_333c4a91de744bbfb095f258960580c7",
        "IPY_MODEL_ed1eff6c384b451c9fcd0e67c63021b9"
       ],
       "layout": "IPY_MODEL_1d39c6b8fdf64c0abfcb7e0a451bd2be"
      }
     },
     "dc06475cbce94002845337c3c8c631ec": {
      "model_module": "@jupyter-widgets/controls",
      "model_module_version": "1.5.0",
      "model_name": "HTMLModel",
      "state": {
       "_dom_classes": [],
       "_model_module": "@jupyter-widgets/controls",
       "_model_module_version": "1.5.0",
       "_model_name": "HTMLModel",
       "_view_count": null,
       "_view_module": "@jupyter-widgets/controls",
       "_view_module_version": "1.5.0",
       "_view_name": "HTMLView",
       "description": "",
       "description_tooltip": null,
       "layout": "IPY_MODEL_5ed33193d93b4aa5bd374ccec2dc06e8",
       "placeholder": "​",
       "style": "IPY_MODEL_03d125dd4c9947a6a7ee06cb41c6a9b1",
       "value": "Running tokenizer on dataset: 100%"
      }
     },
     "dccd72bec6524ffc965ecf7a60caa509": {
      "model_module": "@jupyter-widgets/controls",
      "model_module_version": "1.5.0",
      "model_name": "ProgressStyleModel",
      "state": {
       "_model_module": "@jupyter-widgets/controls",
       "_model_module_version": "1.5.0",
       "_model_name": "ProgressStyleModel",
       "_view_count": null,
       "_view_module": "@jupyter-widgets/base",
       "_view_module_version": "1.2.0",
       "_view_name": "StyleView",
       "bar_color": null,
       "description_width": ""
      }
     },
     "df5652e6d96843f4ad6d69a764c3c300": {
      "model_module": "@jupyter-widgets/controls",
      "model_module_version": "1.5.0",
      "model_name": "DescriptionStyleModel",
      "state": {
       "_model_module": "@jupyter-widgets/controls",
       "_model_module_version": "1.5.0",
       "_model_name": "DescriptionStyleModel",
       "_view_count": null,
       "_view_module": "@jupyter-widgets/base",
       "_view_module_version": "1.2.0",
       "_view_name": "StyleView",
       "description_width": ""
      }
     },
     "ed1eff6c384b451c9fcd0e67c63021b9": {
      "model_module": "@jupyter-widgets/controls",
      "model_module_version": "1.5.0",
      "model_name": "HTMLModel",
      "state": {
       "_dom_classes": [],
       "_model_module": "@jupyter-widgets/controls",
       "_model_module_version": "1.5.0",
       "_model_name": "HTMLModel",
       "_view_count": null,
       "_view_module": "@jupyter-widgets/controls",
       "_view_module_version": "1.5.0",
       "_view_name": "HTMLView",
       "description": "",
       "description_tooltip": null,
       "layout": "IPY_MODEL_bd4bbf7268034a48b60e11de310c6ff4",
       "placeholder": "​",
       "style": "IPY_MODEL_ba2adeb1f92c4574b3e785c638858e2a",
       "value": " 7/7 [00:01&lt;00:00,  5.88ba/s]"
      }
     },
     "f864cfff68754ccca857030784fbe37b": {
      "model_module": "@jupyter-widgets/base",
      "model_module_version": "1.2.0",
      "model_name": "LayoutModel",
      "state": {
       "_model_module": "@jupyter-widgets/base",
       "_model_module_version": "1.2.0",
       "_model_name": "LayoutModel",
       "_view_count": null,
       "_view_module": "@jupyter-widgets/base",
       "_view_module_version": "1.2.0",
       "_view_name": "LayoutView",
       "align_content": null,
       "align_items": null,
       "align_self": null,
       "border": null,
       "bottom": null,
       "display": null,
       "flex": null,
       "flex_flow": null,
       "grid_area": null,
       "grid_auto_columns": null,
       "grid_auto_flow": null,
       "grid_auto_rows": null,
       "grid_column": null,
       "grid_gap": null,
       "grid_row": null,
       "grid_template_areas": null,
       "grid_template_columns": null,
       "grid_template_rows": null,
       "height": null,
       "justify_content": null,
       "justify_items": null,
       "left": null,
       "margin": null,
       "max_height": null,
       "max_width": null,
       "min_height": null,
       "min_width": null,
       "object_fit": null,
       "object_position": null,
       "order": null,
       "overflow": null,
       "overflow_x": null,
       "overflow_y": null,
       "padding": null,
       "right": null,
       "top": null,
       "visibility": null,
       "width": null
      }
     }
    },
    "version_major": 2,
    "version_minor": 0
   }
  }
 },
 "nbformat": 4,
 "nbformat_minor": 5
}
